{
 "cells": [
  {
   "cell_type": "code",
   "execution_count": 1,
   "id": "24c4bb29-212f-4282-8d1e-e8006d53d5f3",
   "metadata": {
    "tags": []
   },
   "outputs": [],
   "source": [
    "import pandas as pd\n",
    "import numpy as np\n",
    "import csv"
   ]
  },
  {
   "cell_type": "markdown",
   "id": "f743a0ca-65e6-4298-852b-9e50f92cbe38",
   "metadata": {},
   "source": [
    "# 1 : Climate\n",
    "\n",
    "* Used in tables Country and Climate Metrics"
   ]
  },
  {
   "cell_type": "code",
   "execution_count": 2,
   "id": "6f33dc06-7b6d-4385-b38d-4977e37b24b7",
   "metadata": {
    "tags": []
   },
   "outputs": [
    {
     "data": {
      "text/plain": [
       "(10000, 9)"
      ]
     },
     "execution_count": 2,
     "metadata": {},
     "output_type": "execute_result"
    }
   ],
   "source": [
    "climate = pd.read_csv(\"climate_change_data.csv\", parse_dates = True)\n",
    "climate.shape"
   ]
  },
  {
   "cell_type": "code",
   "execution_count": 123,
   "id": "812fd7b1-9a46-4e86-b99d-c38c9174d0d6",
   "metadata": {
    "tags": []
   },
   "outputs": [
    {
     "data": {
      "text/plain": [
       "(3044, 9)"
      ]
     },
     "execution_count": 123,
     "metadata": {},
     "output_type": "execute_result"
    }
   ],
   "source": [
    "# Relevant Years - most recent climate metircs\n",
    "climate = climate[(climate['Date'] >= '2015') & (climate['Date'] < '2022')]\n",
    "climate.shape"
   ]
  },
  {
   "cell_type": "code",
   "execution_count": 3,
   "id": "b7e8c9b0-ba2c-45f7-8615-d87cc7e1c893",
   "metadata": {
    "tags": []
   },
   "outputs": [
    {
     "data": {
      "text/plain": [
       "Date              0\n",
       "Location          0\n",
       "Country           0\n",
       "Temperature       0\n",
       "CO2 Emissions     0\n",
       "Sea Level Rise    0\n",
       "Precipitation     0\n",
       "Humidity          0\n",
       "Wind Speed        0\n",
       "dtype: int64"
      ]
     },
     "execution_count": 3,
     "metadata": {},
     "output_type": "execute_result"
    }
   ],
   "source": [
    "# check for missing data\n",
    "climate.isnull().sum()"
   ]
  },
  {
   "cell_type": "code",
   "execution_count": 4,
   "id": "1f75b58b-f810-40a9-b3b9-6fe674c29b59",
   "metadata": {
    "tags": []
   },
   "outputs": [
    {
     "data": {
      "text/plain": [
       "Index(['Date', 'Location', 'Country', 'Temperature', 'CO2 Emissions',\n",
       "       'Sea Level Rise', 'Precipitation', 'Humidity', 'Wind Speed'],\n",
       "      dtype='object')"
      ]
     },
     "execution_count": 4,
     "metadata": {},
     "output_type": "execute_result"
    }
   ],
   "source": [
    "# columns present in dataset\n",
    "climate.columns"
   ]
  },
  {
   "cell_type": "code",
   "execution_count": 5,
   "id": "60f09021-6ad0-454f-8574-f7cc994e56fb",
   "metadata": {
    "tags": []
   },
   "outputs": [
    {
     "data": {
      "text/html": [
       "<div>\n",
       "<style scoped>\n",
       "    .dataframe tbody tr th:only-of-type {\n",
       "        vertical-align: middle;\n",
       "    }\n",
       "\n",
       "    .dataframe tbody tr th {\n",
       "        vertical-align: top;\n",
       "    }\n",
       "\n",
       "    .dataframe thead th {\n",
       "        text-align: right;\n",
       "    }\n",
       "</style>\n",
       "<table border=\"1\" class=\"dataframe\">\n",
       "  <thead>\n",
       "    <tr style=\"text-align: right;\">\n",
       "      <th></th>\n",
       "      <th>Year_Recorded</th>\n",
       "      <th>Location</th>\n",
       "      <th>Country_Name</th>\n",
       "      <th>Temperature</th>\n",
       "      <th>CO2 Emissions</th>\n",
       "      <th>Sea Level Rise</th>\n",
       "      <th>Precipitation</th>\n",
       "      <th>Humidity</th>\n",
       "      <th>Wind Speed</th>\n",
       "    </tr>\n",
       "  </thead>\n",
       "  <tbody>\n",
       "    <tr>\n",
       "      <th>0</th>\n",
       "      <td>2000-01-01 00:00:00.000000000</td>\n",
       "      <td>New Williamtown</td>\n",
       "      <td>Latvia</td>\n",
       "      <td>10.688986</td>\n",
       "      <td>403.118903</td>\n",
       "      <td>0.717506</td>\n",
       "      <td>13.835237</td>\n",
       "      <td>23.631256</td>\n",
       "      <td>18.492026</td>\n",
       "    </tr>\n",
       "    <tr>\n",
       "      <th>1</th>\n",
       "      <td>2000-01-01 20:09:43.258325832</td>\n",
       "      <td>North Rachel</td>\n",
       "      <td>South Africa</td>\n",
       "      <td>13.814430</td>\n",
       "      <td>396.663499</td>\n",
       "      <td>1.205715</td>\n",
       "      <td>40.974084</td>\n",
       "      <td>43.982946</td>\n",
       "      <td>34.249300</td>\n",
       "    </tr>\n",
       "    <tr>\n",
       "      <th>2</th>\n",
       "      <td>2000-01-02 16:19:26.516651665</td>\n",
       "      <td>West Williamland</td>\n",
       "      <td>French Guiana</td>\n",
       "      <td>27.323718</td>\n",
       "      <td>451.553155</td>\n",
       "      <td>-0.160783</td>\n",
       "      <td>42.697931</td>\n",
       "      <td>96.652600</td>\n",
       "      <td>34.124261</td>\n",
       "    </tr>\n",
       "    <tr>\n",
       "      <th>3</th>\n",
       "      <td>2000-01-03 12:29:09.774977497</td>\n",
       "      <td>South David</td>\n",
       "      <td>Vietnam</td>\n",
       "      <td>12.309581</td>\n",
       "      <td>422.404983</td>\n",
       "      <td>-0.475931</td>\n",
       "      <td>5.193341</td>\n",
       "      <td>47.467938</td>\n",
       "      <td>8.554563</td>\n",
       "    </tr>\n",
       "    <tr>\n",
       "      <th>4</th>\n",
       "      <td>2000-01-04 08:38:53.033303330</td>\n",
       "      <td>New Scottburgh</td>\n",
       "      <td>Moldova</td>\n",
       "      <td>13.210885</td>\n",
       "      <td>410.472999</td>\n",
       "      <td>1.135757</td>\n",
       "      <td>78.695280</td>\n",
       "      <td>61.789672</td>\n",
       "      <td>8.001164</td>\n",
       "    </tr>\n",
       "  </tbody>\n",
       "</table>\n",
       "</div>"
      ],
      "text/plain": [
       "                   Year_Recorded          Location   Country_Name  \\\n",
       "0  2000-01-01 00:00:00.000000000   New Williamtown         Latvia   \n",
       "1  2000-01-01 20:09:43.258325832      North Rachel   South Africa   \n",
       "2  2000-01-02 16:19:26.516651665  West Williamland  French Guiana   \n",
       "3  2000-01-03 12:29:09.774977497       South David        Vietnam   \n",
       "4  2000-01-04 08:38:53.033303330    New Scottburgh        Moldova   \n",
       "\n",
       "   Temperature  CO2 Emissions  Sea Level Rise  Precipitation   Humidity  \\\n",
       "0    10.688986     403.118903        0.717506      13.835237  23.631256   \n",
       "1    13.814430     396.663499        1.205715      40.974084  43.982946   \n",
       "2    27.323718     451.553155       -0.160783      42.697931  96.652600   \n",
       "3    12.309581     422.404983       -0.475931       5.193341  47.467938   \n",
       "4    13.210885     410.472999        1.135757      78.695280  61.789672   \n",
       "\n",
       "   Wind Speed  \n",
       "0   18.492026  \n",
       "1   34.249300  \n",
       "2   34.124261  \n",
       "3    8.554563  \n",
       "4    8.001164  "
      ]
     },
     "execution_count": 5,
     "metadata": {},
     "output_type": "execute_result"
    }
   ],
   "source": [
    "climate = climate.rename(columns = {\"Date\" : \"Year_Recorded\", \n",
    "                                    \"Country\" : \"Country_Name\", \n",
    "                                    })\n",
    "\n",
    "\n",
    "climate.head()"
   ]
  },
  {
   "cell_type": "code",
   "execution_count": 6,
   "id": "a0f433cd-06df-485f-9f1b-019b3f1af3ea",
   "metadata": {
    "tags": []
   },
   "outputs": [
    {
     "data": {
      "text/plain": [
       "Year_Recorded      object\n",
       "Location           object\n",
       "Country_Name       object\n",
       "Temperature       float64\n",
       "CO2 Emissions     float64\n",
       "Sea Level Rise    float64\n",
       "Precipitation     float64\n",
       "Humidity          float64\n",
       "Wind Speed        float64\n",
       "dtype: object"
      ]
     },
     "execution_count": 6,
     "metadata": {},
     "output_type": "execute_result"
    }
   ],
   "source": [
    "# columns data types\n",
    "climate.dtypes"
   ]
  },
  {
   "cell_type": "code",
   "execution_count": 7,
   "id": "17bbd0da-2600-4408-b37e-f71ccbdf448e",
   "metadata": {
    "tags": []
   },
   "outputs": [
    {
     "data": {
      "text/plain": [
       "Index(['Year_Recorded', 'Location', 'Country_Name', 'Temperature',\n",
       "       'CO2 Emissions', 'Sea Level Rise', 'Precipitation', 'Humidity',\n",
       "       'Wind Speed'],\n",
       "      dtype='object')"
      ]
     },
     "execution_count": 7,
     "metadata": {},
     "output_type": "execute_result"
    }
   ],
   "source": [
    "climate.columns"
   ]
  },
  {
   "cell_type": "code",
   "execution_count": 8,
   "id": "aec2bd6e-512a-4e3b-8e8c-0cc387337f63",
   "metadata": {
    "tags": []
   },
   "outputs": [
    {
     "data": {
      "text/html": [
       "<div>\n",
       "<style scoped>\n",
       "    .dataframe tbody tr th:only-of-type {\n",
       "        vertical-align: middle;\n",
       "    }\n",
       "\n",
       "    .dataframe tbody tr th {\n",
       "        vertical-align: top;\n",
       "    }\n",
       "\n",
       "    .dataframe thead th {\n",
       "        text-align: right;\n",
       "    }\n",
       "</style>\n",
       "<table border=\"1\" class=\"dataframe\">\n",
       "  <thead>\n",
       "    <tr style=\"text-align: right;\">\n",
       "      <th></th>\n",
       "      <th>Country_Name</th>\n",
       "      <th>Location</th>\n",
       "      <th>Year_Recorded</th>\n",
       "      <th>Temperature</th>\n",
       "      <th>Humidity</th>\n",
       "      <th>Wind Speed</th>\n",
       "      <th>Precipitation</th>\n",
       "      <th>CO2 Emissions</th>\n",
       "      <th>Sea Level Rise</th>\n",
       "    </tr>\n",
       "  </thead>\n",
       "  <tbody>\n",
       "    <tr>\n",
       "      <th>0</th>\n",
       "      <td>Latvia</td>\n",
       "      <td>New Williamtown</td>\n",
       "      <td>2000-01-01 00:00:00.000000000</td>\n",
       "      <td>10.688986</td>\n",
       "      <td>23.631256</td>\n",
       "      <td>18.492026</td>\n",
       "      <td>13.835237</td>\n",
       "      <td>403.118903</td>\n",
       "      <td>0.717506</td>\n",
       "    </tr>\n",
       "    <tr>\n",
       "      <th>1</th>\n",
       "      <td>South Africa</td>\n",
       "      <td>North Rachel</td>\n",
       "      <td>2000-01-01 20:09:43.258325832</td>\n",
       "      <td>13.814430</td>\n",
       "      <td>43.982946</td>\n",
       "      <td>34.249300</td>\n",
       "      <td>40.974084</td>\n",
       "      <td>396.663499</td>\n",
       "      <td>1.205715</td>\n",
       "    </tr>\n",
       "    <tr>\n",
       "      <th>2</th>\n",
       "      <td>French Guiana</td>\n",
       "      <td>West Williamland</td>\n",
       "      <td>2000-01-02 16:19:26.516651665</td>\n",
       "      <td>27.323718</td>\n",
       "      <td>96.652600</td>\n",
       "      <td>34.124261</td>\n",
       "      <td>42.697931</td>\n",
       "      <td>451.553155</td>\n",
       "      <td>-0.160783</td>\n",
       "    </tr>\n",
       "    <tr>\n",
       "      <th>3</th>\n",
       "      <td>Vietnam</td>\n",
       "      <td>South David</td>\n",
       "      <td>2000-01-03 12:29:09.774977497</td>\n",
       "      <td>12.309581</td>\n",
       "      <td>47.467938</td>\n",
       "      <td>8.554563</td>\n",
       "      <td>5.193341</td>\n",
       "      <td>422.404983</td>\n",
       "      <td>-0.475931</td>\n",
       "    </tr>\n",
       "    <tr>\n",
       "      <th>4</th>\n",
       "      <td>Moldova</td>\n",
       "      <td>New Scottburgh</td>\n",
       "      <td>2000-01-04 08:38:53.033303330</td>\n",
       "      <td>13.210885</td>\n",
       "      <td>61.789672</td>\n",
       "      <td>8.001164</td>\n",
       "      <td>78.695280</td>\n",
       "      <td>410.472999</td>\n",
       "      <td>1.135757</td>\n",
       "    </tr>\n",
       "  </tbody>\n",
       "</table>\n",
       "</div>"
      ],
      "text/plain": [
       "    Country_Name          Location                  Year_Recorded  \\\n",
       "0         Latvia   New Williamtown  2000-01-01 00:00:00.000000000   \n",
       "1   South Africa      North Rachel  2000-01-01 20:09:43.258325832   \n",
       "2  French Guiana  West Williamland  2000-01-02 16:19:26.516651665   \n",
       "3        Vietnam       South David  2000-01-03 12:29:09.774977497   \n",
       "4        Moldova    New Scottburgh  2000-01-04 08:38:53.033303330   \n",
       "\n",
       "   Temperature   Humidity  Wind Speed  Precipitation  CO2 Emissions  \\\n",
       "0    10.688986  23.631256   18.492026      13.835237     403.118903   \n",
       "1    13.814430  43.982946   34.249300      40.974084     396.663499   \n",
       "2    27.323718  96.652600   34.124261      42.697931     451.553155   \n",
       "3    12.309581  47.467938    8.554563       5.193341     422.404983   \n",
       "4    13.210885  61.789672    8.001164      78.695280     410.472999   \n",
       "\n",
       "   Sea Level Rise  \n",
       "0        0.717506  \n",
       "1        1.205715  \n",
       "2       -0.160783  \n",
       "3       -0.475931  \n",
       "4        1.135757  "
      ]
     },
     "execution_count": 8,
     "metadata": {},
     "output_type": "execute_result"
    }
   ],
   "source": [
    "order = ['Country_Name', 'Location', 'Year_Recorded', 'Temperature', 'Humidity', \n",
    "         'Wind Speed', 'Precipitation', 'CO2 Emissions', 'Sea Level Rise']\n",
    "\n",
    "# Reorder columns in the DataFrame\n",
    "climate = climate[order]\n",
    "climate.head()"
   ]
  },
  {
   "cell_type": "markdown",
   "id": "b96df2fd-448d-404e-b7c0-0794f5ca5831",
   "metadata": {},
   "source": [
    "### Data for Country Table"
   ]
  },
  {
   "cell_type": "code",
   "execution_count": 9,
   "id": "30149b8a-d395-477e-8fc1-e9e0853f5478",
   "metadata": {
    "tags": []
   },
   "outputs": [
    {
     "data": {
      "text/html": [
       "<div>\n",
       "<style scoped>\n",
       "    .dataframe tbody tr th:only-of-type {\n",
       "        vertical-align: middle;\n",
       "    }\n",
       "\n",
       "    .dataframe tbody tr th {\n",
       "        vertical-align: top;\n",
       "    }\n",
       "\n",
       "    .dataframe thead th {\n",
       "        text-align: right;\n",
       "    }\n",
       "</style>\n",
       "<table border=\"1\" class=\"dataframe\">\n",
       "  <thead>\n",
       "    <tr style=\"text-align: right;\">\n",
       "      <th></th>\n",
       "      <th>Country_Name</th>\n",
       "      <th>Location</th>\n",
       "    </tr>\n",
       "  </thead>\n",
       "  <tbody>\n",
       "    <tr>\n",
       "      <th>0</th>\n",
       "      <td>Latvia</td>\n",
       "      <td>New Williamtown</td>\n",
       "    </tr>\n",
       "    <tr>\n",
       "      <th>1</th>\n",
       "      <td>South Africa</td>\n",
       "      <td>North Rachel</td>\n",
       "    </tr>\n",
       "    <tr>\n",
       "      <th>2</th>\n",
       "      <td>French Guiana</td>\n",
       "      <td>West Williamland</td>\n",
       "    </tr>\n",
       "  </tbody>\n",
       "</table>\n",
       "</div>"
      ],
      "text/plain": [
       "    Country_Name          Location\n",
       "0         Latvia   New Williamtown\n",
       "1   South Africa      North Rachel\n",
       "2  French Guiana  West Williamland"
      ]
     },
     "execution_count": 9,
     "metadata": {},
     "output_type": "execute_result"
    }
   ],
   "source": [
    "country = climate[[\"Country_Name\", \"Location\"]]\n",
    "country.head(3)"
   ]
  },
  {
   "cell_type": "code",
   "execution_count": 10,
   "id": "3cb06f7b-0d4d-4aaf-a812-439072373a77",
   "metadata": {
    "tags": []
   },
   "outputs": [],
   "source": [
    "# saving country dataset\n",
    "country.to_csv(\"Country.csv\", index = False)"
   ]
  },
  {
   "cell_type": "markdown",
   "id": "a1357553-73ad-4e61-9d12-e48ad15c730a",
   "metadata": {},
   "source": [
    "### Back to climate"
   ]
  },
  {
   "cell_type": "code",
   "execution_count": 11,
   "id": "a1019b7c-8c87-47e2-aa9d-ab0af2baec27",
   "metadata": {
    "tags": []
   },
   "outputs": [
    {
     "data": {
      "text/html": [
       "<div>\n",
       "<style scoped>\n",
       "    .dataframe tbody tr th:only-of-type {\n",
       "        vertical-align: middle;\n",
       "    }\n",
       "\n",
       "    .dataframe tbody tr th {\n",
       "        vertical-align: top;\n",
       "    }\n",
       "\n",
       "    .dataframe thead th {\n",
       "        text-align: right;\n",
       "    }\n",
       "</style>\n",
       "<table border=\"1\" class=\"dataframe\">\n",
       "  <thead>\n",
       "    <tr style=\"text-align: right;\">\n",
       "      <th></th>\n",
       "      <th>Country_Name</th>\n",
       "      <th>Location</th>\n",
       "      <th>Year_Recorded</th>\n",
       "      <th>Temperature</th>\n",
       "      <th>Humidity</th>\n",
       "      <th>Wind Speed</th>\n",
       "      <th>Precipitation</th>\n",
       "      <th>CO2 Emissions</th>\n",
       "      <th>Sea Level Rise</th>\n",
       "    </tr>\n",
       "  </thead>\n",
       "  <tbody>\n",
       "    <tr>\n",
       "      <th>0</th>\n",
       "      <td>Latvia</td>\n",
       "      <td>New Williamtown</td>\n",
       "      <td>2000-01-01 00:00:00.000000000</td>\n",
       "      <td>10.688986</td>\n",
       "      <td>23.631256</td>\n",
       "      <td>18.492026</td>\n",
       "      <td>13.835237</td>\n",
       "      <td>403.118903</td>\n",
       "      <td>0.717506</td>\n",
       "    </tr>\n",
       "  </tbody>\n",
       "</table>\n",
       "</div>"
      ],
      "text/plain": [
       "  Country_Name         Location                  Year_Recorded  Temperature  \\\n",
       "0       Latvia  New Williamtown  2000-01-01 00:00:00.000000000    10.688986   \n",
       "\n",
       "    Humidity  Wind Speed  Precipitation  CO2 Emissions  Sea Level Rise  \n",
       "0  23.631256   18.492026      13.835237     403.118903        0.717506  "
      ]
     },
     "execution_count": 11,
     "metadata": {},
     "output_type": "execute_result"
    }
   ],
   "source": [
    "climate.head(1)"
   ]
  },
  {
   "cell_type": "code",
   "execution_count": 12,
   "id": "58c4481d-bf1a-435e-bfb8-f66dd0fbc999",
   "metadata": {
    "tags": []
   },
   "outputs": [],
   "source": [
    "climate2 = climate.drop(columns = [\"Location\"])"
   ]
  },
  {
   "cell_type": "code",
   "execution_count": 13,
   "id": "a9a25698-c3c0-4899-9af8-d5895f82b438",
   "metadata": {
    "tags": []
   },
   "outputs": [
    {
     "data": {
      "text/html": [
       "<div>\n",
       "<style scoped>\n",
       "    .dataframe tbody tr th:only-of-type {\n",
       "        vertical-align: middle;\n",
       "    }\n",
       "\n",
       "    .dataframe tbody tr th {\n",
       "        vertical-align: top;\n",
       "    }\n",
       "\n",
       "    .dataframe thead th {\n",
       "        text-align: right;\n",
       "    }\n",
       "</style>\n",
       "<table border=\"1\" class=\"dataframe\">\n",
       "  <thead>\n",
       "    <tr style=\"text-align: right;\">\n",
       "      <th></th>\n",
       "      <th>Country_Name</th>\n",
       "      <th>Year_Recorded</th>\n",
       "      <th>Temperature</th>\n",
       "      <th>Humidity</th>\n",
       "      <th>Wind Speed</th>\n",
       "      <th>Precipitation</th>\n",
       "      <th>CO2 Emissions</th>\n",
       "      <th>Sea Level Rise</th>\n",
       "    </tr>\n",
       "  </thead>\n",
       "  <tbody>\n",
       "    <tr>\n",
       "      <th>0</th>\n",
       "      <td>Latvia</td>\n",
       "      <td>2000-01-01 00:00:00.000000000</td>\n",
       "      <td>10.688986</td>\n",
       "      <td>23.631256</td>\n",
       "      <td>18.492026</td>\n",
       "      <td>13.835237</td>\n",
       "      <td>403.118903</td>\n",
       "      <td>0.717506</td>\n",
       "    </tr>\n",
       "    <tr>\n",
       "      <th>1</th>\n",
       "      <td>South Africa</td>\n",
       "      <td>2000-01-01 20:09:43.258325832</td>\n",
       "      <td>13.814430</td>\n",
       "      <td>43.982946</td>\n",
       "      <td>34.249300</td>\n",
       "      <td>40.974084</td>\n",
       "      <td>396.663499</td>\n",
       "      <td>1.205715</td>\n",
       "    </tr>\n",
       "    <tr>\n",
       "      <th>2</th>\n",
       "      <td>French Guiana</td>\n",
       "      <td>2000-01-02 16:19:26.516651665</td>\n",
       "      <td>27.323718</td>\n",
       "      <td>96.652600</td>\n",
       "      <td>34.124261</td>\n",
       "      <td>42.697931</td>\n",
       "      <td>451.553155</td>\n",
       "      <td>-0.160783</td>\n",
       "    </tr>\n",
       "  </tbody>\n",
       "</table>\n",
       "</div>"
      ],
      "text/plain": [
       "    Country_Name                  Year_Recorded  Temperature   Humidity  \\\n",
       "0         Latvia  2000-01-01 00:00:00.000000000    10.688986  23.631256   \n",
       "1   South Africa  2000-01-01 20:09:43.258325832    13.814430  43.982946   \n",
       "2  French Guiana  2000-01-02 16:19:26.516651665    27.323718  96.652600   \n",
       "\n",
       "   Wind Speed  Precipitation  CO2 Emissions  Sea Level Rise  \n",
       "0   18.492026      13.835237     403.118903        0.717506  \n",
       "1   34.249300      40.974084     396.663499        1.205715  \n",
       "2   34.124261      42.697931     451.553155       -0.160783  "
      ]
     },
     "execution_count": 13,
     "metadata": {},
     "output_type": "execute_result"
    }
   ],
   "source": [
    "climate2.head(3)"
   ]
  },
  {
   "cell_type": "code",
   "execution_count": 14,
   "id": "588baa30-7310-4616-b1d5-0436dcb1c75a",
   "metadata": {
    "tags": []
   },
   "outputs": [],
   "source": [
    "climate2.to_csv(\"ClimateMetricsFinal.csv\", index = False)"
   ]
  },
  {
   "cell_type": "markdown",
   "id": "f7db42b1-1904-4d9a-b0e9-1c9636daf9f6",
   "metadata": {},
   "source": [
    "# 2 : World\n",
    "* used for Socio_Economic_Damages "
   ]
  },
  {
   "cell_type": "code",
   "execution_count": 15,
   "id": "da5941a6-f371-429d-a5b4-86bc6ac81bae",
   "metadata": {
    "tags": []
   },
   "outputs": [
    {
     "data": {
      "text/html": [
       "<div>\n",
       "<style scoped>\n",
       "    .dataframe tbody tr th:only-of-type {\n",
       "        vertical-align: middle;\n",
       "    }\n",
       "\n",
       "    .dataframe tbody tr th {\n",
       "        vertical-align: top;\n",
       "    }\n",
       "\n",
       "    .dataframe thead th {\n",
       "        text-align: right;\n",
       "    }\n",
       "</style>\n",
       "<table border=\"1\" class=\"dataframe\">\n",
       "  <thead>\n",
       "    <tr style=\"text-align: right;\">\n",
       "      <th></th>\n",
       "      <th>country</th>\n",
       "      <th>electricity_access</th>\n",
       "      <th>gdp</th>\n",
       "      <th>gdp_capita</th>\n",
       "      <th>labor_rate</th>\n",
       "      <th>labor_force</th>\n",
       "      <th>land_area</th>\n",
       "      <th>life_expectancy</th>\n",
       "      <th>adult_literacy</th>\n",
       "      <th>water_access</th>\n",
       "      <th>air_pollution</th>\n",
       "      <th>population_density</th>\n",
       "      <th>population</th>\n",
       "      <th>alcohol_consumption</th>\n",
       "      <th>unemployment_rate</th>\n",
       "      <th>social_support</th>\n",
       "      <th>freedom</th>\n",
       "      <th>generosity</th>\n",
       "      <th>income_class</th>\n",
       "      <th>cpi</th>\n",
       "    </tr>\n",
       "  </thead>\n",
       "  <tbody>\n",
       "    <tr>\n",
       "      <th>0</th>\n",
       "      <td>Afghanistan</td>\n",
       "      <td>90.08</td>\n",
       "      <td>1.883323e+10</td>\n",
       "      <td>536.23</td>\n",
       "      <td>47.28</td>\n",
       "      <td>9103245.75</td>\n",
       "      <td>652230.0</td>\n",
       "      <td>62.97</td>\n",
       "      <td>NaN</td>\n",
       "      <td>66.61</td>\n",
       "      <td>100.0</td>\n",
       "      <td>53.94</td>\n",
       "      <td>35179977.00</td>\n",
       "      <td>0.0087</td>\n",
       "      <td>10.341</td>\n",
       "      <td>0.522</td>\n",
       "      <td>0.428</td>\n",
       "      <td>-0.014</td>\n",
       "      <td>Low income</td>\n",
       "      <td>14.25</td>\n",
       "    </tr>\n",
       "    <tr>\n",
       "      <th>1</th>\n",
       "      <td>Albania</td>\n",
       "      <td>99.94</td>\n",
       "      <td>1.285605e+10</td>\n",
       "      <td>4473.89</td>\n",
       "      <td>57.54</td>\n",
       "      <td>1362512.25</td>\n",
       "      <td>27400.0</td>\n",
       "      <td>78.93</td>\n",
       "      <td>98.14</td>\n",
       "      <td>93.92</td>\n",
       "      <td>100.0</td>\n",
       "      <td>104.90</td>\n",
       "      <td>2874159.25</td>\n",
       "      <td>5.0375</td>\n",
       "      <td>14.633</td>\n",
       "      <td>0.650</td>\n",
       "      <td>0.752</td>\n",
       "      <td>-0.033</td>\n",
       "      <td>Upper middle income</td>\n",
       "      <td>37.25</td>\n",
       "    </tr>\n",
       "  </tbody>\n",
       "</table>\n",
       "</div>"
      ],
      "text/plain": [
       "       country  electricity_access           gdp  gdp_capita  labor_rate  \\\n",
       "0  Afghanistan               90.08  1.883323e+10      536.23       47.28   \n",
       "1      Albania               99.94  1.285605e+10     4473.89       57.54   \n",
       "\n",
       "   labor_force  land_area  life_expectancy  adult_literacy  water_access  \\\n",
       "0   9103245.75   652230.0            62.97             NaN         66.61   \n",
       "1   1362512.25    27400.0            78.93           98.14         93.92   \n",
       "\n",
       "   air_pollution  population_density   population  alcohol_consumption  \\\n",
       "0          100.0               53.94  35179977.00               0.0087   \n",
       "1          100.0              104.90   2874159.25               5.0375   \n",
       "\n",
       "   unemployment_rate  social_support  freedom  generosity  \\\n",
       "0             10.341           0.522    0.428      -0.014   \n",
       "1             14.633           0.650    0.752      -0.033   \n",
       "\n",
       "          income_class    cpi  \n",
       "0           Low income  14.25  \n",
       "1  Upper middle income  37.25  "
      ]
     },
     "execution_count": 15,
     "metadata": {},
     "output_type": "execute_result"
    }
   ],
   "source": [
    "world = pd.read_csv(\"worlddata.csv\")\n",
    "world.head(2)"
   ]
  },
  {
   "cell_type": "code",
   "execution_count": 16,
   "id": "1e137522-212f-46fd-be6f-28e22af2f67e",
   "metadata": {
    "tags": []
   },
   "outputs": [
    {
     "data": {
      "text/plain": [
       "((186, 20),\n",
       " Index(['country', 'electricity_access', 'gdp', 'gdp_capita', 'labor_rate',\n",
       "        'labor_force', 'land_area', 'life_expectancy', 'adult_literacy',\n",
       "        'water_access', 'air_pollution', 'population_density', 'population',\n",
       "        'alcohol_consumption', 'unemployment_rate', 'social_support', 'freedom',\n",
       "        'generosity', 'income_class', 'cpi'],\n",
       "       dtype='object'))"
      ]
     },
     "execution_count": 16,
     "metadata": {},
     "output_type": "execute_result"
    }
   ],
   "source": [
    "world.shape, world.columns"
   ]
  },
  {
   "cell_type": "code",
   "execution_count": 17,
   "id": "f7112375-1cc8-40b0-84a3-b7e355c331f0",
   "metadata": {
    "tags": []
   },
   "outputs": [
    {
     "data": {
      "text/html": [
       "<div>\n",
       "<style scoped>\n",
       "    .dataframe tbody tr th:only-of-type {\n",
       "        vertical-align: middle;\n",
       "    }\n",
       "\n",
       "    .dataframe tbody tr th {\n",
       "        vertical-align: top;\n",
       "    }\n",
       "\n",
       "    .dataframe thead th {\n",
       "        text-align: right;\n",
       "    }\n",
       "</style>\n",
       "<table border=\"1\" class=\"dataframe\">\n",
       "  <thead>\n",
       "    <tr style=\"text-align: right;\">\n",
       "      <th></th>\n",
       "      <th>country</th>\n",
       "      <th>gdp</th>\n",
       "      <th>gdp_capita</th>\n",
       "      <th>air_pollution</th>\n",
       "      <th>population_density</th>\n",
       "      <th>unemployment_rate</th>\n",
       "      <th>social_support</th>\n",
       "    </tr>\n",
       "  </thead>\n",
       "  <tbody>\n",
       "    <tr>\n",
       "      <th>0</th>\n",
       "      <td>Afghanistan</td>\n",
       "      <td>1.883323e+10</td>\n",
       "      <td>536.23</td>\n",
       "      <td>100.00</td>\n",
       "      <td>53.94</td>\n",
       "      <td>10.341</td>\n",
       "      <td>0.522</td>\n",
       "    </tr>\n",
       "    <tr>\n",
       "      <th>1</th>\n",
       "      <td>Albania</td>\n",
       "      <td>1.285605e+10</td>\n",
       "      <td>4473.89</td>\n",
       "      <td>100.00</td>\n",
       "      <td>104.90</td>\n",
       "      <td>14.633</td>\n",
       "      <td>0.650</td>\n",
       "    </tr>\n",
       "    <tr>\n",
       "      <th>2</th>\n",
       "      <td>Algeria</td>\n",
       "      <td>1.677553e+11</td>\n",
       "      <td>4117.84</td>\n",
       "      <td>100.00</td>\n",
       "      <td>17.10</td>\n",
       "      <td>10.540</td>\n",
       "      <td>0.785</td>\n",
       "    </tr>\n",
       "    <tr>\n",
       "      <th>3</th>\n",
       "      <td>Angola</td>\n",
       "      <td>7.095638e+10</td>\n",
       "      <td>2395.27</td>\n",
       "      <td>100.00</td>\n",
       "      <td>23.82</td>\n",
       "      <td>9.557</td>\n",
       "      <td>NaN</td>\n",
       "    </tr>\n",
       "    <tr>\n",
       "      <th>4</th>\n",
       "      <td>Argentina</td>\n",
       "      <td>5.801825e+11</td>\n",
       "      <td>13246.88</td>\n",
       "      <td>95.34</td>\n",
       "      <td>16.01</td>\n",
       "      <td>8.301</td>\n",
       "      <td>0.904</td>\n",
       "    </tr>\n",
       "    <tr>\n",
       "      <th>...</th>\n",
       "      <td>...</td>\n",
       "      <td>...</td>\n",
       "      <td>...</td>\n",
       "      <td>...</td>\n",
       "      <td>...</td>\n",
       "      <td>...</td>\n",
       "      <td>...</td>\n",
       "    </tr>\n",
       "    <tr>\n",
       "      <th>181</th>\n",
       "      <td>Venezuela</td>\n",
       "      <td>NaN</td>\n",
       "      <td>NaN</td>\n",
       "      <td>99.95</td>\n",
       "      <td>34.48</td>\n",
       "      <td>5.367</td>\n",
       "      <td>0.899</td>\n",
       "    </tr>\n",
       "    <tr>\n",
       "      <th>182</th>\n",
       "      <td>Vietnam</td>\n",
       "      <td>2.719536e+11</td>\n",
       "      <td>2903.81</td>\n",
       "      <td>100.00</td>\n",
       "      <td>298.55</td>\n",
       "      <td>1.683</td>\n",
       "      <td>0.852</td>\n",
       "    </tr>\n",
       "    <tr>\n",
       "      <th>183</th>\n",
       "      <td>Yemen</td>\n",
       "      <td>3.055268e+10</td>\n",
       "      <td>1038.42</td>\n",
       "      <td>100.00</td>\n",
       "      <td>56.17</td>\n",
       "      <td>13.379</td>\n",
       "      <td>0.756</td>\n",
       "    </tr>\n",
       "    <tr>\n",
       "      <th>184</th>\n",
       "      <td>Zambia</td>\n",
       "      <td>2.359868e+10</td>\n",
       "      <td>1382.20</td>\n",
       "      <td>100.00</td>\n",
       "      <td>22.92</td>\n",
       "      <td>7.556</td>\n",
       "      <td>0.730</td>\n",
       "    </tr>\n",
       "    <tr>\n",
       "      <th>185</th>\n",
       "      <td>Zimbabwe</td>\n",
       "      <td>2.306319e+10</td>\n",
       "      <td>1573.35</td>\n",
       "      <td>100.00</td>\n",
       "      <td>37.75</td>\n",
       "      <td>6.035</td>\n",
       "      <td>0.758</td>\n",
       "    </tr>\n",
       "  </tbody>\n",
       "</table>\n",
       "<p>186 rows × 7 columns</p>\n",
       "</div>"
      ],
      "text/plain": [
       "         country           gdp  gdp_capita  air_pollution  population_density  \\\n",
       "0    Afghanistan  1.883323e+10      536.23         100.00               53.94   \n",
       "1        Albania  1.285605e+10     4473.89         100.00              104.90   \n",
       "2        Algeria  1.677553e+11     4117.84         100.00               17.10   \n",
       "3         Angola  7.095638e+10     2395.27         100.00               23.82   \n",
       "4      Argentina  5.801825e+11    13246.88          95.34               16.01   \n",
       "..           ...           ...         ...            ...                 ...   \n",
       "181    Venezuela           NaN         NaN          99.95               34.48   \n",
       "182      Vietnam  2.719536e+11     2903.81         100.00              298.55   \n",
       "183        Yemen  3.055268e+10     1038.42         100.00               56.17   \n",
       "184       Zambia  2.359868e+10     1382.20         100.00               22.92   \n",
       "185     Zimbabwe  2.306319e+10     1573.35         100.00               37.75   \n",
       "\n",
       "     unemployment_rate  social_support  \n",
       "0               10.341           0.522  \n",
       "1               14.633           0.650  \n",
       "2               10.540           0.785  \n",
       "3                9.557             NaN  \n",
       "4                8.301           0.904  \n",
       "..                 ...             ...  \n",
       "181              5.367           0.899  \n",
       "182              1.683           0.852  \n",
       "183             13.379           0.756  \n",
       "184              7.556           0.730  \n",
       "185              6.035           0.758  \n",
       "\n",
       "[186 rows x 7 columns]"
      ]
     },
     "execution_count": 17,
     "metadata": {},
     "output_type": "execute_result"
    }
   ],
   "source": [
    "world = world[[\"country\", \"gdp\", \"gdp_capita\", \"air_pollution\", \"population_density\", \n",
    "               \"unemployment_rate\", \"social_support\"]]\n",
    "world"
   ]
  },
  {
   "cell_type": "code",
   "execution_count": 18,
   "id": "c94d372d-2ff5-481b-9c8f-b612ffa3a00e",
   "metadata": {
    "tags": []
   },
   "outputs": [
    {
     "data": {
      "text/plain": [
       "country                0\n",
       "gdp                    3\n",
       "gdp_capita             3\n",
       "air_pollution          3\n",
       "population_density     1\n",
       "unemployment_rate      4\n",
       "social_support        33\n",
       "dtype: int64"
      ]
     },
     "execution_count": 18,
     "metadata": {},
     "output_type": "execute_result"
    }
   ],
   "source": [
    "world.isnull().sum()"
   ]
  },
  {
   "cell_type": "code",
   "execution_count": 19,
   "id": "9725239e-2463-4034-a013-f3e21f79775f",
   "metadata": {
    "tags": []
   },
   "outputs": [
    {
     "data": {
      "text/plain": [
       "Index(['country', 'gdp', 'gdp_capita', 'air_pollution', 'population_density',\n",
       "       'unemployment_rate', 'social_support'],\n",
       "      dtype='object')"
      ]
     },
     "execution_count": 19,
     "metadata": {},
     "output_type": "execute_result"
    }
   ],
   "source": [
    "world.columns"
   ]
  },
  {
   "cell_type": "code",
   "execution_count": 20,
   "id": "6fd951dc-8fca-4f02-ada4-e41704f96dc2",
   "metadata": {
    "tags": []
   },
   "outputs": [
    {
     "data": {
      "text/html": [
       "<div>\n",
       "<style scoped>\n",
       "    .dataframe tbody tr th:only-of-type {\n",
       "        vertical-align: middle;\n",
       "    }\n",
       "\n",
       "    .dataframe tbody tr th {\n",
       "        vertical-align: top;\n",
       "    }\n",
       "\n",
       "    .dataframe thead th {\n",
       "        text-align: right;\n",
       "    }\n",
       "</style>\n",
       "<table border=\"1\" class=\"dataframe\">\n",
       "  <thead>\n",
       "    <tr style=\"text-align: right;\">\n",
       "      <th></th>\n",
       "      <th>Country Name</th>\n",
       "      <th>GDP</th>\n",
       "      <th>GDP Per Capita</th>\n",
       "      <th>Air Pollution</th>\n",
       "      <th>Population Density</th>\n",
       "      <th>Unemployment Rate</th>\n",
       "      <th>Social Support</th>\n",
       "    </tr>\n",
       "  </thead>\n",
       "  <tbody>\n",
       "    <tr>\n",
       "      <th>0</th>\n",
       "      <td>Afghanistan</td>\n",
       "      <td>1.883323e+10</td>\n",
       "      <td>536.23</td>\n",
       "      <td>100.0</td>\n",
       "      <td>53.94</td>\n",
       "      <td>10.341</td>\n",
       "      <td>0.522</td>\n",
       "    </tr>\n",
       "    <tr>\n",
       "      <th>1</th>\n",
       "      <td>Albania</td>\n",
       "      <td>1.285605e+10</td>\n",
       "      <td>4473.89</td>\n",
       "      <td>100.0</td>\n",
       "      <td>104.90</td>\n",
       "      <td>14.633</td>\n",
       "      <td>0.650</td>\n",
       "    </tr>\n",
       "    <tr>\n",
       "      <th>2</th>\n",
       "      <td>Algeria</td>\n",
       "      <td>1.677553e+11</td>\n",
       "      <td>4117.84</td>\n",
       "      <td>100.0</td>\n",
       "      <td>17.10</td>\n",
       "      <td>10.540</td>\n",
       "      <td>0.785</td>\n",
       "    </tr>\n",
       "  </tbody>\n",
       "</table>\n",
       "</div>"
      ],
      "text/plain": [
       "  Country Name           GDP  GDP Per Capita  Air Pollution  \\\n",
       "0  Afghanistan  1.883323e+10          536.23          100.0   \n",
       "1      Albania  1.285605e+10         4473.89          100.0   \n",
       "2      Algeria  1.677553e+11         4117.84          100.0   \n",
       "\n",
       "   Population Density  Unemployment Rate  Social Support  \n",
       "0               53.94             10.341           0.522  \n",
       "1              104.90             14.633           0.650  \n",
       "2               17.10             10.540           0.785  "
      ]
     },
     "execution_count": 20,
     "metadata": {},
     "output_type": "execute_result"
    }
   ],
   "source": [
    "# renaming the columns\n",
    "world = world.rename(columns = {\"country\" : \"Country Name\",\n",
    "                               \"gdp\" : \"GDP\", \n",
    "                                \"gdp_capita\" : \"GDP Per Capita\", \n",
    "                                \"population_density\" : \"Population Density\", \n",
    "                                \"air_pollution\" : \"Air Pollution\", \n",
    "                                \"unemployment_rate\" : \"Unemployment Rate\", \n",
    "                                \"social_support\" : \"Social Support\"})\n",
    "world.head(3)"
   ]
  },
  {
   "cell_type": "code",
   "execution_count": 21,
   "id": "a4fa25b8-6589-4421-8183-025b0c83e670",
   "metadata": {
    "tags": []
   },
   "outputs": [],
   "source": [
    "world.to_csv(\"socio_econ.csv\", index = False)"
   ]
  },
  {
   "cell_type": "markdown",
   "id": "c1220499-f7f8-46ff-bcd3-cdaec3a9a075",
   "metadata": {},
   "source": [
    "# 3) Disasters Dataset\n",
    "* for Natural Disaster, Damages and Economic Damages"
   ]
  },
  {
   "cell_type": "code",
   "execution_count": 22,
   "id": "4dd4eabd-d638-41fd-823d-f45fb79e7aa6",
   "metadata": {
    "tags": []
   },
   "outputs": [],
   "source": [
    "NatDisasters = pd.read_csv(\"EMDAT_1900-2021_NatDis.csv\")"
   ]
  },
  {
   "cell_type": "code",
   "execution_count": 23,
   "id": "33165284-61db-4885-8fbb-fe5cd081959f",
   "metadata": {
    "tags": []
   },
   "outputs": [
    {
     "data": {
      "text/plain": [
       "(2315, 43)"
      ]
     },
     "execution_count": 23,
     "metadata": {},
     "output_type": "execute_result"
    }
   ],
   "source": [
    "NatDisasters = NatDisasters[NatDisasters[\"Year\"] >= 2015]\n",
    "NatDisasters.shape"
   ]
  },
  {
   "cell_type": "code",
   "execution_count": 24,
   "id": "2d23e26c-0997-4459-9cd1-b980e6e68ef6",
   "metadata": {
    "tags": []
   },
   "outputs": [
    {
     "data": {
      "text/html": [
       "<div>\n",
       "<style scoped>\n",
       "    .dataframe tbody tr th:only-of-type {\n",
       "        vertical-align: middle;\n",
       "    }\n",
       "\n",
       "    .dataframe tbody tr th {\n",
       "        vertical-align: top;\n",
       "    }\n",
       "\n",
       "    .dataframe thead th {\n",
       "        text-align: right;\n",
       "    }\n",
       "</style>\n",
       "<table border=\"1\" class=\"dataframe\">\n",
       "  <thead>\n",
       "    <tr style=\"text-align: right;\">\n",
       "      <th></th>\n",
       "      <th>Dis No</th>\n",
       "      <th>Year</th>\n",
       "      <th>Seq</th>\n",
       "      <th>Disaster Group</th>\n",
       "      <th>Disaster Subgroup</th>\n",
       "      <th>Disaster Type</th>\n",
       "      <th>Disaster Subtype</th>\n",
       "      <th>Disaster Subsubtype</th>\n",
       "      <th>Event Name</th>\n",
       "      <th>Entry Criteria</th>\n",
       "      <th>...</th>\n",
       "      <th>End Day</th>\n",
       "      <th>Total Deaths</th>\n",
       "      <th>No Injured</th>\n",
       "      <th>No Affected</th>\n",
       "      <th>No Homeless</th>\n",
       "      <th>Total Affected</th>\n",
       "      <th>Reconstruction Costs ('000 US$)</th>\n",
       "      <th>Insured Damages ('000 US$)</th>\n",
       "      <th>Total Damages ('000 US$)</th>\n",
       "      <th>CPI</th>\n",
       "    </tr>\n",
       "  </thead>\n",
       "  <tbody>\n",
       "    <tr>\n",
       "      <th>13099</th>\n",
       "      <td>2015-0118-BGD</td>\n",
       "      <td>2015</td>\n",
       "      <td>118</td>\n",
       "      <td>Natural</td>\n",
       "      <td>Meteorological</td>\n",
       "      <td>Storm</td>\n",
       "      <td>Convective storm</td>\n",
       "      <td>Lightning/Thunderstorms</td>\n",
       "      <td>NaN</td>\n",
       "      <td>Kill</td>\n",
       "      <td>...</td>\n",
       "      <td>7.0</td>\n",
       "      <td>53.0</td>\n",
       "      <td>200.0</td>\n",
       "      <td>20000.0</td>\n",
       "      <td>NaN</td>\n",
       "      <td>20200.0</td>\n",
       "      <td>NaN</td>\n",
       "      <td>NaN</td>\n",
       "      <td>4000.0</td>\n",
       "      <td>92.708822</td>\n",
       "    </tr>\n",
       "    <tr>\n",
       "      <th>13100</th>\n",
       "      <td>2015-0054-AFG</td>\n",
       "      <td>2015</td>\n",
       "      <td>54</td>\n",
       "      <td>Natural</td>\n",
       "      <td>Hydrological</td>\n",
       "      <td>Landslide</td>\n",
       "      <td>Avalanche</td>\n",
       "      <td>NaN</td>\n",
       "      <td>NaN</td>\n",
       "      <td>Kill</td>\n",
       "      <td>...</td>\n",
       "      <td>27.0</td>\n",
       "      <td>254.0</td>\n",
       "      <td>NaN</td>\n",
       "      <td>26425.0</td>\n",
       "      <td>6560.0</td>\n",
       "      <td>32985.0</td>\n",
       "      <td>NaN</td>\n",
       "      <td>NaN</td>\n",
       "      <td>3000.0</td>\n",
       "      <td>92.708822</td>\n",
       "    </tr>\n",
       "  </tbody>\n",
       "</table>\n",
       "<p>2 rows × 43 columns</p>\n",
       "</div>"
      ],
      "text/plain": [
       "              Dis No  Year  Seq Disaster Group Disaster Subgroup  \\\n",
       "13099  2015-0118-BGD  2015  118        Natural    Meteorological   \n",
       "13100  2015-0054-AFG  2015   54        Natural      Hydrological   \n",
       "\n",
       "      Disaster Type  Disaster Subtype      Disaster Subsubtype Event Name  \\\n",
       "13099         Storm  Convective storm  Lightning/Thunderstorms        NaN   \n",
       "13100     Landslide         Avalanche                      NaN        NaN   \n",
       "\n",
       "      Entry Criteria  ... End Day Total Deaths No Injured No Affected  \\\n",
       "13099           Kill  ...     7.0         53.0      200.0     20000.0   \n",
       "13100           Kill  ...    27.0        254.0        NaN     26425.0   \n",
       "\n",
       "      No Homeless Total Affected Reconstruction Costs ('000 US$)  \\\n",
       "13099         NaN        20200.0                             NaN   \n",
       "13100      6560.0        32985.0                             NaN   \n",
       "\n",
       "      Insured Damages ('000 US$) Total Damages ('000 US$)        CPI  \n",
       "13099                        NaN                   4000.0  92.708822  \n",
       "13100                        NaN                   3000.0  92.708822  \n",
       "\n",
       "[2 rows x 43 columns]"
      ]
     },
     "execution_count": 24,
     "metadata": {},
     "output_type": "execute_result"
    }
   ],
   "source": [
    "NatDisasters.head(2)"
   ]
  },
  {
   "cell_type": "code",
   "execution_count": 25,
   "id": "47f5892e-2e47-462b-b0cb-f294a410b834",
   "metadata": {
    "tags": []
   },
   "outputs": [
    {
     "data": {
      "text/plain": [
       "Index(['Dis No', 'Year', 'Seq', 'Disaster Group', 'Disaster Subgroup',\n",
       "       'Disaster Type', 'Disaster Subtype', 'Disaster Subsubtype',\n",
       "       'Event Name', 'Entry Criteria', 'Country', 'ISO', 'Region', 'Continent',\n",
       "       'Location', 'Origin', 'Associated Dis', 'Associated Dis2',\n",
       "       'OFDA Response', 'Appeal', 'Declaration', 'Aid Contribution',\n",
       "       'Dis Mag Value', 'Dis Mag Scale', 'Latitude', 'Longitude', 'Local Time',\n",
       "       'River Basin', 'Start Year', 'Start Month', 'Start Day', 'End Year',\n",
       "       'End Month', 'End Day', 'Total Deaths', 'No Injured', 'No Affected',\n",
       "       'No Homeless', 'Total Affected', 'Reconstruction Costs ('000 US$)',\n",
       "       'Insured Damages ('000 US$)', 'Total Damages ('000 US$)', 'CPI'],\n",
       "      dtype='object')"
      ]
     },
     "execution_count": 25,
     "metadata": {},
     "output_type": "execute_result"
    }
   ],
   "source": [
    "NatDisasters.columns"
   ]
  },
  {
   "cell_type": "code",
   "execution_count": 26,
   "id": "018dde86-eb71-420e-a084-c5ce38d759b4",
   "metadata": {
    "tags": []
   },
   "outputs": [
    {
     "data": {
      "text/html": [
       "<div>\n",
       "<style scoped>\n",
       "    .dataframe tbody tr th:only-of-type {\n",
       "        vertical-align: middle;\n",
       "    }\n",
       "\n",
       "    .dataframe tbody tr th {\n",
       "        vertical-align: top;\n",
       "    }\n",
       "\n",
       "    .dataframe thead th {\n",
       "        text-align: right;\n",
       "    }\n",
       "</style>\n",
       "<table border=\"1\" class=\"dataframe\">\n",
       "  <thead>\n",
       "    <tr style=\"text-align: right;\">\n",
       "      <th></th>\n",
       "      <th>Dis No</th>\n",
       "      <th>Year</th>\n",
       "      <th>Disaster Type</th>\n",
       "      <th>Country</th>\n",
       "      <th>Region</th>\n",
       "      <th>Continent</th>\n",
       "      <th>Location</th>\n",
       "      <th>Total Deaths</th>\n",
       "      <th>No Injured</th>\n",
       "      <th>No Affected</th>\n",
       "      <th>No Homeless</th>\n",
       "      <th>Total Affected</th>\n",
       "      <th>Reconstruction Costs ('000 US$)</th>\n",
       "      <th>Insured Damages ('000 US$)</th>\n",
       "      <th>Total Damages ('000 US$)</th>\n",
       "    </tr>\n",
       "  </thead>\n",
       "  <tbody>\n",
       "    <tr>\n",
       "      <th>13099</th>\n",
       "      <td>2015-0118-BGD</td>\n",
       "      <td>2015</td>\n",
       "      <td>Storm</td>\n",
       "      <td>Bangladesh</td>\n",
       "      <td>Southern Asia</td>\n",
       "      <td>Asia</td>\n",
       "      <td>Bogra, Rajshahi, Naogaon, Sirajganj, Pabna dis...</td>\n",
       "      <td>53.0</td>\n",
       "      <td>200.0</td>\n",
       "      <td>20000.0</td>\n",
       "      <td>NaN</td>\n",
       "      <td>20200.0</td>\n",
       "      <td>NaN</td>\n",
       "      <td>NaN</td>\n",
       "      <td>4000.0</td>\n",
       "    </tr>\n",
       "    <tr>\n",
       "      <th>13100</th>\n",
       "      <td>2015-0054-AFG</td>\n",
       "      <td>2015</td>\n",
       "      <td>Landslide</td>\n",
       "      <td>Afghanistan</td>\n",
       "      <td>Southern Asia</td>\n",
       "      <td>Asia</td>\n",
       "      <td>Laghman, Nangarhar, Panjsher, Badakhshan, Bamy...</td>\n",
       "      <td>254.0</td>\n",
       "      <td>NaN</td>\n",
       "      <td>26425.0</td>\n",
       "      <td>6560.0</td>\n",
       "      <td>32985.0</td>\n",
       "      <td>NaN</td>\n",
       "      <td>NaN</td>\n",
       "      <td>3000.0</td>\n",
       "    </tr>\n",
       "    <tr>\n",
       "      <th>13101</th>\n",
       "      <td>2015-0148-AUS</td>\n",
       "      <td>2015</td>\n",
       "      <td>Storm</td>\n",
       "      <td>Australia</td>\n",
       "      <td>Australia and New Zealand</td>\n",
       "      <td>Oceania</td>\n",
       "      <td>Dungog, Hunters Hill, Sydney districts (New So...</td>\n",
       "      <td>7.0</td>\n",
       "      <td>NaN</td>\n",
       "      <td>1000.0</td>\n",
       "      <td>NaN</td>\n",
       "      <td>1000.0</td>\n",
       "      <td>NaN</td>\n",
       "      <td>730000.0</td>\n",
       "      <td>1300000.0</td>\n",
       "    </tr>\n",
       "  </tbody>\n",
       "</table>\n",
       "</div>"
      ],
      "text/plain": [
       "              Dis No  Year Disaster Type      Country  \\\n",
       "13099  2015-0118-BGD  2015         Storm   Bangladesh   \n",
       "13100  2015-0054-AFG  2015     Landslide  Afghanistan   \n",
       "13101  2015-0148-AUS  2015         Storm    Australia   \n",
       "\n",
       "                          Region Continent  \\\n",
       "13099              Southern Asia      Asia   \n",
       "13100              Southern Asia      Asia   \n",
       "13101  Australia and New Zealand   Oceania   \n",
       "\n",
       "                                                Location  Total Deaths  \\\n",
       "13099  Bogra, Rajshahi, Naogaon, Sirajganj, Pabna dis...          53.0   \n",
       "13100  Laghman, Nangarhar, Panjsher, Badakhshan, Bamy...         254.0   \n",
       "13101  Dungog, Hunters Hill, Sydney districts (New So...           7.0   \n",
       "\n",
       "       No Injured  No Affected  No Homeless  Total Affected  \\\n",
       "13099       200.0      20000.0          NaN         20200.0   \n",
       "13100         NaN      26425.0       6560.0         32985.0   \n",
       "13101         NaN       1000.0          NaN          1000.0   \n",
       "\n",
       "       Reconstruction Costs ('000 US$)  Insured Damages ('000 US$)  \\\n",
       "13099                              NaN                         NaN   \n",
       "13100                              NaN                         NaN   \n",
       "13101                              NaN                    730000.0   \n",
       "\n",
       "       Total Damages ('000 US$)  \n",
       "13099                    4000.0  \n",
       "13100                    3000.0  \n",
       "13101                 1300000.0  "
      ]
     },
     "execution_count": 26,
     "metadata": {},
     "output_type": "execute_result"
    }
   ],
   "source": [
    "NatDisasters2 = NatDisasters[[\"Dis No\", \"Year\", 'Disaster Type', \"Country\", \"Region\", \n",
    "                              \"Continent\", \"Location\", 'Total Deaths', 'No Injured', 'No Affected',\n",
    "                              'No Homeless', 'Total Affected', \"Reconstruction Costs ('000 US$)\",\n",
    "                              \"Insured Damages ('000 US$)\", \"Total Damages ('000 US$)\"]]\n",
    "\n",
    "NatDisasters2.head(3)"
   ]
  },
  {
   "cell_type": "code",
   "execution_count": 27,
   "id": "07a3c1d7-f103-44a2-9745-128859932302",
   "metadata": {
    "tags": []
   },
   "outputs": [
    {
     "data": {
      "text/plain": [
       "Dis No                                0\n",
       "Year                                  0\n",
       "Disaster Type                         0\n",
       "Country                               0\n",
       "Region                                0\n",
       "Continent                             0\n",
       "Location                            150\n",
       "Total Deaths                        662\n",
       "No Injured                         1628\n",
       "No Affected                         826\n",
       "No Homeless                        2079\n",
       "Total Affected                      455\n",
       "Reconstruction Costs ('000 US$)    2305\n",
       "Insured Damages ('000 US$)         2118\n",
       "Total Damages ('000 US$)           1514\n",
       "dtype: int64"
      ]
     },
     "execution_count": 27,
     "metadata": {},
     "output_type": "execute_result"
    }
   ],
   "source": [
    "NatDisasters2.isnull().sum()"
   ]
  },
  {
   "cell_type": "markdown",
   "id": "5e146167-23b7-4a84-98b8-ec51a1d0e9f2",
   "metadata": {},
   "source": [
    "### For Natural Disaster"
   ]
  },
  {
   "cell_type": "code",
   "execution_count": 28,
   "id": "fe4636ac-4a3e-4edd-8faf-b1199108c496",
   "metadata": {
    "tags": []
   },
   "outputs": [
    {
     "data": {
      "text/html": [
       "<div>\n",
       "<style scoped>\n",
       "    .dataframe tbody tr th:only-of-type {\n",
       "        vertical-align: middle;\n",
       "    }\n",
       "\n",
       "    .dataframe tbody tr th {\n",
       "        vertical-align: top;\n",
       "    }\n",
       "\n",
       "    .dataframe thead th {\n",
       "        text-align: right;\n",
       "    }\n",
       "</style>\n",
       "<table border=\"1\" class=\"dataframe\">\n",
       "  <thead>\n",
       "    <tr style=\"text-align: right;\">\n",
       "      <th></th>\n",
       "      <th>Year</th>\n",
       "      <th>Disaster Type</th>\n",
       "      <th>Country</th>\n",
       "    </tr>\n",
       "  </thead>\n",
       "  <tbody>\n",
       "    <tr>\n",
       "      <th>13099</th>\n",
       "      <td>2015</td>\n",
       "      <td>Storm</td>\n",
       "      <td>Bangladesh</td>\n",
       "    </tr>\n",
       "    <tr>\n",
       "      <th>13100</th>\n",
       "      <td>2015</td>\n",
       "      <td>Landslide</td>\n",
       "      <td>Afghanistan</td>\n",
       "    </tr>\n",
       "    <tr>\n",
       "      <th>13101</th>\n",
       "      <td>2015</td>\n",
       "      <td>Storm</td>\n",
       "      <td>Australia</td>\n",
       "    </tr>\n",
       "  </tbody>\n",
       "</table>\n",
       "</div>"
      ],
      "text/plain": [
       "       Year Disaster Type      Country\n",
       "13099  2015         Storm   Bangladesh\n",
       "13100  2015     Landslide  Afghanistan\n",
       "13101  2015         Storm    Australia"
      ]
     },
     "execution_count": 28,
     "metadata": {},
     "output_type": "execute_result"
    }
   ],
   "source": [
    "nat_entity = NatDisasters2[[\"Year\", \"Disaster Type\", \"Country\"]]\n",
    "nat_entity.head(3)"
   ]
  },
  {
   "cell_type": "code",
   "execution_count": 29,
   "id": "35b932cc-4f2a-408e-8adb-afb1aba34bbb",
   "metadata": {
    "tags": []
   },
   "outputs": [],
   "source": [
    "nat_entity.to_csv(\"natural_dis_ent.csv\", index = False)"
   ]
  },
  {
   "cell_type": "markdown",
   "id": "1681ff7b-6e2a-4173-aaa0-81416d3ed2db",
   "metadata": {},
   "source": [
    "### For Damages (and Economic Damages)"
   ]
  },
  {
   "cell_type": "code",
   "execution_count": 30,
   "id": "9831a98e-2cb5-46e1-a128-5d26ed3730f4",
   "metadata": {
    "tags": []
   },
   "outputs": [
    {
     "data": {
      "text/html": [
       "<div>\n",
       "<style scoped>\n",
       "    .dataframe tbody tr th:only-of-type {\n",
       "        vertical-align: middle;\n",
       "    }\n",
       "\n",
       "    .dataframe tbody tr th {\n",
       "        vertical-align: top;\n",
       "    }\n",
       "\n",
       "    .dataframe thead th {\n",
       "        text-align: right;\n",
       "    }\n",
       "</style>\n",
       "<table border=\"1\" class=\"dataframe\">\n",
       "  <thead>\n",
       "    <tr style=\"text-align: right;\">\n",
       "      <th></th>\n",
       "      <th>Dis No</th>\n",
       "      <th>Country</th>\n",
       "      <th>Region</th>\n",
       "      <th>Continent</th>\n",
       "      <th>Location</th>\n",
       "      <th>Total Deaths</th>\n",
       "      <th>No Injured</th>\n",
       "      <th>No Affected</th>\n",
       "      <th>No Homeless</th>\n",
       "      <th>Total Affected</th>\n",
       "      <th>Reconstruction Costs</th>\n",
       "      <th>Insured Damages</th>\n",
       "      <th>Total Damages</th>\n",
       "    </tr>\n",
       "  </thead>\n",
       "  <tbody>\n",
       "    <tr>\n",
       "      <th>13099</th>\n",
       "      <td>2015-0118-BGD</td>\n",
       "      <td>Bangladesh</td>\n",
       "      <td>Southern Asia</td>\n",
       "      <td>Asia</td>\n",
       "      <td>Bogra, Rajshahi, Naogaon, Sirajganj, Pabna dis...</td>\n",
       "      <td>53.0</td>\n",
       "      <td>200.0</td>\n",
       "      <td>20000.0</td>\n",
       "      <td>NaN</td>\n",
       "      <td>20200.0</td>\n",
       "      <td>NaN</td>\n",
       "      <td>NaN</td>\n",
       "      <td>4000.0</td>\n",
       "    </tr>\n",
       "    <tr>\n",
       "      <th>13100</th>\n",
       "      <td>2015-0054-AFG</td>\n",
       "      <td>Afghanistan</td>\n",
       "      <td>Southern Asia</td>\n",
       "      <td>Asia</td>\n",
       "      <td>Laghman, Nangarhar, Panjsher, Badakhshan, Bamy...</td>\n",
       "      <td>254.0</td>\n",
       "      <td>NaN</td>\n",
       "      <td>26425.0</td>\n",
       "      <td>6560.0</td>\n",
       "      <td>32985.0</td>\n",
       "      <td>NaN</td>\n",
       "      <td>NaN</td>\n",
       "      <td>3000.0</td>\n",
       "    </tr>\n",
       "    <tr>\n",
       "      <th>13101</th>\n",
       "      <td>2015-0148-AUS</td>\n",
       "      <td>Australia</td>\n",
       "      <td>Australia and New Zealand</td>\n",
       "      <td>Oceania</td>\n",
       "      <td>Dungog, Hunters Hill, Sydney districts (New So...</td>\n",
       "      <td>7.0</td>\n",
       "      <td>NaN</td>\n",
       "      <td>1000.0</td>\n",
       "      <td>NaN</td>\n",
       "      <td>1000.0</td>\n",
       "      <td>NaN</td>\n",
       "      <td>730000.0</td>\n",
       "      <td>1300000.0</td>\n",
       "    </tr>\n",
       "  </tbody>\n",
       "</table>\n",
       "</div>"
      ],
      "text/plain": [
       "              Dis No      Country                     Region Continent  \\\n",
       "13099  2015-0118-BGD   Bangladesh              Southern Asia      Asia   \n",
       "13100  2015-0054-AFG  Afghanistan              Southern Asia      Asia   \n",
       "13101  2015-0148-AUS    Australia  Australia and New Zealand   Oceania   \n",
       "\n",
       "                                                Location  Total Deaths  \\\n",
       "13099  Bogra, Rajshahi, Naogaon, Sirajganj, Pabna dis...          53.0   \n",
       "13100  Laghman, Nangarhar, Panjsher, Badakhshan, Bamy...         254.0   \n",
       "13101  Dungog, Hunters Hill, Sydney districts (New So...           7.0   \n",
       "\n",
       "       No Injured  No Affected  No Homeless  Total Affected  \\\n",
       "13099       200.0      20000.0          NaN         20200.0   \n",
       "13100         NaN      26425.0       6560.0         32985.0   \n",
       "13101         NaN       1000.0          NaN          1000.0   \n",
       "\n",
       "       Reconstruction Costs  Insured Damages  Total Damages  \n",
       "13099                   NaN              NaN         4000.0  \n",
       "13100                   NaN              NaN         3000.0  \n",
       "13101                   NaN         730000.0      1300000.0  "
      ]
     },
     "execution_count": 30,
     "metadata": {},
     "output_type": "execute_result"
    }
   ],
   "source": [
    "NatDisasters3 = NatDisasters2.rename(columns = {\"Reconstruction Costs ('000 US$)\" : \"Reconstruction Costs\", \n",
    "                                                \"Insured Damages ('000 US$)\" : \"Insured Damages\", \n",
    "                                                \"Total Damages ('000 US$)\" : \"Total Damages\"})\n",
    "\n",
    "\n",
    "NatDisasters3 = NatDisasters3.drop(columns = [\"Year\", \"Disaster Type\"])\n",
    "NatDisasters3.head(3)"
   ]
  },
  {
   "cell_type": "code",
   "execution_count": 31,
   "id": "8b712f7a-c228-4509-b42f-cfc60a8b2bb9",
   "metadata": {
    "tags": []
   },
   "outputs": [
    {
     "data": {
      "text/plain": [
       "Index(['Dis No', 'Country', 'Region', 'Continent', 'Location', 'Total Deaths',\n",
       "       'No Injured', 'No Affected', 'No Homeless', 'Total Affected',\n",
       "       'Reconstruction Costs', 'Insured Damages', 'Total Damages'],\n",
       "      dtype='object')"
      ]
     },
     "execution_count": 31,
     "metadata": {},
     "output_type": "execute_result"
    }
   ],
   "source": [
    "NatDisasters3.columns"
   ]
  },
  {
   "cell_type": "markdown",
   "id": "7cf5a857-91a3-4c33-a7ce-279f0a474266",
   "metadata": {},
   "source": [
    "* Damages"
   ]
  },
  {
   "cell_type": "code",
   "execution_count": 32,
   "id": "1cc2e3cb-9683-4a63-8b15-bf9241fc3132",
   "metadata": {
    "tags": []
   },
   "outputs": [
    {
     "data": {
      "text/html": [
       "<div>\n",
       "<style scoped>\n",
       "    .dataframe tbody tr th:only-of-type {\n",
       "        vertical-align: middle;\n",
       "    }\n",
       "\n",
       "    .dataframe tbody tr th {\n",
       "        vertical-align: top;\n",
       "    }\n",
       "\n",
       "    .dataframe thead th {\n",
       "        text-align: right;\n",
       "    }\n",
       "</style>\n",
       "<table border=\"1\" class=\"dataframe\">\n",
       "  <thead>\n",
       "    <tr style=\"text-align: right;\">\n",
       "      <th></th>\n",
       "      <th>Dis No</th>\n",
       "      <th>Country</th>\n",
       "      <th>Region</th>\n",
       "      <th>Continent</th>\n",
       "      <th>Location</th>\n",
       "      <th>Total Deaths</th>\n",
       "      <th>No Injured</th>\n",
       "      <th>No Affected</th>\n",
       "      <th>No Homeless</th>\n",
       "      <th>Total Affected</th>\n",
       "    </tr>\n",
       "  </thead>\n",
       "  <tbody>\n",
       "    <tr>\n",
       "      <th>13099</th>\n",
       "      <td>2015-0118-BGD</td>\n",
       "      <td>Bangladesh</td>\n",
       "      <td>Southern Asia</td>\n",
       "      <td>Asia</td>\n",
       "      <td>Bogra, Rajshahi, Naogaon, Sirajganj, Pabna dis...</td>\n",
       "      <td>53.0</td>\n",
       "      <td>200.0</td>\n",
       "      <td>20000.0</td>\n",
       "      <td>NaN</td>\n",
       "      <td>20200.0</td>\n",
       "    </tr>\n",
       "    <tr>\n",
       "      <th>13100</th>\n",
       "      <td>2015-0054-AFG</td>\n",
       "      <td>Afghanistan</td>\n",
       "      <td>Southern Asia</td>\n",
       "      <td>Asia</td>\n",
       "      <td>Laghman, Nangarhar, Panjsher, Badakhshan, Bamy...</td>\n",
       "      <td>254.0</td>\n",
       "      <td>NaN</td>\n",
       "      <td>26425.0</td>\n",
       "      <td>6560.0</td>\n",
       "      <td>32985.0</td>\n",
       "    </tr>\n",
       "    <tr>\n",
       "      <th>13101</th>\n",
       "      <td>2015-0148-AUS</td>\n",
       "      <td>Australia</td>\n",
       "      <td>Australia and New Zealand</td>\n",
       "      <td>Oceania</td>\n",
       "      <td>Dungog, Hunters Hill, Sydney districts (New So...</td>\n",
       "      <td>7.0</td>\n",
       "      <td>NaN</td>\n",
       "      <td>1000.0</td>\n",
       "      <td>NaN</td>\n",
       "      <td>1000.0</td>\n",
       "    </tr>\n",
       "    <tr>\n",
       "      <th>13102</th>\n",
       "      <td>2015-0479-BHS</td>\n",
       "      <td>Bahamas (the)</td>\n",
       "      <td>Caribbean</td>\n",
       "      <td>Americas</td>\n",
       "      <td>Exuma, Long Island, Mayaguana, Rum Cay, San Sa...</td>\n",
       "      <td>33.0</td>\n",
       "      <td>NaN</td>\n",
       "      <td>6710.0</td>\n",
       "      <td>NaN</td>\n",
       "      <td>6710.0</td>\n",
       "    </tr>\n",
       "    <tr>\n",
       "      <th>13103</th>\n",
       "      <td>2015-0090-AGO</td>\n",
       "      <td>Angola</td>\n",
       "      <td>Middle Africa</td>\n",
       "      <td>Africa</td>\n",
       "      <td>Luanda province</td>\n",
       "      <td>1.0</td>\n",
       "      <td>NaN</td>\n",
       "      <td>2000.0</td>\n",
       "      <td>NaN</td>\n",
       "      <td>2000.0</td>\n",
       "    </tr>\n",
       "  </tbody>\n",
       "</table>\n",
       "</div>"
      ],
      "text/plain": [
       "              Dis No        Country                     Region Continent  \\\n",
       "13099  2015-0118-BGD     Bangladesh              Southern Asia      Asia   \n",
       "13100  2015-0054-AFG    Afghanistan              Southern Asia      Asia   \n",
       "13101  2015-0148-AUS      Australia  Australia and New Zealand   Oceania   \n",
       "13102  2015-0479-BHS  Bahamas (the)                  Caribbean  Americas   \n",
       "13103  2015-0090-AGO         Angola              Middle Africa    Africa   \n",
       "\n",
       "                                                Location  Total Deaths  \\\n",
       "13099  Bogra, Rajshahi, Naogaon, Sirajganj, Pabna dis...          53.0   \n",
       "13100  Laghman, Nangarhar, Panjsher, Badakhshan, Bamy...         254.0   \n",
       "13101  Dungog, Hunters Hill, Sydney districts (New So...           7.0   \n",
       "13102  Exuma, Long Island, Mayaguana, Rum Cay, San Sa...          33.0   \n",
       "13103                                    Luanda province           1.0   \n",
       "\n",
       "       No Injured  No Affected  No Homeless  Total Affected  \n",
       "13099       200.0      20000.0          NaN         20200.0  \n",
       "13100         NaN      26425.0       6560.0         32985.0  \n",
       "13101         NaN       1000.0          NaN          1000.0  \n",
       "13102         NaN       6710.0          NaN          6710.0  \n",
       "13103         NaN       2000.0          NaN          2000.0  "
      ]
     },
     "execution_count": 32,
     "metadata": {},
     "output_type": "execute_result"
    }
   ],
   "source": [
    "damages = NatDisasters3[['Dis No', 'Country', 'Region', 'Continent', 'Location', 'Total Deaths',\n",
    "       'No Injured', 'No Affected', 'No Homeless', 'Total Affected']]\n",
    "\n",
    "damages.head(5)"
   ]
  },
  {
   "cell_type": "code",
   "execution_count": 33,
   "id": "c3d6efaa-7997-4add-aca7-da452f89dc77",
   "metadata": {
    "tags": []
   },
   "outputs": [],
   "source": [
    "damages.to_csv(\"damages.csv\",  index = False)"
   ]
  },
  {
   "cell_type": "markdown",
   "id": "49b08d88-f3c7-4772-8926-c26899aa4942",
   "metadata": {},
   "source": [
    "* For Economic Damages"
   ]
  },
  {
   "cell_type": "code",
   "execution_count": 34,
   "id": "fc734090-14e5-4f74-bf6c-770fe9df41ff",
   "metadata": {
    "tags": []
   },
   "outputs": [
    {
     "data": {
      "text/html": [
       "<div>\n",
       "<style scoped>\n",
       "    .dataframe tbody tr th:only-of-type {\n",
       "        vertical-align: middle;\n",
       "    }\n",
       "\n",
       "    .dataframe tbody tr th {\n",
       "        vertical-align: top;\n",
       "    }\n",
       "\n",
       "    .dataframe thead th {\n",
       "        text-align: right;\n",
       "    }\n",
       "</style>\n",
       "<table border=\"1\" class=\"dataframe\">\n",
       "  <thead>\n",
       "    <tr style=\"text-align: right;\">\n",
       "      <th></th>\n",
       "      <th>Dis No</th>\n",
       "      <th>Country</th>\n",
       "      <th>Region</th>\n",
       "      <th>Continent</th>\n",
       "      <th>Location</th>\n",
       "      <th>Total Deaths</th>\n",
       "      <th>No Injured</th>\n",
       "      <th>No Affected</th>\n",
       "      <th>No Homeless</th>\n",
       "      <th>Total Affected</th>\n",
       "      <th>Reconstruction Costs</th>\n",
       "      <th>Insured Damages</th>\n",
       "      <th>Total Damages</th>\n",
       "    </tr>\n",
       "  </thead>\n",
       "  <tbody>\n",
       "    <tr>\n",
       "      <th>13099</th>\n",
       "      <td>2015-0118-BGD</td>\n",
       "      <td>Bangladesh</td>\n",
       "      <td>Southern Asia</td>\n",
       "      <td>Asia</td>\n",
       "      <td>Bogra, Rajshahi, Naogaon, Sirajganj, Pabna dis...</td>\n",
       "      <td>53.0</td>\n",
       "      <td>200.0</td>\n",
       "      <td>20000.0</td>\n",
       "      <td>NaN</td>\n",
       "      <td>20200.0</td>\n",
       "      <td>NaN</td>\n",
       "      <td>NaN</td>\n",
       "      <td>4000.0</td>\n",
       "    </tr>\n",
       "    <tr>\n",
       "      <th>13100</th>\n",
       "      <td>2015-0054-AFG</td>\n",
       "      <td>Afghanistan</td>\n",
       "      <td>Southern Asia</td>\n",
       "      <td>Asia</td>\n",
       "      <td>Laghman, Nangarhar, Panjsher, Badakhshan, Bamy...</td>\n",
       "      <td>254.0</td>\n",
       "      <td>NaN</td>\n",
       "      <td>26425.0</td>\n",
       "      <td>6560.0</td>\n",
       "      <td>32985.0</td>\n",
       "      <td>NaN</td>\n",
       "      <td>NaN</td>\n",
       "      <td>3000.0</td>\n",
       "    </tr>\n",
       "    <tr>\n",
       "      <th>13101</th>\n",
       "      <td>2015-0148-AUS</td>\n",
       "      <td>Australia</td>\n",
       "      <td>Australia and New Zealand</td>\n",
       "      <td>Oceania</td>\n",
       "      <td>Dungog, Hunters Hill, Sydney districts (New So...</td>\n",
       "      <td>7.0</td>\n",
       "      <td>NaN</td>\n",
       "      <td>1000.0</td>\n",
       "      <td>NaN</td>\n",
       "      <td>1000.0</td>\n",
       "      <td>NaN</td>\n",
       "      <td>730000.0</td>\n",
       "      <td>1300000.0</td>\n",
       "    </tr>\n",
       "  </tbody>\n",
       "</table>\n",
       "</div>"
      ],
      "text/plain": [
       "              Dis No      Country                     Region Continent  \\\n",
       "13099  2015-0118-BGD   Bangladesh              Southern Asia      Asia   \n",
       "13100  2015-0054-AFG  Afghanistan              Southern Asia      Asia   \n",
       "13101  2015-0148-AUS    Australia  Australia and New Zealand   Oceania   \n",
       "\n",
       "                                                Location  Total Deaths  \\\n",
       "13099  Bogra, Rajshahi, Naogaon, Sirajganj, Pabna dis...          53.0   \n",
       "13100  Laghman, Nangarhar, Panjsher, Badakhshan, Bamy...         254.0   \n",
       "13101  Dungog, Hunters Hill, Sydney districts (New So...           7.0   \n",
       "\n",
       "       No Injured  No Affected  No Homeless  Total Affected  \\\n",
       "13099       200.0      20000.0          NaN         20200.0   \n",
       "13100         NaN      26425.0       6560.0         32985.0   \n",
       "13101         NaN       1000.0          NaN          1000.0   \n",
       "\n",
       "       Reconstruction Costs  Insured Damages  Total Damages  \n",
       "13099                   NaN              NaN         4000.0  \n",
       "13100                   NaN              NaN         3000.0  \n",
       "13101                   NaN         730000.0      1300000.0  "
      ]
     },
     "execution_count": 34,
     "metadata": {},
     "output_type": "execute_result"
    }
   ],
   "source": [
    "econ_damages = NatDisasters3\n",
    "econ_damages.head(3)"
   ]
  },
  {
   "cell_type": "code",
   "execution_count": 155,
   "id": "aae8b363-cd3d-435f-9989-c55765c49681",
   "metadata": {
    "tags": []
   },
   "outputs": [],
   "source": [
    "econ_damages.to_csv(\"econ_dam.csv\", index = False)"
   ]
  },
  {
   "cell_type": "code",
   "execution_count": 171,
   "id": "41e2c428-6d63-444e-8c84-b4bbf96e58a0",
   "metadata": {
    "tags": []
   },
   "outputs": [],
   "source": [
    "occurs_relation = NatDisasters2[['Year', 'Disaster Type', 'Country', 'Region']]\n",
    "\n",
    "\n",
    "order = [\"Country\", \"Region\", \"Year\", 'Disaster Type']\n",
    "\n",
    "occurs_relation = occurs_relation[order]\n",
    "occurs_relation.to_csv(\"occurs_relation.csv\", index = False)"
   ]
  },
  {
   "cell_type": "markdown",
   "id": "72abe972-66e7-498d-ad11-6df32b2d32a3",
   "metadata": {},
   "source": [
    "# SQL - CREATE TABLE STATEMENTS + INSERT STATEMENTS GENERATING"
   ]
  },
  {
   "cell_type": "code",
   "execution_count": 176,
   "id": "04fd3f69-ed6a-491e-a1dc-20a11a234f46",
   "metadata": {
    "tags": []
   },
   "outputs": [],
   "source": [
    "sql_statement = \"\"\"\n",
    "CREATE TABLE Climate_Metrics(\n",
    "    Country_Name CHAR(20),\n",
    "    Year_Recorded INT, \n",
    "    Temperature FLOAT,\n",
    "    Humidity FLOAT, \n",
    "    Wind_Speed FLOAT, \n",
    "    Precipitation FLOAT, \n",
    "    CO2_Emissions FLOAT, \n",
    "    Sea_Level_Rise FLOAT,\n",
    "    PRIMARY KEY (Country_Name, Year_Recorded)\n",
    ");\n",
    "\n",
    "CREATE TABLE Country (\n",
    "    Name CHAR(20),\n",
    "    Geographic_Location CHAR (20),\n",
    "    PRIMARY KEY (Name, Geographic_Location)\n",
    ");\n",
    "\n",
    "CREATE TABLE Natural_Disaster(\n",
    "    Disaster_Year INT, \n",
    "    Type CHAR(20), \n",
    "    Country_Name CHAR(20), \n",
    "    Year_Recorded INT,\n",
    "    PRIMARY KEY (Disaster_Year, Type)\n",
    "    FOREIGN KEY (Country_Name, Year_Recorded) REFERENCES Climate_Metrics(Country Name, Year_Recorded)\n",
    "        ON DELETE CASCADE\n",
    "        ON UPDATE CASCADE\n",
    ");\n",
    "\n",
    "CREATE TABLE Disaster_In_Country(\n",
    "    Name CHAR(20), \n",
    "    Geographic_Location CHAR(20), \n",
    "    Disaster_Year INT, \n",
    "    Type CHAR(20), \n",
    "    PRIMARY KEY (Name, Geographic_Location, Disaster_Year, Type)\n",
    "    FOREIGN KEY (Name, Geographic_Location) REFERENCES Country(Name, Geographic_Location)\n",
    "        ON DELETE CASCADE\n",
    "        ON UPDATE CASCADE\n",
    "    FOREIGN KEY (Disaster_Year, Type) REFERENCES Natural_Disaster(Disaster_Year, Type)\n",
    "        ON DELETE CASCADE\n",
    "        ON UPDATE CASCADE\n",
    ");\n",
    "\n",
    "CREATE TABLE Damages(\n",
    "    Country_Name CHAR(20),\n",
    "    Disaster_Type  CHAR(20),\n",
    "    Injury_Rate FLOAT,\n",
    "    Death_Rate FLOAT, \n",
    "    Homelessness_Rate FLOAT,\n",
    "    PRIMARY KEY (Country_Name, Disaster_Type) \n",
    "    FOREIGN KEY (Disaster_Year, Type) REFERENCES Natural_Disaster(Country_Name, Type)\n",
    "    ON DELETE CASCADE\n",
    "    ON UPDATE CASCADE\n",
    "    (Disaster_Year, Type)\n",
    ");\n",
    "\n",
    "CREATE TABLE Economic_Damages(\n",
    "    Total_Economic_Damages FLOAT,\n",
    "    Country_Name CHAR(20),\n",
    "    Disaster_Type CHAR(20),\n",
    "    Year INT, \n",
    "    Total Economic Damages as GDP share FLOAT, \n",
    "    Insured Damages FLOAT, \n",
    "    Reconstruction Costs FLOAT,\n",
    "    PRIMARY KEY (Total Economic Damages, Country Name, Disaster Type, Year)\n",
    "    FOREIGN KEY (Country Name, Disaster Type, Year) REFERENCES Damages(Country_Name, Disaster_Type, Year)\n",
    "        ON DELETE CASCADE\n",
    "        ON UPDATE CASCADE\n",
    ");\n",
    "\n",
    "CREATE TABLE Socio_Economic_Damages(\n",
    "    GDP FLOAT,\n",
    "    GDP_Per_Capita FLOAT,\n",
    "    Population_Density FLOAT,\n",
    "    Social_Support FLOAT,\n",
    "    Unemployment_Rate FLOAT,\n",
    "    Name CHAR(20) NOT NULL,\n",
    "    GeographicLocation CHAR(20) NOT NULL,\n",
    "    Country_Name CHAR(20),\n",
    "    Disaster_Type CHAR(20), \n",
    "    Year INT,\n",
    "    PRIMARY KEY (Country_Name, Disaster_Type, Year), \n",
    "    FOREIGN KEY (Name, Geographic_Location) REFERENCES Country(Name, Geographic_Location)\n",
    "        ON DELETE CASCADE\n",
    "        ON UPDATE CASCADE\n",
    "    UNIQUE (Country_Name, Disaster_Type, Year)\n",
    "    FOREIGN KEY (Country_Name, Disaster_Type, Year) REFERENCES Damages(Country_Name, Disaster_Type, Year)\n",
    "        ON DELETE NO ACTION\n",
    "        ON UPDATE CASCASE\n",
    ");\n",
    "\n",
    "\n",
    "\"\"\""
   ]
  },
  {
   "cell_type": "code",
   "execution_count": 177,
   "id": "1f5c9687-acdb-487b-a65a-bd67e254ad43",
   "metadata": {
    "tags": []
   },
   "outputs": [],
   "source": [
    "# Open a new file in write mode to create the SQL file\n",
    "with open(\"sql_statements.sql\", \"w\") as file:\n",
    "    # Write the SQL statement to the file\n",
    "    file.write(sql_statement)"
   ]
  },
  {
   "cell_type": "code",
   "execution_count": 178,
   "id": "584aba9b-9653-4d53-8de5-b9676efe4253",
   "metadata": {
    "tags": []
   },
   "outputs": [],
   "source": [
    "# Function takes csv datafile and table name to generate INSERT statements\n",
    "def generate_insert_statements(file_name, table_name):\n",
    "    insert_statements = []\n",
    "    with open(file_name, 'r', newline='') as csvfile:\n",
    "        reader = csv.reader(csvfile)\n",
    "        next(reader)\n",
    "        for row in reader:\n",
    "            values = ', '.join([f'{value}' if not value.isdigit() else value for value in row])\n",
    "            insert_statement = f\"INSERT INTO {table_name} VALUES ({values});\"\n",
    "            insert_statements.append(insert_statement)\n",
    "    return insert_statements\n",
    "\n",
    "\n",
    "\n",
    "def add_insert_statements(insert_statements, file_name='sql_statements.sql'):\n",
    "    with open(file_name, 'a') as file:\n",
    "        for statement in insert_statements:\n",
    "            file.write(statement + '\\n')"
   ]
  },
  {
   "cell_type": "code",
   "execution_count": 179,
   "id": "e3250647-8107-4ea2-a6ab-f305ef2ac21a",
   "metadata": {
    "tags": []
   },
   "outputs": [],
   "source": [
    "# Usage\n",
    "\n",
    "climate_file = \"ClimateMetricsFinal.csv\"  \n",
    "country_file = \"Country.csv\"\n",
    "natural_file = \"natural_dis_ent.csv\"\n",
    "occurs = \"occurs_relation.csv\"\n",
    "damages_file = \"damages.csv\"\n",
    "econ_damages_file = \"econ_dam.csv\"\n",
    "socio_econ_file = \"socio_econ.csv\"\n",
    "\n",
    "insert_climate = generate_insert_statements(climate_file, \"Climate_Metrics\")\n",
    "insert_country = generate_insert_statements(country_file, \"Country\")\n",
    "insert_natural = generate_insert_statements(natural_file, \"Natural_Disaster\")\n",
    "insert_occurs = generate_insert_statements(occurs, \"Disaster_In_Country\")\n",
    "insert_damages = generate_insert_statements(damages_file, \"Damages\")\n",
    "insert_econdamages = generate_insert_statements(econ_damages_file, \"Economic_Damages\")\n",
    "insert_socioecon = generate_insert_statements(socio_econ_file, \"Socio_Economic_Damages\")\n",
    "\n",
    "add_insert_statements(insert_climate)\n",
    "add_insert_statements(insert_country)\n",
    "add_insert_statements(insert_natural)\n",
    "add_insert_statements(insert_occurs)\n",
    "add_insert_statements(insert_damages)\n",
    "add_insert_statements(insert_econdamages)\n",
    "add_insert_statements(insert_socioecon)"
   ]
  },
  {
   "cell_type": "markdown",
   "id": "f40d3874-8ed1-462c-9e42-43a5ddc4b478",
   "metadata": {},
   "source": [
    "### CITATIONS:\n",
    "\n",
    "SQLServerCentral. (2023, May 5). Python 3 Script for Generating SQL INSERT Statements from CSV Data. SQLServerCentral. Retrieved March 8, 2024, from https://www.sqlservercentral.com/scripts/python-3-script-for-generating-sql-insert-statements-from-csv-data\n",
    "\n",
    "FoxInfotech. (2023, March 30). How to Convert CSV to SQL INSERT Statements. DEV Community. Retrieved March 8, 2024, from https://dev.to/foxinfotech/how-to-convert-csv-to-sql-insert-statements-2on\n",
    "\n"
   ]
  }
 ],
 "metadata": {
  "kernelspec": {
   "display_name": "Python [conda env:cpsc330]",
   "language": "python",
   "name": "conda-env-cpsc330-py"
  },
  "language_info": {
   "codemirror_mode": {
    "name": "ipython",
    "version": 3
   },
   "file_extension": ".py",
   "mimetype": "text/x-python",
   "name": "python",
   "nbconvert_exporter": "python",
   "pygments_lexer": "ipython3",
   "version": "3.10.13"
  }
 },
 "nbformat": 4,
 "nbformat_minor": 5
}
