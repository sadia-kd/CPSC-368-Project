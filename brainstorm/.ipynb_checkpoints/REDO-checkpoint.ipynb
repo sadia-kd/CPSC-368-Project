{
 "cells": [
  {
   "cell_type": "markdown",
   "id": "33419fe7-54ca-41aa-b84a-48dd999497d7",
   "metadata": {},
   "source": [
    "# CLEANING THE DATASETS"
   ]
  },
  {
   "cell_type": "code",
   "execution_count": 26,
   "id": "24c4bb29-212f-4282-8d1e-e8006d53d5f3",
   "metadata": {
    "tags": []
   },
   "outputs": [],
   "source": [
    "import pandas as pd\n",
    "import numpy as np\n",
    "import csv"
   ]
  },
  {
   "cell_type": "markdown",
   "id": "f743a0ca-65e6-4298-852b-9e50f92cbe38",
   "metadata": {},
   "source": [
    "# 1 : Climate\n",
    "* EDA and filter for relevant years"
   ]
  },
  {
   "cell_type": "code",
   "execution_count": 72,
   "id": "6f33dc06-7b6d-4385-b38d-4977e37b24b7",
   "metadata": {
    "tags": []
   },
   "outputs": [
    {
     "data": {
      "text/plain": [
       "(10000, 9)"
      ]
     },
     "execution_count": 72,
     "metadata": {},
     "output_type": "execute_result"
    }
   ],
   "source": [
    "climate = pd.read_csv(\"climate_change_data.csv\", parse_dates=['Date'])\n",
    "climate.shape"
   ]
  },
  {
   "cell_type": "code",
   "execution_count": 73,
   "id": "812fd7b1-9a46-4e86-b99d-c38c9174d0d6",
   "metadata": {
    "tags": []
   },
   "outputs": [
    {
     "data": {
      "text/plain": [
       "(3044, 9)"
      ]
     },
     "execution_count": 73,
     "metadata": {},
     "output_type": "execute_result"
    }
   ],
   "source": [
    "# Relevant Years - most recent climate metircs\n",
    "climate = climate[(climate['Date'] >= '2015') & (climate['Date'] < '2022')]\n",
    "climate.shape"
   ]
  },
  {
   "cell_type": "code",
   "execution_count": 74,
   "id": "25a34efc-57f0-4640-af6a-ff3487b1df1c",
   "metadata": {
    "tags": []
   },
   "outputs": [
    {
     "data": {
      "text/plain": [
       "array([2015, 2016, 2017, 2018, 2019, 2020, 2021])"
      ]
     },
     "execution_count": 74,
     "metadata": {},
     "output_type": "execute_result"
    }
   ],
   "source": [
    "# check for unique years\n",
    "climate['Year'] = climate['Date'].dt.year\n",
    "climate['Year'].unique()"
   ]
  },
  {
   "cell_type": "code",
   "execution_count": 75,
   "id": "0e930306-c2c4-4187-a65f-8c22936fd51e",
   "metadata": {
    "tags": []
   },
   "outputs": [],
   "source": [
    "# drop Date column\n",
    "climate = climate.drop(columns = [\"Date\"])"
   ]
  },
  {
   "cell_type": "code",
   "execution_count": 76,
   "id": "b7e8c9b0-ba2c-45f7-8615-d87cc7e1c893",
   "metadata": {
    "tags": []
   },
   "outputs": [
    {
     "data": {
      "text/plain": [
       "Location          0\n",
       "Country           0\n",
       "Temperature       0\n",
       "CO2 Emissions     0\n",
       "Sea Level Rise    0\n",
       "Precipitation     0\n",
       "Humidity          0\n",
       "Wind Speed        0\n",
       "Year              0\n",
       "dtype: int64"
      ]
     },
     "execution_count": 76,
     "metadata": {},
     "output_type": "execute_result"
    }
   ],
   "source": [
    "# check for missing data\n",
    "climate.isnull().sum()"
   ]
  },
  {
   "cell_type": "code",
   "execution_count": 77,
   "id": "60f09021-6ad0-454f-8574-f7cc994e56fb",
   "metadata": {
    "tags": []
   },
   "outputs": [
    {
     "data": {
      "text/html": [
       "<div>\n",
       "<style scoped>\n",
       "    .dataframe tbody tr th:only-of-type {\n",
       "        vertical-align: middle;\n",
       "    }\n",
       "\n",
       "    .dataframe tbody tr th {\n",
       "        vertical-align: top;\n",
       "    }\n",
       "\n",
       "    .dataframe thead th {\n",
       "        text-align: right;\n",
       "    }\n",
       "</style>\n",
       "<table border=\"1\" class=\"dataframe\">\n",
       "  <thead>\n",
       "    <tr style=\"text-align: right;\">\n",
       "      <th></th>\n",
       "      <th>Location</th>\n",
       "      <th>Country_Name</th>\n",
       "      <th>Temperature</th>\n",
       "      <th>CO2 Emissions</th>\n",
       "      <th>Sea Level Rise</th>\n",
       "      <th>Precipitation</th>\n",
       "      <th>Humidity</th>\n",
       "      <th>Wind Speed</th>\n",
       "      <th>Year_Recorded</th>\n",
       "    </tr>\n",
       "  </thead>\n",
       "  <tbody>\n",
       "    <tr>\n",
       "      <th>6522</th>\n",
       "      <td>South Randyhaven</td>\n",
       "      <td>Tokelau</td>\n",
       "      <td>12.741450</td>\n",
       "      <td>375.859719</td>\n",
       "      <td>2.477432</td>\n",
       "      <td>78.719494</td>\n",
       "      <td>8.473790</td>\n",
       "      <td>44.228532</td>\n",
       "      <td>2015</td>\n",
       "    </tr>\n",
       "    <tr>\n",
       "      <th>6523</th>\n",
       "      <td>Callahanside</td>\n",
       "      <td>Taiwan</td>\n",
       "      <td>6.212111</td>\n",
       "      <td>403.630614</td>\n",
       "      <td>1.319202</td>\n",
       "      <td>13.321146</td>\n",
       "      <td>55.344393</td>\n",
       "      <td>21.047860</td>\n",
       "      <td>2015</td>\n",
       "    </tr>\n",
       "  </tbody>\n",
       "</table>\n",
       "</div>"
      ],
      "text/plain": [
       "              Location Country_Name  Temperature  CO2 Emissions  \\\n",
       "6522  South Randyhaven      Tokelau    12.741450     375.859719   \n",
       "6523      Callahanside       Taiwan     6.212111     403.630614   \n",
       "\n",
       "      Sea Level Rise  Precipitation   Humidity  Wind Speed  Year_Recorded  \n",
       "6522        2.477432      78.719494   8.473790   44.228532           2015  \n",
       "6523        1.319202      13.321146  55.344393   21.047860           2015  "
      ]
     },
     "execution_count": 77,
     "metadata": {},
     "output_type": "execute_result"
    }
   ],
   "source": [
    "# rename a few columns\n",
    "climate = climate.rename(columns = {\"Year\" : \"Year_Recorded\", \n",
    "                                    \"Country\" : \"Country_Name\", \n",
    "                                    })\n",
    "\n",
    "\n",
    "climate.head(2)"
   ]
  },
  {
   "cell_type": "code",
   "execution_count": 78,
   "id": "aec2bd6e-512a-4e3b-8e8c-0cc387337f63",
   "metadata": {
    "tags": []
   },
   "outputs": [
    {
     "data": {
      "text/html": [
       "<div>\n",
       "<style scoped>\n",
       "    .dataframe tbody tr th:only-of-type {\n",
       "        vertical-align: middle;\n",
       "    }\n",
       "\n",
       "    .dataframe tbody tr th {\n",
       "        vertical-align: top;\n",
       "    }\n",
       "\n",
       "    .dataframe thead th {\n",
       "        text-align: right;\n",
       "    }\n",
       "</style>\n",
       "<table border=\"1\" class=\"dataframe\">\n",
       "  <thead>\n",
       "    <tr style=\"text-align: right;\">\n",
       "      <th></th>\n",
       "      <th>Country_Name</th>\n",
       "      <th>Location</th>\n",
       "      <th>Year_Recorded</th>\n",
       "      <th>Temperature</th>\n",
       "      <th>Humidity</th>\n",
       "      <th>Wind Speed</th>\n",
       "      <th>Precipitation</th>\n",
       "      <th>CO2 Emissions</th>\n",
       "      <th>Sea Level Rise</th>\n",
       "    </tr>\n",
       "  </thead>\n",
       "  <tbody>\n",
       "    <tr>\n",
       "      <th>6522</th>\n",
       "      <td>Tokelau</td>\n",
       "      <td>South Randyhaven</td>\n",
       "      <td>2015</td>\n",
       "      <td>12.741450</td>\n",
       "      <td>8.473790</td>\n",
       "      <td>44.228532</td>\n",
       "      <td>78.719494</td>\n",
       "      <td>375.859719</td>\n",
       "      <td>2.477432</td>\n",
       "    </tr>\n",
       "    <tr>\n",
       "      <th>6523</th>\n",
       "      <td>Taiwan</td>\n",
       "      <td>Callahanside</td>\n",
       "      <td>2015</td>\n",
       "      <td>6.212111</td>\n",
       "      <td>55.344393</td>\n",
       "      <td>21.047860</td>\n",
       "      <td>13.321146</td>\n",
       "      <td>403.630614</td>\n",
       "      <td>1.319202</td>\n",
       "    </tr>\n",
       "  </tbody>\n",
       "</table>\n",
       "</div>"
      ],
      "text/plain": [
       "     Country_Name          Location  Year_Recorded  Temperature   Humidity  \\\n",
       "6522      Tokelau  South Randyhaven           2015    12.741450   8.473790   \n",
       "6523       Taiwan      Callahanside           2015     6.212111  55.344393   \n",
       "\n",
       "      Wind Speed  Precipitation  CO2 Emissions  Sea Level Rise  \n",
       "6522   44.228532      78.719494     375.859719        2.477432  \n",
       "6523   21.047860      13.321146     403.630614        1.319202  "
      ]
     },
     "execution_count": 78,
     "metadata": {},
     "output_type": "execute_result"
    }
   ],
   "source": [
    "order = ['Country_Name', 'Location', 'Year_Recorded', 'Temperature', 'Humidity', \n",
    "         'Wind Speed', 'Precipitation', 'CO2 Emissions', 'Sea Level Rise']\n",
    "\n",
    "# Reorder columns in the DataFrame\n",
    "climate = climate[order]\n",
    "climate.head(2)"
   ]
  },
  {
   "cell_type": "code",
   "execution_count": 79,
   "id": "9624027c-f9c1-4d96-85a9-7d8e413e032f",
   "metadata": {
    "tags": []
   },
   "outputs": [
    {
     "data": {
      "text/plain": [
       "((3044, 9), 243, 2753)"
      ]
     },
     "execution_count": 79,
     "metadata": {},
     "output_type": "execute_result"
    }
   ],
   "source": [
    "# Are these repeated rows\n",
    "climate.shape, climate['Country_Name'].nunique(), climate['Location'].nunique()"
   ]
  },
  {
   "cell_type": "code",
   "execution_count": 68,
   "id": "ef77f7c5-2dca-4da7-98cf-d1806d55f5de",
   "metadata": {
    "tags": []
   },
   "outputs": [
    {
     "data": {
      "text/plain": [
       "(3044, 10)"
      ]
     },
     "execution_count": 68,
     "metadata": {},
     "output_type": "execute_result"
    }
   ],
   "source": [
    "# Any duplication by country\n",
    "duplicates = climate.duplicated(subset=['Country_Name'], keep = False)\n",
    "duplicate_entries = climate[duplicates]\n",
    "duplicate_entries.shape"
   ]
  },
  {
   "cell_type": "code",
   "execution_count": 69,
   "id": "1319ddeb-155e-441e-a707-a5c38b78488b",
   "metadata": {
    "tags": []
   },
   "outputs": [
    {
     "data": {
      "text/html": [
       "<div>\n",
       "<style scoped>\n",
       "    .dataframe tbody tr th:only-of-type {\n",
       "        vertical-align: middle;\n",
       "    }\n",
       "\n",
       "    .dataframe tbody tr th {\n",
       "        vertical-align: top;\n",
       "    }\n",
       "\n",
       "    .dataframe thead th {\n",
       "        text-align: right;\n",
       "    }\n",
       "</style>\n",
       "<table border=\"1\" class=\"dataframe\">\n",
       "  <thead>\n",
       "    <tr style=\"text-align: right;\">\n",
       "      <th></th>\n",
       "      <th>Date</th>\n",
       "      <th>Location</th>\n",
       "      <th>Country_Name</th>\n",
       "      <th>Temperature</th>\n",
       "      <th>CO2 Emissions</th>\n",
       "      <th>Sea Level Rise</th>\n",
       "      <th>Precipitation</th>\n",
       "      <th>Humidity</th>\n",
       "      <th>Wind Speed</th>\n",
       "      <th>Year_Recorded</th>\n",
       "    </tr>\n",
       "  </thead>\n",
       "  <tbody>\n",
       "    <tr>\n",
       "      <th>6566</th>\n",
       "      <td>2015-02-06 23:47:54.167416704</td>\n",
       "      <td>South Christopher</td>\n",
       "      <td>Canada</td>\n",
       "      <td>13.589740</td>\n",
       "      <td>506.540559</td>\n",
       "      <td>2.454425</td>\n",
       "      <td>60.167978</td>\n",
       "      <td>47.787859</td>\n",
       "      <td>8.158033</td>\n",
       "      <td>2015</td>\n",
       "    </tr>\n",
       "    <tr>\n",
       "      <th>6682</th>\n",
       "      <td>2015-05-15 10:35:32.133213312</td>\n",
       "      <td>Port Jonathanbury</td>\n",
       "      <td>Canada</td>\n",
       "      <td>19.634377</td>\n",
       "      <td>452.674347</td>\n",
       "      <td>0.293654</td>\n",
       "      <td>31.636706</td>\n",
       "      <td>64.150911</td>\n",
       "      <td>43.481749</td>\n",
       "      <td>2015</td>\n",
       "    </tr>\n",
       "    <tr>\n",
       "      <th>6693</th>\n",
       "      <td>2015-05-24 16:22:27.974797440</td>\n",
       "      <td>Willisbury</td>\n",
       "      <td>Canada</td>\n",
       "      <td>22.823668</td>\n",
       "      <td>339.168583</td>\n",
       "      <td>-2.523549</td>\n",
       "      <td>4.040704</td>\n",
       "      <td>23.367901</td>\n",
       "      <td>16.220065</td>\n",
       "      <td>2015</td>\n",
       "    </tr>\n",
       "    <tr>\n",
       "      <th>6785</th>\n",
       "      <td>2015-08-09 23:16:47.740774016</td>\n",
       "      <td>Sarahmouth</td>\n",
       "      <td>Canada</td>\n",
       "      <td>24.672630</td>\n",
       "      <td>359.111729</td>\n",
       "      <td>1.163173</td>\n",
       "      <td>2.965411</td>\n",
       "      <td>41.752061</td>\n",
       "      <td>40.971051</td>\n",
       "      <td>2015</td>\n",
       "    </tr>\n",
       "    <tr>\n",
       "      <th>6926</th>\n",
       "      <td>2015-12-06 10:07:27.164716416</td>\n",
       "      <td>Kimberlystad</td>\n",
       "      <td>Canada</td>\n",
       "      <td>11.855448</td>\n",
       "      <td>401.798863</td>\n",
       "      <td>0.141529</td>\n",
       "      <td>5.056962</td>\n",
       "      <td>14.200795</td>\n",
       "      <td>48.075141</td>\n",
       "      <td>2015</td>\n",
       "    </tr>\n",
       "    <tr>\n",
       "      <th>6940</th>\n",
       "      <td>2015-12-18 04:23:32.781278080</td>\n",
       "      <td>Ronaldtown</td>\n",
       "      <td>Canada</td>\n",
       "      <td>18.341962</td>\n",
       "      <td>446.400437</td>\n",
       "      <td>0.365060</td>\n",
       "      <td>84.503668</td>\n",
       "      <td>29.788826</td>\n",
       "      <td>27.228367</td>\n",
       "      <td>2015</td>\n",
       "    </tr>\n",
       "    <tr>\n",
       "      <th>7003</th>\n",
       "      <td>2016-02-09 02:35:58.055805568</td>\n",
       "      <td>North Jackville</td>\n",
       "      <td>Canada</td>\n",
       "      <td>9.615207</td>\n",
       "      <td>357.731164</td>\n",
       "      <td>0.061910</td>\n",
       "      <td>42.322801</td>\n",
       "      <td>21.565990</td>\n",
       "      <td>20.019106</td>\n",
       "      <td>2016</td>\n",
       "    </tr>\n",
       "    <tr>\n",
       "      <th>7063</th>\n",
       "      <td>2016-03-30 12:19:13.555355520</td>\n",
       "      <td>South Angelamouth</td>\n",
       "      <td>Canada</td>\n",
       "      <td>16.522055</td>\n",
       "      <td>392.827575</td>\n",
       "      <td>-0.412017</td>\n",
       "      <td>26.904799</td>\n",
       "      <td>16.835290</td>\n",
       "      <td>43.553686</td>\n",
       "      <td>2016</td>\n",
       "    </tr>\n",
       "    <tr>\n",
       "      <th>7136</th>\n",
       "      <td>2016-05-30 20:08:51.413141248</td>\n",
       "      <td>Barronborough</td>\n",
       "      <td>Canada</td>\n",
       "      <td>13.896225</td>\n",
       "      <td>357.062744</td>\n",
       "      <td>1.527755</td>\n",
       "      <td>60.024514</td>\n",
       "      <td>43.319538</td>\n",
       "      <td>42.448122</td>\n",
       "      <td>2016</td>\n",
       "    </tr>\n",
       "    <tr>\n",
       "      <th>7144</th>\n",
       "      <td>2016-06-06 13:26:37.479747968</td>\n",
       "      <td>West Meganhaven</td>\n",
       "      <td>Canada</td>\n",
       "      <td>17.525698</td>\n",
       "      <td>358.944429</td>\n",
       "      <td>-0.004424</td>\n",
       "      <td>17.648270</td>\n",
       "      <td>52.439442</td>\n",
       "      <td>23.794573</td>\n",
       "      <td>2016</td>\n",
       "    </tr>\n",
       "    <tr>\n",
       "      <th>7473</th>\n",
       "      <td>2017-03-09 22:44:49.468946880</td>\n",
       "      <td>East Debra</td>\n",
       "      <td>Canada</td>\n",
       "      <td>19.739906</td>\n",
       "      <td>433.049758</td>\n",
       "      <td>0.650314</td>\n",
       "      <td>3.077060</td>\n",
       "      <td>36.424124</td>\n",
       "      <td>10.866158</td>\n",
       "      <td>2017</td>\n",
       "    </tr>\n",
       "    <tr>\n",
       "      <th>7574</th>\n",
       "      <td>2017-06-02 19:06:38.559855936</td>\n",
       "      <td>Webbshire</td>\n",
       "      <td>Canada</td>\n",
       "      <td>9.851944</td>\n",
       "      <td>428.587723</td>\n",
       "      <td>0.112126</td>\n",
       "      <td>77.099484</td>\n",
       "      <td>8.440428</td>\n",
       "      <td>23.591580</td>\n",
       "      <td>2017</td>\n",
       "    </tr>\n",
       "    <tr>\n",
       "      <th>7743</th>\n",
       "      <td>2017-10-22 18:29:29.216921664</td>\n",
       "      <td>East James</td>\n",
       "      <td>Canada</td>\n",
       "      <td>12.700199</td>\n",
       "      <td>385.124735</td>\n",
       "      <td>0.630565</td>\n",
       "      <td>10.172691</td>\n",
       "      <td>96.671362</td>\n",
       "      <td>24.926498</td>\n",
       "      <td>2017</td>\n",
       "    </tr>\n",
       "    <tr>\n",
       "      <th>8355</th>\n",
       "      <td>2019-03-20 21:38:43.312331136</td>\n",
       "      <td>Lake Kelly</td>\n",
       "      <td>Canada</td>\n",
       "      <td>18.079972</td>\n",
       "      <td>387.726472</td>\n",
       "      <td>-0.740700</td>\n",
       "      <td>91.169472</td>\n",
       "      <td>19.744784</td>\n",
       "      <td>41.214596</td>\n",
       "      <td>2019</td>\n",
       "    </tr>\n",
       "    <tr>\n",
       "      <th>8651</th>\n",
       "      <td>2019-11-24 13:36:07.776777600</td>\n",
       "      <td>New Jonathanstad</td>\n",
       "      <td>Canada</td>\n",
       "      <td>10.736034</td>\n",
       "      <td>357.912487</td>\n",
       "      <td>-0.541520</td>\n",
       "      <td>25.406371</td>\n",
       "      <td>69.471308</td>\n",
       "      <td>39.255407</td>\n",
       "      <td>2019</td>\n",
       "    </tr>\n",
       "    <tr>\n",
       "      <th>8676</th>\n",
       "      <td>2019-12-15 13:39:09.234923392</td>\n",
       "      <td>West Rebeccaberg</td>\n",
       "      <td>Canada</td>\n",
       "      <td>18.278699</td>\n",
       "      <td>437.545526</td>\n",
       "      <td>1.047204</td>\n",
       "      <td>19.026858</td>\n",
       "      <td>70.219084</td>\n",
       "      <td>40.502329</td>\n",
       "      <td>2019</td>\n",
       "    </tr>\n",
       "    <tr>\n",
       "      <th>8949</th>\n",
       "      <td>2020-07-31 21:52:58.757875712</td>\n",
       "      <td>West John</td>\n",
       "      <td>Canada</td>\n",
       "      <td>12.216804</td>\n",
       "      <td>416.473118</td>\n",
       "      <td>-0.079444</td>\n",
       "      <td>58.499568</td>\n",
       "      <td>35.444732</td>\n",
       "      <td>34.661845</td>\n",
       "      <td>2020</td>\n",
       "    </tr>\n",
       "    <tr>\n",
       "      <th>9205</th>\n",
       "      <td>2021-03-03 23:21:32.889288832</td>\n",
       "      <td>Travisstad</td>\n",
       "      <td>Canada</td>\n",
       "      <td>14.502875</td>\n",
       "      <td>394.389431</td>\n",
       "      <td>1.010711</td>\n",
       "      <td>11.580368</td>\n",
       "      <td>77.274140</td>\n",
       "      <td>45.765824</td>\n",
       "      <td>2021</td>\n",
       "    </tr>\n",
       "  </tbody>\n",
       "</table>\n",
       "</div>"
      ],
      "text/plain": [
       "                              Date           Location Country_Name  \\\n",
       "6566 2015-02-06 23:47:54.167416704  South Christopher       Canada   \n",
       "6682 2015-05-15 10:35:32.133213312  Port Jonathanbury       Canada   \n",
       "6693 2015-05-24 16:22:27.974797440         Willisbury       Canada   \n",
       "6785 2015-08-09 23:16:47.740774016         Sarahmouth       Canada   \n",
       "6926 2015-12-06 10:07:27.164716416       Kimberlystad       Canada   \n",
       "6940 2015-12-18 04:23:32.781278080         Ronaldtown       Canada   \n",
       "7003 2016-02-09 02:35:58.055805568    North Jackville       Canada   \n",
       "7063 2016-03-30 12:19:13.555355520  South Angelamouth       Canada   \n",
       "7136 2016-05-30 20:08:51.413141248      Barronborough       Canada   \n",
       "7144 2016-06-06 13:26:37.479747968    West Meganhaven       Canada   \n",
       "7473 2017-03-09 22:44:49.468946880         East Debra       Canada   \n",
       "7574 2017-06-02 19:06:38.559855936          Webbshire       Canada   \n",
       "7743 2017-10-22 18:29:29.216921664         East James       Canada   \n",
       "8355 2019-03-20 21:38:43.312331136         Lake Kelly       Canada   \n",
       "8651 2019-11-24 13:36:07.776777600   New Jonathanstad       Canada   \n",
       "8676 2019-12-15 13:39:09.234923392   West Rebeccaberg       Canada   \n",
       "8949 2020-07-31 21:52:58.757875712          West John       Canada   \n",
       "9205 2021-03-03 23:21:32.889288832         Travisstad       Canada   \n",
       "\n",
       "      Temperature  CO2 Emissions  Sea Level Rise  Precipitation   Humidity  \\\n",
       "6566    13.589740     506.540559        2.454425      60.167978  47.787859   \n",
       "6682    19.634377     452.674347        0.293654      31.636706  64.150911   \n",
       "6693    22.823668     339.168583       -2.523549       4.040704  23.367901   \n",
       "6785    24.672630     359.111729        1.163173       2.965411  41.752061   \n",
       "6926    11.855448     401.798863        0.141529       5.056962  14.200795   \n",
       "6940    18.341962     446.400437        0.365060      84.503668  29.788826   \n",
       "7003     9.615207     357.731164        0.061910      42.322801  21.565990   \n",
       "7063    16.522055     392.827575       -0.412017      26.904799  16.835290   \n",
       "7136    13.896225     357.062744        1.527755      60.024514  43.319538   \n",
       "7144    17.525698     358.944429       -0.004424      17.648270  52.439442   \n",
       "7473    19.739906     433.049758        0.650314       3.077060  36.424124   \n",
       "7574     9.851944     428.587723        0.112126      77.099484   8.440428   \n",
       "7743    12.700199     385.124735        0.630565      10.172691  96.671362   \n",
       "8355    18.079972     387.726472       -0.740700      91.169472  19.744784   \n",
       "8651    10.736034     357.912487       -0.541520      25.406371  69.471308   \n",
       "8676    18.278699     437.545526        1.047204      19.026858  70.219084   \n",
       "8949    12.216804     416.473118       -0.079444      58.499568  35.444732   \n",
       "9205    14.502875     394.389431        1.010711      11.580368  77.274140   \n",
       "\n",
       "      Wind Speed  Year_Recorded  \n",
       "6566    8.158033           2015  \n",
       "6682   43.481749           2015  \n",
       "6693   16.220065           2015  \n",
       "6785   40.971051           2015  \n",
       "6926   48.075141           2015  \n",
       "6940   27.228367           2015  \n",
       "7003   20.019106           2016  \n",
       "7063   43.553686           2016  \n",
       "7136   42.448122           2016  \n",
       "7144   23.794573           2016  \n",
       "7473   10.866158           2017  \n",
       "7574   23.591580           2017  \n",
       "7743   24.926498           2017  \n",
       "8355   41.214596           2019  \n",
       "8651   39.255407           2019  \n",
       "8676   40.502329           2019  \n",
       "8949   34.661845           2020  \n",
       "9205   45.765824           2021  "
      ]
     },
     "execution_count": 69,
     "metadata": {},
     "output_type": "execute_result"
    }
   ],
   "source": [
    "# Canada\n",
    "climate[climate[\"Country_Name\"] == \"Canada\"]"
   ]
  },
  {
   "cell_type": "code",
   "execution_count": 44,
   "id": "975ab358-70e2-4745-9b0e-7890baeaaae0",
   "metadata": {
    "tags": []
   },
   "outputs": [
    {
     "data": {
      "text/html": [
       "<div>\n",
       "<style scoped>\n",
       "    .dataframe tbody tr th:only-of-type {\n",
       "        vertical-align: middle;\n",
       "    }\n",
       "\n",
       "    .dataframe tbody tr th {\n",
       "        vertical-align: top;\n",
       "    }\n",
       "\n",
       "    .dataframe thead th {\n",
       "        text-align: right;\n",
       "    }\n",
       "</style>\n",
       "<table border=\"1\" class=\"dataframe\">\n",
       "  <thead>\n",
       "    <tr style=\"text-align: right;\">\n",
       "      <th></th>\n",
       "      <th>Date</th>\n",
       "      <th>Location</th>\n",
       "      <th>Country_Name</th>\n",
       "      <th>Temperature</th>\n",
       "      <th>CO2 Emissions</th>\n",
       "      <th>Sea Level Rise</th>\n",
       "      <th>Precipitation</th>\n",
       "      <th>Humidity</th>\n",
       "      <th>Wind Speed</th>\n",
       "      <th>Year_Recorded</th>\n",
       "    </tr>\n",
       "  </thead>\n",
       "  <tbody>\n",
       "    <tr>\n",
       "      <th>6532</th>\n",
       "      <td>2015-01-09 10:17:23.384338432</td>\n",
       "      <td>North Jessica</td>\n",
       "      <td>Kyrgyz Republic</td>\n",
       "      <td>4.252250</td>\n",
       "      <td>331.688369</td>\n",
       "      <td>0.689928</td>\n",
       "      <td>41.373391</td>\n",
       "      <td>8.568262</td>\n",
       "      <td>48.051538</td>\n",
       "      <td>2015</td>\n",
       "    </tr>\n",
       "    <tr>\n",
       "      <th>6556</th>\n",
       "      <td>2015-01-29 14:10:41.584158400</td>\n",
       "      <td>Rodriguezview</td>\n",
       "      <td>Suriname</td>\n",
       "      <td>14.718997</td>\n",
       "      <td>392.133182</td>\n",
       "      <td>1.598813</td>\n",
       "      <td>19.032555</td>\n",
       "      <td>61.053998</td>\n",
       "      <td>34.290827</td>\n",
       "      <td>2015</td>\n",
       "    </tr>\n",
       "    <tr>\n",
       "      <th>6557</th>\n",
       "      <td>2015-01-30 10:20:24.842484224</td>\n",
       "      <td>North Jeffrey</td>\n",
       "      <td>Kazakhstan</td>\n",
       "      <td>9.866015</td>\n",
       "      <td>426.078867</td>\n",
       "      <td>-0.947005</td>\n",
       "      <td>56.562676</td>\n",
       "      <td>26.330204</td>\n",
       "      <td>20.115800</td>\n",
       "      <td>2015</td>\n",
       "    </tr>\n",
       "  </tbody>\n",
       "</table>\n",
       "</div>"
      ],
      "text/plain": [
       "                              Date       Location     Country_Name  \\\n",
       "6532 2015-01-09 10:17:23.384338432  North Jessica  Kyrgyz Republic   \n",
       "6556 2015-01-29 14:10:41.584158400  Rodriguezview         Suriname   \n",
       "6557 2015-01-30 10:20:24.842484224  North Jeffrey       Kazakhstan   \n",
       "\n",
       "      Temperature  CO2 Emissions  Sea Level Rise  Precipitation   Humidity  \\\n",
       "6532     4.252250     331.688369        0.689928      41.373391   8.568262   \n",
       "6556    14.718997     392.133182        1.598813      19.032555  61.053998   \n",
       "6557     9.866015     426.078867       -0.947005      56.562676  26.330204   \n",
       "\n",
       "      Wind Speed  Year_Recorded  \n",
       "6532   48.051538           2015  \n",
       "6556   34.290827           2015  \n",
       "6557   20.115800           2015  "
      ]
     },
     "execution_count": 44,
     "metadata": {},
     "output_type": "execute_result"
    }
   ],
   "source": [
    "# Same location name\n",
    "duplicates = climate.duplicated(subset=['Location'], keep = False)\n",
    "duplicate_entries = climate[duplicates]\n",
    "duplicate_entries.head(3)"
   ]
  },
  {
   "cell_type": "code",
   "execution_count": 51,
   "id": "c955b4a6-fbdf-4257-9dcc-b90cfbf681f8",
   "metadata": {},
   "outputs": [
    {
     "data": {
      "text/plain": [
       "3044"
      ]
     },
     "execution_count": 51,
     "metadata": {},
     "output_type": "execute_result"
    }
   ],
   "source": [
    "list_of_locations = duplicate_entries[\"Location\"].to_list()\n",
    "#list_of_locations"
   ]
  },
  {
   "cell_type": "code",
   "execution_count": 56,
   "id": "8039a6eb-b2b6-4f73-bdfd-9f92c0db198f",
   "metadata": {
    "tags": []
   },
   "outputs": [
    {
     "name": "stdout",
     "output_type": "stream",
     "text": [
      "Same Location Name 531\n"
     ]
    }
   ],
   "source": [
    "print(\"Same Location Name\", len(list_of_locations))"
   ]
  },
  {
   "cell_type": "code",
   "execution_count": 64,
   "id": "a1c36a23-1dda-466e-ab0f-7c53096638bf",
   "metadata": {
    "tags": []
   },
   "outputs": [
    {
     "data": {
      "text/plain": [
       "[0, 1, 2, 3, 4]"
      ]
     },
     "execution_count": 64,
     "metadata": {},
     "output_type": "execute_result"
    }
   ],
   "source": [
    "list(range(0, 4+1, 1))"
   ]
  },
  {
   "cell_type": "code",
   "execution_count": null,
   "id": "2ec0f516-baa8-4583-8b04-7259208241c5",
   "metadata": {
    "tags": []
   },
   "outputs": [],
   "source": [
    "for location in list_of_locations:\n",
    "    subset = climate[climate['Location'] == location]\n",
    "    if subset.shape[0] <= 2:\n",
    "        for i in list(range(0, subset.shape[0] + 1, 1)):\n",
    "            subset[]\n",
    "        "
   ]
  },
  {
   "cell_type": "code",
   "execution_count": null,
   "id": "6411af74-5cb6-4aa3-90d8-843bd4f41b5f",
   "metadata": {},
   "outputs": [],
   "source": []
  },
  {
   "cell_type": "code",
   "execution_count": 46,
   "id": "1191f017-a018-4831-b1a5-bfeacffd04cd",
   "metadata": {
    "tags": []
   },
   "outputs": [
    {
     "data": {
      "text/html": [
       "<div>\n",
       "<style scoped>\n",
       "    .dataframe tbody tr th:only-of-type {\n",
       "        vertical-align: middle;\n",
       "    }\n",
       "\n",
       "    .dataframe tbody tr th {\n",
       "        vertical-align: top;\n",
       "    }\n",
       "\n",
       "    .dataframe thead th {\n",
       "        text-align: right;\n",
       "    }\n",
       "</style>\n",
       "<table border=\"1\" class=\"dataframe\">\n",
       "  <thead>\n",
       "    <tr style=\"text-align: right;\">\n",
       "      <th></th>\n",
       "      <th>Date</th>\n",
       "      <th>Location</th>\n",
       "      <th>Country_Name</th>\n",
       "      <th>Temperature</th>\n",
       "      <th>CO2 Emissions</th>\n",
       "      <th>Sea Level Rise</th>\n",
       "      <th>Precipitation</th>\n",
       "      <th>Humidity</th>\n",
       "      <th>Wind Speed</th>\n",
       "      <th>Year_Recorded</th>\n",
       "    </tr>\n",
       "  </thead>\n",
       "  <tbody>\n",
       "    <tr>\n",
       "      <th>6556</th>\n",
       "      <td>2015-01-29 14:10:41.584158400</td>\n",
       "      <td>Rodriguezview</td>\n",
       "      <td>Suriname</td>\n",
       "      <td>14.718997</td>\n",
       "      <td>392.133182</td>\n",
       "      <td>1.598813</td>\n",
       "      <td>19.032555</td>\n",
       "      <td>61.053998</td>\n",
       "      <td>34.290827</td>\n",
       "      <td>2015</td>\n",
       "    </tr>\n",
       "    <tr>\n",
       "      <th>9068</th>\n",
       "      <td>2020-11-08 21:09:46.498649856</td>\n",
       "      <td>Rodriguezview</td>\n",
       "      <td>El Salvador</td>\n",
       "      <td>13.803637</td>\n",
       "      <td>336.299003</td>\n",
       "      <td>-0.059183</td>\n",
       "      <td>69.079668</td>\n",
       "      <td>53.356184</td>\n",
       "      <td>5.667754</td>\n",
       "      <td>2020</td>\n",
       "    </tr>\n",
       "  </tbody>\n",
       "</table>\n",
       "</div>"
      ],
      "text/plain": [
       "                              Date       Location Country_Name  Temperature  \\\n",
       "6556 2015-01-29 14:10:41.584158400  Rodriguezview     Suriname    14.718997   \n",
       "9068 2020-11-08 21:09:46.498649856  Rodriguezview  El Salvador    13.803637   \n",
       "\n",
       "      CO2 Emissions  Sea Level Rise  Precipitation   Humidity  Wind Speed  \\\n",
       "6556     392.133182        1.598813      19.032555  61.053998   34.290827   \n",
       "9068     336.299003       -0.059183      69.079668  53.356184    5.667754   \n",
       "\n",
       "      Year_Recorded  \n",
       "6556           2015  \n",
       "9068           2020  "
      ]
     },
     "execution_count": 46,
     "metadata": {},
     "output_type": "execute_result"
    }
   ],
   "source": [
    "climate[climate['Location'] == \"Rodriguezview\"]"
   ]
  },
  {
   "cell_type": "code",
   "execution_count": null,
   "id": "b3f443fd-e70a-4f92-ae59-1cb6c1e7ce68",
   "metadata": {},
   "outputs": [],
   "source": []
  },
  {
   "cell_type": "markdown",
   "id": "f7db42b1-1904-4d9a-b0e9-1c9636daf9f6",
   "metadata": {},
   "source": [
    "# 2 : World\n",
    "* used for Socio_Economic_Damages "
   ]
  },
  {
   "cell_type": "code",
   "execution_count": 15,
   "id": "da5941a6-f371-429d-a5b4-86bc6ac81bae",
   "metadata": {
    "tags": []
   },
   "outputs": [
    {
     "data": {
      "text/html": [
       "<div>\n",
       "<style scoped>\n",
       "    .dataframe tbody tr th:only-of-type {\n",
       "        vertical-align: middle;\n",
       "    }\n",
       "\n",
       "    .dataframe tbody tr th {\n",
       "        vertical-align: top;\n",
       "    }\n",
       "\n",
       "    .dataframe thead th {\n",
       "        text-align: right;\n",
       "    }\n",
       "</style>\n",
       "<table border=\"1\" class=\"dataframe\">\n",
       "  <thead>\n",
       "    <tr style=\"text-align: right;\">\n",
       "      <th></th>\n",
       "      <th>country</th>\n",
       "      <th>electricity_access</th>\n",
       "      <th>gdp</th>\n",
       "      <th>gdp_capita</th>\n",
       "      <th>labor_rate</th>\n",
       "      <th>labor_force</th>\n",
       "      <th>land_area</th>\n",
       "      <th>life_expectancy</th>\n",
       "      <th>adult_literacy</th>\n",
       "      <th>water_access</th>\n",
       "      <th>air_pollution</th>\n",
       "      <th>population_density</th>\n",
       "      <th>population</th>\n",
       "      <th>alcohol_consumption</th>\n",
       "      <th>unemployment_rate</th>\n",
       "      <th>social_support</th>\n",
       "      <th>freedom</th>\n",
       "      <th>generosity</th>\n",
       "      <th>income_class</th>\n",
       "      <th>cpi</th>\n",
       "    </tr>\n",
       "  </thead>\n",
       "  <tbody>\n",
       "    <tr>\n",
       "      <th>0</th>\n",
       "      <td>Afghanistan</td>\n",
       "      <td>90.08</td>\n",
       "      <td>1.883323e+10</td>\n",
       "      <td>536.23</td>\n",
       "      <td>47.28</td>\n",
       "      <td>9103245.75</td>\n",
       "      <td>652230.0</td>\n",
       "      <td>62.97</td>\n",
       "      <td>NaN</td>\n",
       "      <td>66.61</td>\n",
       "      <td>100.0</td>\n",
       "      <td>53.94</td>\n",
       "      <td>35179977.00</td>\n",
       "      <td>0.0087</td>\n",
       "      <td>10.341</td>\n",
       "      <td>0.522</td>\n",
       "      <td>0.428</td>\n",
       "      <td>-0.014</td>\n",
       "      <td>Low income</td>\n",
       "      <td>14.25</td>\n",
       "    </tr>\n",
       "    <tr>\n",
       "      <th>1</th>\n",
       "      <td>Albania</td>\n",
       "      <td>99.94</td>\n",
       "      <td>1.285605e+10</td>\n",
       "      <td>4473.89</td>\n",
       "      <td>57.54</td>\n",
       "      <td>1362512.25</td>\n",
       "      <td>27400.0</td>\n",
       "      <td>78.93</td>\n",
       "      <td>98.14</td>\n",
       "      <td>93.92</td>\n",
       "      <td>100.0</td>\n",
       "      <td>104.90</td>\n",
       "      <td>2874159.25</td>\n",
       "      <td>5.0375</td>\n",
       "      <td>14.633</td>\n",
       "      <td>0.650</td>\n",
       "      <td>0.752</td>\n",
       "      <td>-0.033</td>\n",
       "      <td>Upper middle income</td>\n",
       "      <td>37.25</td>\n",
       "    </tr>\n",
       "  </tbody>\n",
       "</table>\n",
       "</div>"
      ],
      "text/plain": [
       "       country  electricity_access           gdp  gdp_capita  labor_rate  \\\n",
       "0  Afghanistan               90.08  1.883323e+10      536.23       47.28   \n",
       "1      Albania               99.94  1.285605e+10     4473.89       57.54   \n",
       "\n",
       "   labor_force  land_area  life_expectancy  adult_literacy  water_access  \\\n",
       "0   9103245.75   652230.0            62.97             NaN         66.61   \n",
       "1   1362512.25    27400.0            78.93           98.14         93.92   \n",
       "\n",
       "   air_pollution  population_density   population  alcohol_consumption  \\\n",
       "0          100.0               53.94  35179977.00               0.0087   \n",
       "1          100.0              104.90   2874159.25               5.0375   \n",
       "\n",
       "   unemployment_rate  social_support  freedom  generosity  \\\n",
       "0             10.341           0.522    0.428      -0.014   \n",
       "1             14.633           0.650    0.752      -0.033   \n",
       "\n",
       "          income_class    cpi  \n",
       "0           Low income  14.25  \n",
       "1  Upper middle income  37.25  "
      ]
     },
     "execution_count": 15,
     "metadata": {},
     "output_type": "execute_result"
    }
   ],
   "source": [
    "world = pd.read_csv(\"worlddata.csv\")\n",
    "world.head(2)"
   ]
  },
  {
   "cell_type": "code",
   "execution_count": 16,
   "id": "1e137522-212f-46fd-be6f-28e22af2f67e",
   "metadata": {
    "tags": []
   },
   "outputs": [
    {
     "data": {
      "text/plain": [
       "((186, 20),\n",
       " Index(['country', 'electricity_access', 'gdp', 'gdp_capita', 'labor_rate',\n",
       "        'labor_force', 'land_area', 'life_expectancy', 'adult_literacy',\n",
       "        'water_access', 'air_pollution', 'population_density', 'population',\n",
       "        'alcohol_consumption', 'unemployment_rate', 'social_support', 'freedom',\n",
       "        'generosity', 'income_class', 'cpi'],\n",
       "       dtype='object'))"
      ]
     },
     "execution_count": 16,
     "metadata": {},
     "output_type": "execute_result"
    }
   ],
   "source": [
    "world.shape, world.columns"
   ]
  },
  {
   "cell_type": "code",
   "execution_count": 17,
   "id": "f7112375-1cc8-40b0-84a3-b7e355c331f0",
   "metadata": {
    "tags": []
   },
   "outputs": [
    {
     "data": {
      "text/html": [
       "<div>\n",
       "<style scoped>\n",
       "    .dataframe tbody tr th:only-of-type {\n",
       "        vertical-align: middle;\n",
       "    }\n",
       "\n",
       "    .dataframe tbody tr th {\n",
       "        vertical-align: top;\n",
       "    }\n",
       "\n",
       "    .dataframe thead th {\n",
       "        text-align: right;\n",
       "    }\n",
       "</style>\n",
       "<table border=\"1\" class=\"dataframe\">\n",
       "  <thead>\n",
       "    <tr style=\"text-align: right;\">\n",
       "      <th></th>\n",
       "      <th>country</th>\n",
       "      <th>gdp</th>\n",
       "      <th>gdp_capita</th>\n",
       "      <th>air_pollution</th>\n",
       "      <th>population_density</th>\n",
       "      <th>unemployment_rate</th>\n",
       "      <th>social_support</th>\n",
       "    </tr>\n",
       "  </thead>\n",
       "  <tbody>\n",
       "    <tr>\n",
       "      <th>0</th>\n",
       "      <td>Afghanistan</td>\n",
       "      <td>1.883323e+10</td>\n",
       "      <td>536.23</td>\n",
       "      <td>100.00</td>\n",
       "      <td>53.94</td>\n",
       "      <td>10.341</td>\n",
       "      <td>0.522</td>\n",
       "    </tr>\n",
       "    <tr>\n",
       "      <th>1</th>\n",
       "      <td>Albania</td>\n",
       "      <td>1.285605e+10</td>\n",
       "      <td>4473.89</td>\n",
       "      <td>100.00</td>\n",
       "      <td>104.90</td>\n",
       "      <td>14.633</td>\n",
       "      <td>0.650</td>\n",
       "    </tr>\n",
       "    <tr>\n",
       "      <th>2</th>\n",
       "      <td>Algeria</td>\n",
       "      <td>1.677553e+11</td>\n",
       "      <td>4117.84</td>\n",
       "      <td>100.00</td>\n",
       "      <td>17.10</td>\n",
       "      <td>10.540</td>\n",
       "      <td>0.785</td>\n",
       "    </tr>\n",
       "    <tr>\n",
       "      <th>3</th>\n",
       "      <td>Angola</td>\n",
       "      <td>7.095638e+10</td>\n",
       "      <td>2395.27</td>\n",
       "      <td>100.00</td>\n",
       "      <td>23.82</td>\n",
       "      <td>9.557</td>\n",
       "      <td>NaN</td>\n",
       "    </tr>\n",
       "    <tr>\n",
       "      <th>4</th>\n",
       "      <td>Argentina</td>\n",
       "      <td>5.801825e+11</td>\n",
       "      <td>13246.88</td>\n",
       "      <td>95.34</td>\n",
       "      <td>16.01</td>\n",
       "      <td>8.301</td>\n",
       "      <td>0.904</td>\n",
       "    </tr>\n",
       "    <tr>\n",
       "      <th>...</th>\n",
       "      <td>...</td>\n",
       "      <td>...</td>\n",
       "      <td>...</td>\n",
       "      <td>...</td>\n",
       "      <td>...</td>\n",
       "      <td>...</td>\n",
       "      <td>...</td>\n",
       "    </tr>\n",
       "    <tr>\n",
       "      <th>181</th>\n",
       "      <td>Venezuela</td>\n",
       "      <td>NaN</td>\n",
       "      <td>NaN</td>\n",
       "      <td>99.95</td>\n",
       "      <td>34.48</td>\n",
       "      <td>5.367</td>\n",
       "      <td>0.899</td>\n",
       "    </tr>\n",
       "    <tr>\n",
       "      <th>182</th>\n",
       "      <td>Vietnam</td>\n",
       "      <td>2.719536e+11</td>\n",
       "      <td>2903.81</td>\n",
       "      <td>100.00</td>\n",
       "      <td>298.55</td>\n",
       "      <td>1.683</td>\n",
       "      <td>0.852</td>\n",
       "    </tr>\n",
       "    <tr>\n",
       "      <th>183</th>\n",
       "      <td>Yemen</td>\n",
       "      <td>3.055268e+10</td>\n",
       "      <td>1038.42</td>\n",
       "      <td>100.00</td>\n",
       "      <td>56.17</td>\n",
       "      <td>13.379</td>\n",
       "      <td>0.756</td>\n",
       "    </tr>\n",
       "    <tr>\n",
       "      <th>184</th>\n",
       "      <td>Zambia</td>\n",
       "      <td>2.359868e+10</td>\n",
       "      <td>1382.20</td>\n",
       "      <td>100.00</td>\n",
       "      <td>22.92</td>\n",
       "      <td>7.556</td>\n",
       "      <td>0.730</td>\n",
       "    </tr>\n",
       "    <tr>\n",
       "      <th>185</th>\n",
       "      <td>Zimbabwe</td>\n",
       "      <td>2.306319e+10</td>\n",
       "      <td>1573.35</td>\n",
       "      <td>100.00</td>\n",
       "      <td>37.75</td>\n",
       "      <td>6.035</td>\n",
       "      <td>0.758</td>\n",
       "    </tr>\n",
       "  </tbody>\n",
       "</table>\n",
       "<p>186 rows × 7 columns</p>\n",
       "</div>"
      ],
      "text/plain": [
       "         country           gdp  gdp_capita  air_pollution  population_density  \\\n",
       "0    Afghanistan  1.883323e+10      536.23         100.00               53.94   \n",
       "1        Albania  1.285605e+10     4473.89         100.00              104.90   \n",
       "2        Algeria  1.677553e+11     4117.84         100.00               17.10   \n",
       "3         Angola  7.095638e+10     2395.27         100.00               23.82   \n",
       "4      Argentina  5.801825e+11    13246.88          95.34               16.01   \n",
       "..           ...           ...         ...            ...                 ...   \n",
       "181    Venezuela           NaN         NaN          99.95               34.48   \n",
       "182      Vietnam  2.719536e+11     2903.81         100.00              298.55   \n",
       "183        Yemen  3.055268e+10     1038.42         100.00               56.17   \n",
       "184       Zambia  2.359868e+10     1382.20         100.00               22.92   \n",
       "185     Zimbabwe  2.306319e+10     1573.35         100.00               37.75   \n",
       "\n",
       "     unemployment_rate  social_support  \n",
       "0               10.341           0.522  \n",
       "1               14.633           0.650  \n",
       "2               10.540           0.785  \n",
       "3                9.557             NaN  \n",
       "4                8.301           0.904  \n",
       "..                 ...             ...  \n",
       "181              5.367           0.899  \n",
       "182              1.683           0.852  \n",
       "183             13.379           0.756  \n",
       "184              7.556           0.730  \n",
       "185              6.035           0.758  \n",
       "\n",
       "[186 rows x 7 columns]"
      ]
     },
     "execution_count": 17,
     "metadata": {},
     "output_type": "execute_result"
    }
   ],
   "source": [
    "world = world[[\"country\", \"gdp\", \"gdp_capita\", \"air_pollution\", \"population_density\", \n",
    "               \"unemployment_rate\", \"social_support\"]]\n",
    "world"
   ]
  },
  {
   "cell_type": "code",
   "execution_count": 18,
   "id": "c94d372d-2ff5-481b-9c8f-b612ffa3a00e",
   "metadata": {
    "tags": []
   },
   "outputs": [
    {
     "data": {
      "text/plain": [
       "country                0\n",
       "gdp                    3\n",
       "gdp_capita             3\n",
       "air_pollution          3\n",
       "population_density     1\n",
       "unemployment_rate      4\n",
       "social_support        33\n",
       "dtype: int64"
      ]
     },
     "execution_count": 18,
     "metadata": {},
     "output_type": "execute_result"
    }
   ],
   "source": [
    "world.isnull().sum()"
   ]
  },
  {
   "cell_type": "code",
   "execution_count": 19,
   "id": "9725239e-2463-4034-a013-f3e21f79775f",
   "metadata": {
    "tags": []
   },
   "outputs": [
    {
     "data": {
      "text/plain": [
       "Index(['country', 'gdp', 'gdp_capita', 'air_pollution', 'population_density',\n",
       "       'unemployment_rate', 'social_support'],\n",
       "      dtype='object')"
      ]
     },
     "execution_count": 19,
     "metadata": {},
     "output_type": "execute_result"
    }
   ],
   "source": [
    "world.columns"
   ]
  },
  {
   "cell_type": "code",
   "execution_count": 20,
   "id": "6fd951dc-8fca-4f02-ada4-e41704f96dc2",
   "metadata": {
    "tags": []
   },
   "outputs": [
    {
     "data": {
      "text/html": [
       "<div>\n",
       "<style scoped>\n",
       "    .dataframe tbody tr th:only-of-type {\n",
       "        vertical-align: middle;\n",
       "    }\n",
       "\n",
       "    .dataframe tbody tr th {\n",
       "        vertical-align: top;\n",
       "    }\n",
       "\n",
       "    .dataframe thead th {\n",
       "        text-align: right;\n",
       "    }\n",
       "</style>\n",
       "<table border=\"1\" class=\"dataframe\">\n",
       "  <thead>\n",
       "    <tr style=\"text-align: right;\">\n",
       "      <th></th>\n",
       "      <th>Country Name</th>\n",
       "      <th>GDP</th>\n",
       "      <th>GDP Per Capita</th>\n",
       "      <th>Air Pollution</th>\n",
       "      <th>Population Density</th>\n",
       "      <th>Unemployment Rate</th>\n",
       "      <th>Social Support</th>\n",
       "    </tr>\n",
       "  </thead>\n",
       "  <tbody>\n",
       "    <tr>\n",
       "      <th>0</th>\n",
       "      <td>Afghanistan</td>\n",
       "      <td>1.883323e+10</td>\n",
       "      <td>536.23</td>\n",
       "      <td>100.0</td>\n",
       "      <td>53.94</td>\n",
       "      <td>10.341</td>\n",
       "      <td>0.522</td>\n",
       "    </tr>\n",
       "    <tr>\n",
       "      <th>1</th>\n",
       "      <td>Albania</td>\n",
       "      <td>1.285605e+10</td>\n",
       "      <td>4473.89</td>\n",
       "      <td>100.0</td>\n",
       "      <td>104.90</td>\n",
       "      <td>14.633</td>\n",
       "      <td>0.650</td>\n",
       "    </tr>\n",
       "    <tr>\n",
       "      <th>2</th>\n",
       "      <td>Algeria</td>\n",
       "      <td>1.677553e+11</td>\n",
       "      <td>4117.84</td>\n",
       "      <td>100.0</td>\n",
       "      <td>17.10</td>\n",
       "      <td>10.540</td>\n",
       "      <td>0.785</td>\n",
       "    </tr>\n",
       "  </tbody>\n",
       "</table>\n",
       "</div>"
      ],
      "text/plain": [
       "  Country Name           GDP  GDP Per Capita  Air Pollution  \\\n",
       "0  Afghanistan  1.883323e+10          536.23          100.0   \n",
       "1      Albania  1.285605e+10         4473.89          100.0   \n",
       "2      Algeria  1.677553e+11         4117.84          100.0   \n",
       "\n",
       "   Population Density  Unemployment Rate  Social Support  \n",
       "0               53.94             10.341           0.522  \n",
       "1              104.90             14.633           0.650  \n",
       "2               17.10             10.540           0.785  "
      ]
     },
     "execution_count": 20,
     "metadata": {},
     "output_type": "execute_result"
    }
   ],
   "source": [
    "# renaming the columns\n",
    "world = world.rename(columns = {\"country\" : \"Country Name\",\n",
    "                               \"gdp\" : \"GDP\", \n",
    "                                \"gdp_capita\" : \"GDP Per Capita\", \n",
    "                                \"population_density\" : \"Population Density\", \n",
    "                                \"air_pollution\" : \"Air Pollution\", \n",
    "                                \"unemployment_rate\" : \"Unemployment Rate\", \n",
    "                                \"social_support\" : \"Social Support\"})\n",
    "world.head(3)"
   ]
  },
  {
   "cell_type": "code",
   "execution_count": 21,
   "id": "a4fa25b8-6589-4421-8183-025b0c83e670",
   "metadata": {
    "tags": []
   },
   "outputs": [],
   "source": [
    "world.to_csv(\"socio_econ.csv\", index = False)"
   ]
  },
  {
   "cell_type": "markdown",
   "id": "c1220499-f7f8-46ff-bcd3-cdaec3a9a075",
   "metadata": {},
   "source": [
    "# 3) Disasters Dataset\n",
    "* for Natural Disaster, Damages and Economic Damages"
   ]
  },
  {
   "cell_type": "code",
   "execution_count": 22,
   "id": "4dd4eabd-d638-41fd-823d-f45fb79e7aa6",
   "metadata": {
    "tags": []
   },
   "outputs": [],
   "source": [
    "NatDisasters = pd.read_csv(\"EMDAT_1900-2021_NatDis.csv\")"
   ]
  },
  {
   "cell_type": "code",
   "execution_count": 23,
   "id": "33165284-61db-4885-8fbb-fe5cd081959f",
   "metadata": {
    "tags": []
   },
   "outputs": [
    {
     "data": {
      "text/plain": [
       "(2315, 43)"
      ]
     },
     "execution_count": 23,
     "metadata": {},
     "output_type": "execute_result"
    }
   ],
   "source": [
    "NatDisasters = NatDisasters[NatDisasters[\"Year\"] >= 2015]\n",
    "NatDisasters.shape"
   ]
  },
  {
   "cell_type": "code",
   "execution_count": 24,
   "id": "2d23e26c-0997-4459-9cd1-b980e6e68ef6",
   "metadata": {
    "tags": []
   },
   "outputs": [
    {
     "data": {
      "text/html": [
       "<div>\n",
       "<style scoped>\n",
       "    .dataframe tbody tr th:only-of-type {\n",
       "        vertical-align: middle;\n",
       "    }\n",
       "\n",
       "    .dataframe tbody tr th {\n",
       "        vertical-align: top;\n",
       "    }\n",
       "\n",
       "    .dataframe thead th {\n",
       "        text-align: right;\n",
       "    }\n",
       "</style>\n",
       "<table border=\"1\" class=\"dataframe\">\n",
       "  <thead>\n",
       "    <tr style=\"text-align: right;\">\n",
       "      <th></th>\n",
       "      <th>Dis No</th>\n",
       "      <th>Year</th>\n",
       "      <th>Seq</th>\n",
       "      <th>Disaster Group</th>\n",
       "      <th>Disaster Subgroup</th>\n",
       "      <th>Disaster Type</th>\n",
       "      <th>Disaster Subtype</th>\n",
       "      <th>Disaster Subsubtype</th>\n",
       "      <th>Event Name</th>\n",
       "      <th>Entry Criteria</th>\n",
       "      <th>...</th>\n",
       "      <th>End Day</th>\n",
       "      <th>Total Deaths</th>\n",
       "      <th>No Injured</th>\n",
       "      <th>No Affected</th>\n",
       "      <th>No Homeless</th>\n",
       "      <th>Total Affected</th>\n",
       "      <th>Reconstruction Costs ('000 US$)</th>\n",
       "      <th>Insured Damages ('000 US$)</th>\n",
       "      <th>Total Damages ('000 US$)</th>\n",
       "      <th>CPI</th>\n",
       "    </tr>\n",
       "  </thead>\n",
       "  <tbody>\n",
       "    <tr>\n",
       "      <th>13099</th>\n",
       "      <td>2015-0118-BGD</td>\n",
       "      <td>2015</td>\n",
       "      <td>118</td>\n",
       "      <td>Natural</td>\n",
       "      <td>Meteorological</td>\n",
       "      <td>Storm</td>\n",
       "      <td>Convective storm</td>\n",
       "      <td>Lightning/Thunderstorms</td>\n",
       "      <td>NaN</td>\n",
       "      <td>Kill</td>\n",
       "      <td>...</td>\n",
       "      <td>7.0</td>\n",
       "      <td>53.0</td>\n",
       "      <td>200.0</td>\n",
       "      <td>20000.0</td>\n",
       "      <td>NaN</td>\n",
       "      <td>20200.0</td>\n",
       "      <td>NaN</td>\n",
       "      <td>NaN</td>\n",
       "      <td>4000.0</td>\n",
       "      <td>92.708822</td>\n",
       "    </tr>\n",
       "    <tr>\n",
       "      <th>13100</th>\n",
       "      <td>2015-0054-AFG</td>\n",
       "      <td>2015</td>\n",
       "      <td>54</td>\n",
       "      <td>Natural</td>\n",
       "      <td>Hydrological</td>\n",
       "      <td>Landslide</td>\n",
       "      <td>Avalanche</td>\n",
       "      <td>NaN</td>\n",
       "      <td>NaN</td>\n",
       "      <td>Kill</td>\n",
       "      <td>...</td>\n",
       "      <td>27.0</td>\n",
       "      <td>254.0</td>\n",
       "      <td>NaN</td>\n",
       "      <td>26425.0</td>\n",
       "      <td>6560.0</td>\n",
       "      <td>32985.0</td>\n",
       "      <td>NaN</td>\n",
       "      <td>NaN</td>\n",
       "      <td>3000.0</td>\n",
       "      <td>92.708822</td>\n",
       "    </tr>\n",
       "  </tbody>\n",
       "</table>\n",
       "<p>2 rows × 43 columns</p>\n",
       "</div>"
      ],
      "text/plain": [
       "              Dis No  Year  Seq Disaster Group Disaster Subgroup  \\\n",
       "13099  2015-0118-BGD  2015  118        Natural    Meteorological   \n",
       "13100  2015-0054-AFG  2015   54        Natural      Hydrological   \n",
       "\n",
       "      Disaster Type  Disaster Subtype      Disaster Subsubtype Event Name  \\\n",
       "13099         Storm  Convective storm  Lightning/Thunderstorms        NaN   \n",
       "13100     Landslide         Avalanche                      NaN        NaN   \n",
       "\n",
       "      Entry Criteria  ... End Day Total Deaths No Injured No Affected  \\\n",
       "13099           Kill  ...     7.0         53.0      200.0     20000.0   \n",
       "13100           Kill  ...    27.0        254.0        NaN     26425.0   \n",
       "\n",
       "      No Homeless Total Affected Reconstruction Costs ('000 US$)  \\\n",
       "13099         NaN        20200.0                             NaN   \n",
       "13100      6560.0        32985.0                             NaN   \n",
       "\n",
       "      Insured Damages ('000 US$) Total Damages ('000 US$)        CPI  \n",
       "13099                        NaN                   4000.0  92.708822  \n",
       "13100                        NaN                   3000.0  92.708822  \n",
       "\n",
       "[2 rows x 43 columns]"
      ]
     },
     "execution_count": 24,
     "metadata": {},
     "output_type": "execute_result"
    }
   ],
   "source": [
    "NatDisasters.head(2)"
   ]
  },
  {
   "cell_type": "code",
   "execution_count": 25,
   "id": "47f5892e-2e47-462b-b0cb-f294a410b834",
   "metadata": {
    "tags": []
   },
   "outputs": [
    {
     "data": {
      "text/plain": [
       "Index(['Dis No', 'Year', 'Seq', 'Disaster Group', 'Disaster Subgroup',\n",
       "       'Disaster Type', 'Disaster Subtype', 'Disaster Subsubtype',\n",
       "       'Event Name', 'Entry Criteria', 'Country', 'ISO', 'Region', 'Continent',\n",
       "       'Location', 'Origin', 'Associated Dis', 'Associated Dis2',\n",
       "       'OFDA Response', 'Appeal', 'Declaration', 'Aid Contribution',\n",
       "       'Dis Mag Value', 'Dis Mag Scale', 'Latitude', 'Longitude', 'Local Time',\n",
       "       'River Basin', 'Start Year', 'Start Month', 'Start Day', 'End Year',\n",
       "       'End Month', 'End Day', 'Total Deaths', 'No Injured', 'No Affected',\n",
       "       'No Homeless', 'Total Affected', 'Reconstruction Costs ('000 US$)',\n",
       "       'Insured Damages ('000 US$)', 'Total Damages ('000 US$)', 'CPI'],\n",
       "      dtype='object')"
      ]
     },
     "execution_count": 25,
     "metadata": {},
     "output_type": "execute_result"
    }
   ],
   "source": [
    "NatDisasters.columns"
   ]
  },
  {
   "cell_type": "code",
   "execution_count": 26,
   "id": "018dde86-eb71-420e-a084-c5ce38d759b4",
   "metadata": {
    "tags": []
   },
   "outputs": [
    {
     "data": {
      "text/html": [
       "<div>\n",
       "<style scoped>\n",
       "    .dataframe tbody tr th:only-of-type {\n",
       "        vertical-align: middle;\n",
       "    }\n",
       "\n",
       "    .dataframe tbody tr th {\n",
       "        vertical-align: top;\n",
       "    }\n",
       "\n",
       "    .dataframe thead th {\n",
       "        text-align: right;\n",
       "    }\n",
       "</style>\n",
       "<table border=\"1\" class=\"dataframe\">\n",
       "  <thead>\n",
       "    <tr style=\"text-align: right;\">\n",
       "      <th></th>\n",
       "      <th>Dis No</th>\n",
       "      <th>Year</th>\n",
       "      <th>Disaster Type</th>\n",
       "      <th>Country</th>\n",
       "      <th>Region</th>\n",
       "      <th>Continent</th>\n",
       "      <th>Location</th>\n",
       "      <th>Total Deaths</th>\n",
       "      <th>No Injured</th>\n",
       "      <th>No Affected</th>\n",
       "      <th>No Homeless</th>\n",
       "      <th>Total Affected</th>\n",
       "      <th>Reconstruction Costs ('000 US$)</th>\n",
       "      <th>Insured Damages ('000 US$)</th>\n",
       "      <th>Total Damages ('000 US$)</th>\n",
       "    </tr>\n",
       "  </thead>\n",
       "  <tbody>\n",
       "    <tr>\n",
       "      <th>13099</th>\n",
       "      <td>2015-0118-BGD</td>\n",
       "      <td>2015</td>\n",
       "      <td>Storm</td>\n",
       "      <td>Bangladesh</td>\n",
       "      <td>Southern Asia</td>\n",
       "      <td>Asia</td>\n",
       "      <td>Bogra, Rajshahi, Naogaon, Sirajganj, Pabna dis...</td>\n",
       "      <td>53.0</td>\n",
       "      <td>200.0</td>\n",
       "      <td>20000.0</td>\n",
       "      <td>NaN</td>\n",
       "      <td>20200.0</td>\n",
       "      <td>NaN</td>\n",
       "      <td>NaN</td>\n",
       "      <td>4000.0</td>\n",
       "    </tr>\n",
       "    <tr>\n",
       "      <th>13100</th>\n",
       "      <td>2015-0054-AFG</td>\n",
       "      <td>2015</td>\n",
       "      <td>Landslide</td>\n",
       "      <td>Afghanistan</td>\n",
       "      <td>Southern Asia</td>\n",
       "      <td>Asia</td>\n",
       "      <td>Laghman, Nangarhar, Panjsher, Badakhshan, Bamy...</td>\n",
       "      <td>254.0</td>\n",
       "      <td>NaN</td>\n",
       "      <td>26425.0</td>\n",
       "      <td>6560.0</td>\n",
       "      <td>32985.0</td>\n",
       "      <td>NaN</td>\n",
       "      <td>NaN</td>\n",
       "      <td>3000.0</td>\n",
       "    </tr>\n",
       "    <tr>\n",
       "      <th>13101</th>\n",
       "      <td>2015-0148-AUS</td>\n",
       "      <td>2015</td>\n",
       "      <td>Storm</td>\n",
       "      <td>Australia</td>\n",
       "      <td>Australia and New Zealand</td>\n",
       "      <td>Oceania</td>\n",
       "      <td>Dungog, Hunters Hill, Sydney districts (New So...</td>\n",
       "      <td>7.0</td>\n",
       "      <td>NaN</td>\n",
       "      <td>1000.0</td>\n",
       "      <td>NaN</td>\n",
       "      <td>1000.0</td>\n",
       "      <td>NaN</td>\n",
       "      <td>730000.0</td>\n",
       "      <td>1300000.0</td>\n",
       "    </tr>\n",
       "  </tbody>\n",
       "</table>\n",
       "</div>"
      ],
      "text/plain": [
       "              Dis No  Year Disaster Type      Country  \\\n",
       "13099  2015-0118-BGD  2015         Storm   Bangladesh   \n",
       "13100  2015-0054-AFG  2015     Landslide  Afghanistan   \n",
       "13101  2015-0148-AUS  2015         Storm    Australia   \n",
       "\n",
       "                          Region Continent  \\\n",
       "13099              Southern Asia      Asia   \n",
       "13100              Southern Asia      Asia   \n",
       "13101  Australia and New Zealand   Oceania   \n",
       "\n",
       "                                                Location  Total Deaths  \\\n",
       "13099  Bogra, Rajshahi, Naogaon, Sirajganj, Pabna dis...          53.0   \n",
       "13100  Laghman, Nangarhar, Panjsher, Badakhshan, Bamy...         254.0   \n",
       "13101  Dungog, Hunters Hill, Sydney districts (New So...           7.0   \n",
       "\n",
       "       No Injured  No Affected  No Homeless  Total Affected  \\\n",
       "13099       200.0      20000.0          NaN         20200.0   \n",
       "13100         NaN      26425.0       6560.0         32985.0   \n",
       "13101         NaN       1000.0          NaN          1000.0   \n",
       "\n",
       "       Reconstruction Costs ('000 US$)  Insured Damages ('000 US$)  \\\n",
       "13099                              NaN                         NaN   \n",
       "13100                              NaN                         NaN   \n",
       "13101                              NaN                    730000.0   \n",
       "\n",
       "       Total Damages ('000 US$)  \n",
       "13099                    4000.0  \n",
       "13100                    3000.0  \n",
       "13101                 1300000.0  "
      ]
     },
     "execution_count": 26,
     "metadata": {},
     "output_type": "execute_result"
    }
   ],
   "source": [
    "NatDisasters2 = NatDisasters[[\"Dis No\", \"Year\", 'Disaster Type', \"Country\", \"Region\", \n",
    "                              \"Continent\", \"Location\", 'Total Deaths', 'No Injured', 'No Affected',\n",
    "                              'No Homeless', 'Total Affected', \"Reconstruction Costs ('000 US$)\",\n",
    "                              \"Insured Damages ('000 US$)\", \"Total Damages ('000 US$)\"]]\n",
    "\n",
    "NatDisasters2.head(3)"
   ]
  },
  {
   "cell_type": "code",
   "execution_count": 27,
   "id": "07a3c1d7-f103-44a2-9745-128859932302",
   "metadata": {
    "tags": []
   },
   "outputs": [
    {
     "data": {
      "text/plain": [
       "Dis No                                0\n",
       "Year                                  0\n",
       "Disaster Type                         0\n",
       "Country                               0\n",
       "Region                                0\n",
       "Continent                             0\n",
       "Location                            150\n",
       "Total Deaths                        662\n",
       "No Injured                         1628\n",
       "No Affected                         826\n",
       "No Homeless                        2079\n",
       "Total Affected                      455\n",
       "Reconstruction Costs ('000 US$)    2305\n",
       "Insured Damages ('000 US$)         2118\n",
       "Total Damages ('000 US$)           1514\n",
       "dtype: int64"
      ]
     },
     "execution_count": 27,
     "metadata": {},
     "output_type": "execute_result"
    }
   ],
   "source": [
    "NatDisasters2.isnull().sum()"
   ]
  },
  {
   "cell_type": "markdown",
   "id": "5e146167-23b7-4a84-98b8-ec51a1d0e9f2",
   "metadata": {},
   "source": [
    "### For Natural Disaster"
   ]
  },
  {
   "cell_type": "code",
   "execution_count": 28,
   "id": "fe4636ac-4a3e-4edd-8faf-b1199108c496",
   "metadata": {
    "tags": []
   },
   "outputs": [
    {
     "data": {
      "text/html": [
       "<div>\n",
       "<style scoped>\n",
       "    .dataframe tbody tr th:only-of-type {\n",
       "        vertical-align: middle;\n",
       "    }\n",
       "\n",
       "    .dataframe tbody tr th {\n",
       "        vertical-align: top;\n",
       "    }\n",
       "\n",
       "    .dataframe thead th {\n",
       "        text-align: right;\n",
       "    }\n",
       "</style>\n",
       "<table border=\"1\" class=\"dataframe\">\n",
       "  <thead>\n",
       "    <tr style=\"text-align: right;\">\n",
       "      <th></th>\n",
       "      <th>Year</th>\n",
       "      <th>Disaster Type</th>\n",
       "      <th>Country</th>\n",
       "    </tr>\n",
       "  </thead>\n",
       "  <tbody>\n",
       "    <tr>\n",
       "      <th>13099</th>\n",
       "      <td>2015</td>\n",
       "      <td>Storm</td>\n",
       "      <td>Bangladesh</td>\n",
       "    </tr>\n",
       "    <tr>\n",
       "      <th>13100</th>\n",
       "      <td>2015</td>\n",
       "      <td>Landslide</td>\n",
       "      <td>Afghanistan</td>\n",
       "    </tr>\n",
       "    <tr>\n",
       "      <th>13101</th>\n",
       "      <td>2015</td>\n",
       "      <td>Storm</td>\n",
       "      <td>Australia</td>\n",
       "    </tr>\n",
       "  </tbody>\n",
       "</table>\n",
       "</div>"
      ],
      "text/plain": [
       "       Year Disaster Type      Country\n",
       "13099  2015         Storm   Bangladesh\n",
       "13100  2015     Landslide  Afghanistan\n",
       "13101  2015         Storm    Australia"
      ]
     },
     "execution_count": 28,
     "metadata": {},
     "output_type": "execute_result"
    }
   ],
   "source": [
    "nat_entity = NatDisasters2[[\"Year\", \"Disaster Type\", \"Country\"]]\n",
    "nat_entity.head(3)"
   ]
  },
  {
   "cell_type": "code",
   "execution_count": 29,
   "id": "35b932cc-4f2a-408e-8adb-afb1aba34bbb",
   "metadata": {
    "tags": []
   },
   "outputs": [],
   "source": [
    "nat_entity.to_csv(\"natural_dis_ent.csv\", index = False)"
   ]
  },
  {
   "cell_type": "markdown",
   "id": "1681ff7b-6e2a-4173-aaa0-81416d3ed2db",
   "metadata": {},
   "source": [
    "### For Damages (and Economic Damages)"
   ]
  },
  {
   "cell_type": "code",
   "execution_count": 30,
   "id": "9831a98e-2cb5-46e1-a128-5d26ed3730f4",
   "metadata": {
    "tags": []
   },
   "outputs": [
    {
     "data": {
      "text/html": [
       "<div>\n",
       "<style scoped>\n",
       "    .dataframe tbody tr th:only-of-type {\n",
       "        vertical-align: middle;\n",
       "    }\n",
       "\n",
       "    .dataframe tbody tr th {\n",
       "        vertical-align: top;\n",
       "    }\n",
       "\n",
       "    .dataframe thead th {\n",
       "        text-align: right;\n",
       "    }\n",
       "</style>\n",
       "<table border=\"1\" class=\"dataframe\">\n",
       "  <thead>\n",
       "    <tr style=\"text-align: right;\">\n",
       "      <th></th>\n",
       "      <th>Dis No</th>\n",
       "      <th>Country</th>\n",
       "      <th>Region</th>\n",
       "      <th>Continent</th>\n",
       "      <th>Location</th>\n",
       "      <th>Total Deaths</th>\n",
       "      <th>No Injured</th>\n",
       "      <th>No Affected</th>\n",
       "      <th>No Homeless</th>\n",
       "      <th>Total Affected</th>\n",
       "      <th>Reconstruction Costs</th>\n",
       "      <th>Insured Damages</th>\n",
       "      <th>Total Damages</th>\n",
       "    </tr>\n",
       "  </thead>\n",
       "  <tbody>\n",
       "    <tr>\n",
       "      <th>13099</th>\n",
       "      <td>2015-0118-BGD</td>\n",
       "      <td>Bangladesh</td>\n",
       "      <td>Southern Asia</td>\n",
       "      <td>Asia</td>\n",
       "      <td>Bogra, Rajshahi, Naogaon, Sirajganj, Pabna dis...</td>\n",
       "      <td>53.0</td>\n",
       "      <td>200.0</td>\n",
       "      <td>20000.0</td>\n",
       "      <td>NaN</td>\n",
       "      <td>20200.0</td>\n",
       "      <td>NaN</td>\n",
       "      <td>NaN</td>\n",
       "      <td>4000.0</td>\n",
       "    </tr>\n",
       "    <tr>\n",
       "      <th>13100</th>\n",
       "      <td>2015-0054-AFG</td>\n",
       "      <td>Afghanistan</td>\n",
       "      <td>Southern Asia</td>\n",
       "      <td>Asia</td>\n",
       "      <td>Laghman, Nangarhar, Panjsher, Badakhshan, Bamy...</td>\n",
       "      <td>254.0</td>\n",
       "      <td>NaN</td>\n",
       "      <td>26425.0</td>\n",
       "      <td>6560.0</td>\n",
       "      <td>32985.0</td>\n",
       "      <td>NaN</td>\n",
       "      <td>NaN</td>\n",
       "      <td>3000.0</td>\n",
       "    </tr>\n",
       "    <tr>\n",
       "      <th>13101</th>\n",
       "      <td>2015-0148-AUS</td>\n",
       "      <td>Australia</td>\n",
       "      <td>Australia and New Zealand</td>\n",
       "      <td>Oceania</td>\n",
       "      <td>Dungog, Hunters Hill, Sydney districts (New So...</td>\n",
       "      <td>7.0</td>\n",
       "      <td>NaN</td>\n",
       "      <td>1000.0</td>\n",
       "      <td>NaN</td>\n",
       "      <td>1000.0</td>\n",
       "      <td>NaN</td>\n",
       "      <td>730000.0</td>\n",
       "      <td>1300000.0</td>\n",
       "    </tr>\n",
       "  </tbody>\n",
       "</table>\n",
       "</div>"
      ],
      "text/plain": [
       "              Dis No      Country                     Region Continent  \\\n",
       "13099  2015-0118-BGD   Bangladesh              Southern Asia      Asia   \n",
       "13100  2015-0054-AFG  Afghanistan              Southern Asia      Asia   \n",
       "13101  2015-0148-AUS    Australia  Australia and New Zealand   Oceania   \n",
       "\n",
       "                                                Location  Total Deaths  \\\n",
       "13099  Bogra, Rajshahi, Naogaon, Sirajganj, Pabna dis...          53.0   \n",
       "13100  Laghman, Nangarhar, Panjsher, Badakhshan, Bamy...         254.0   \n",
       "13101  Dungog, Hunters Hill, Sydney districts (New So...           7.0   \n",
       "\n",
       "       No Injured  No Affected  No Homeless  Total Affected  \\\n",
       "13099       200.0      20000.0          NaN         20200.0   \n",
       "13100         NaN      26425.0       6560.0         32985.0   \n",
       "13101         NaN       1000.0          NaN          1000.0   \n",
       "\n",
       "       Reconstruction Costs  Insured Damages  Total Damages  \n",
       "13099                   NaN              NaN         4000.0  \n",
       "13100                   NaN              NaN         3000.0  \n",
       "13101                   NaN         730000.0      1300000.0  "
      ]
     },
     "execution_count": 30,
     "metadata": {},
     "output_type": "execute_result"
    }
   ],
   "source": [
    "NatDisasters3 = NatDisasters2.rename(columns = {\"Reconstruction Costs ('000 US$)\" : \"Reconstruction Costs\", \n",
    "                                                \"Insured Damages ('000 US$)\" : \"Insured Damages\", \n",
    "                                                \"Total Damages ('000 US$)\" : \"Total Damages\"})\n",
    "\n",
    "\n",
    "NatDisasters3 = NatDisasters3.drop(columns = [\"Year\", \"Disaster Type\"])\n",
    "NatDisasters3.head(3)"
   ]
  },
  {
   "cell_type": "code",
   "execution_count": 31,
   "id": "8b712f7a-c228-4509-b42f-cfc60a8b2bb9",
   "metadata": {
    "tags": []
   },
   "outputs": [
    {
     "data": {
      "text/plain": [
       "Index(['Dis No', 'Country', 'Region', 'Continent', 'Location', 'Total Deaths',\n",
       "       'No Injured', 'No Affected', 'No Homeless', 'Total Affected',\n",
       "       'Reconstruction Costs', 'Insured Damages', 'Total Damages'],\n",
       "      dtype='object')"
      ]
     },
     "execution_count": 31,
     "metadata": {},
     "output_type": "execute_result"
    }
   ],
   "source": [
    "NatDisasters3.columns"
   ]
  },
  {
   "cell_type": "markdown",
   "id": "7cf5a857-91a3-4c33-a7ce-279f0a474266",
   "metadata": {},
   "source": [
    "* Damages"
   ]
  },
  {
   "cell_type": "code",
   "execution_count": 32,
   "id": "1cc2e3cb-9683-4a63-8b15-bf9241fc3132",
   "metadata": {
    "tags": []
   },
   "outputs": [
    {
     "data": {
      "text/html": [
       "<div>\n",
       "<style scoped>\n",
       "    .dataframe tbody tr th:only-of-type {\n",
       "        vertical-align: middle;\n",
       "    }\n",
       "\n",
       "    .dataframe tbody tr th {\n",
       "        vertical-align: top;\n",
       "    }\n",
       "\n",
       "    .dataframe thead th {\n",
       "        text-align: right;\n",
       "    }\n",
       "</style>\n",
       "<table border=\"1\" class=\"dataframe\">\n",
       "  <thead>\n",
       "    <tr style=\"text-align: right;\">\n",
       "      <th></th>\n",
       "      <th>Dis No</th>\n",
       "      <th>Country</th>\n",
       "      <th>Region</th>\n",
       "      <th>Continent</th>\n",
       "      <th>Location</th>\n",
       "      <th>Total Deaths</th>\n",
       "      <th>No Injured</th>\n",
       "      <th>No Affected</th>\n",
       "      <th>No Homeless</th>\n",
       "      <th>Total Affected</th>\n",
       "    </tr>\n",
       "  </thead>\n",
       "  <tbody>\n",
       "    <tr>\n",
       "      <th>13099</th>\n",
       "      <td>2015-0118-BGD</td>\n",
       "      <td>Bangladesh</td>\n",
       "      <td>Southern Asia</td>\n",
       "      <td>Asia</td>\n",
       "      <td>Bogra, Rajshahi, Naogaon, Sirajganj, Pabna dis...</td>\n",
       "      <td>53.0</td>\n",
       "      <td>200.0</td>\n",
       "      <td>20000.0</td>\n",
       "      <td>NaN</td>\n",
       "      <td>20200.0</td>\n",
       "    </tr>\n",
       "    <tr>\n",
       "      <th>13100</th>\n",
       "      <td>2015-0054-AFG</td>\n",
       "      <td>Afghanistan</td>\n",
       "      <td>Southern Asia</td>\n",
       "      <td>Asia</td>\n",
       "      <td>Laghman, Nangarhar, Panjsher, Badakhshan, Bamy...</td>\n",
       "      <td>254.0</td>\n",
       "      <td>NaN</td>\n",
       "      <td>26425.0</td>\n",
       "      <td>6560.0</td>\n",
       "      <td>32985.0</td>\n",
       "    </tr>\n",
       "    <tr>\n",
       "      <th>13101</th>\n",
       "      <td>2015-0148-AUS</td>\n",
       "      <td>Australia</td>\n",
       "      <td>Australia and New Zealand</td>\n",
       "      <td>Oceania</td>\n",
       "      <td>Dungog, Hunters Hill, Sydney districts (New So...</td>\n",
       "      <td>7.0</td>\n",
       "      <td>NaN</td>\n",
       "      <td>1000.0</td>\n",
       "      <td>NaN</td>\n",
       "      <td>1000.0</td>\n",
       "    </tr>\n",
       "    <tr>\n",
       "      <th>13102</th>\n",
       "      <td>2015-0479-BHS</td>\n",
       "      <td>Bahamas (the)</td>\n",
       "      <td>Caribbean</td>\n",
       "      <td>Americas</td>\n",
       "      <td>Exuma, Long Island, Mayaguana, Rum Cay, San Sa...</td>\n",
       "      <td>33.0</td>\n",
       "      <td>NaN</td>\n",
       "      <td>6710.0</td>\n",
       "      <td>NaN</td>\n",
       "      <td>6710.0</td>\n",
       "    </tr>\n",
       "    <tr>\n",
       "      <th>13103</th>\n",
       "      <td>2015-0090-AGO</td>\n",
       "      <td>Angola</td>\n",
       "      <td>Middle Africa</td>\n",
       "      <td>Africa</td>\n",
       "      <td>Luanda province</td>\n",
       "      <td>1.0</td>\n",
       "      <td>NaN</td>\n",
       "      <td>2000.0</td>\n",
       "      <td>NaN</td>\n",
       "      <td>2000.0</td>\n",
       "    </tr>\n",
       "  </tbody>\n",
       "</table>\n",
       "</div>"
      ],
      "text/plain": [
       "              Dis No        Country                     Region Continent  \\\n",
       "13099  2015-0118-BGD     Bangladesh              Southern Asia      Asia   \n",
       "13100  2015-0054-AFG    Afghanistan              Southern Asia      Asia   \n",
       "13101  2015-0148-AUS      Australia  Australia and New Zealand   Oceania   \n",
       "13102  2015-0479-BHS  Bahamas (the)                  Caribbean  Americas   \n",
       "13103  2015-0090-AGO         Angola              Middle Africa    Africa   \n",
       "\n",
       "                                                Location  Total Deaths  \\\n",
       "13099  Bogra, Rajshahi, Naogaon, Sirajganj, Pabna dis...          53.0   \n",
       "13100  Laghman, Nangarhar, Panjsher, Badakhshan, Bamy...         254.0   \n",
       "13101  Dungog, Hunters Hill, Sydney districts (New So...           7.0   \n",
       "13102  Exuma, Long Island, Mayaguana, Rum Cay, San Sa...          33.0   \n",
       "13103                                    Luanda province           1.0   \n",
       "\n",
       "       No Injured  No Affected  No Homeless  Total Affected  \n",
       "13099       200.0      20000.0          NaN         20200.0  \n",
       "13100         NaN      26425.0       6560.0         32985.0  \n",
       "13101         NaN       1000.0          NaN          1000.0  \n",
       "13102         NaN       6710.0          NaN          6710.0  \n",
       "13103         NaN       2000.0          NaN          2000.0  "
      ]
     },
     "execution_count": 32,
     "metadata": {},
     "output_type": "execute_result"
    }
   ],
   "source": [
    "damages = NatDisasters3[['Dis No', 'Country', 'Region', 'Continent', 'Location', 'Total Deaths',\n",
    "       'No Injured', 'No Affected', 'No Homeless', 'Total Affected']]\n",
    "\n",
    "damages.head(5)"
   ]
  },
  {
   "cell_type": "code",
   "execution_count": 33,
   "id": "c3d6efaa-7997-4add-aca7-da452f89dc77",
   "metadata": {
    "tags": []
   },
   "outputs": [],
   "source": [
    "damages.to_csv(\"damages.csv\",  index = False)"
   ]
  },
  {
   "cell_type": "markdown",
   "id": "49b08d88-f3c7-4772-8926-c26899aa4942",
   "metadata": {},
   "source": [
    "* For Economic Damages"
   ]
  },
  {
   "cell_type": "code",
   "execution_count": 34,
   "id": "fc734090-14e5-4f74-bf6c-770fe9df41ff",
   "metadata": {
    "tags": []
   },
   "outputs": [
    {
     "data": {
      "text/html": [
       "<div>\n",
       "<style scoped>\n",
       "    .dataframe tbody tr th:only-of-type {\n",
       "        vertical-align: middle;\n",
       "    }\n",
       "\n",
       "    .dataframe tbody tr th {\n",
       "        vertical-align: top;\n",
       "    }\n",
       "\n",
       "    .dataframe thead th {\n",
       "        text-align: right;\n",
       "    }\n",
       "</style>\n",
       "<table border=\"1\" class=\"dataframe\">\n",
       "  <thead>\n",
       "    <tr style=\"text-align: right;\">\n",
       "      <th></th>\n",
       "      <th>Dis No</th>\n",
       "      <th>Country</th>\n",
       "      <th>Region</th>\n",
       "      <th>Continent</th>\n",
       "      <th>Location</th>\n",
       "      <th>Total Deaths</th>\n",
       "      <th>No Injured</th>\n",
       "      <th>No Affected</th>\n",
       "      <th>No Homeless</th>\n",
       "      <th>Total Affected</th>\n",
       "      <th>Reconstruction Costs</th>\n",
       "      <th>Insured Damages</th>\n",
       "      <th>Total Damages</th>\n",
       "    </tr>\n",
       "  </thead>\n",
       "  <tbody>\n",
       "    <tr>\n",
       "      <th>13099</th>\n",
       "      <td>2015-0118-BGD</td>\n",
       "      <td>Bangladesh</td>\n",
       "      <td>Southern Asia</td>\n",
       "      <td>Asia</td>\n",
       "      <td>Bogra, Rajshahi, Naogaon, Sirajganj, Pabna dis...</td>\n",
       "      <td>53.0</td>\n",
       "      <td>200.0</td>\n",
       "      <td>20000.0</td>\n",
       "      <td>NaN</td>\n",
       "      <td>20200.0</td>\n",
       "      <td>NaN</td>\n",
       "      <td>NaN</td>\n",
       "      <td>4000.0</td>\n",
       "    </tr>\n",
       "    <tr>\n",
       "      <th>13100</th>\n",
       "      <td>2015-0054-AFG</td>\n",
       "      <td>Afghanistan</td>\n",
       "      <td>Southern Asia</td>\n",
       "      <td>Asia</td>\n",
       "      <td>Laghman, Nangarhar, Panjsher, Badakhshan, Bamy...</td>\n",
       "      <td>254.0</td>\n",
       "      <td>NaN</td>\n",
       "      <td>26425.0</td>\n",
       "      <td>6560.0</td>\n",
       "      <td>32985.0</td>\n",
       "      <td>NaN</td>\n",
       "      <td>NaN</td>\n",
       "      <td>3000.0</td>\n",
       "    </tr>\n",
       "    <tr>\n",
       "      <th>13101</th>\n",
       "      <td>2015-0148-AUS</td>\n",
       "      <td>Australia</td>\n",
       "      <td>Australia and New Zealand</td>\n",
       "      <td>Oceania</td>\n",
       "      <td>Dungog, Hunters Hill, Sydney districts (New So...</td>\n",
       "      <td>7.0</td>\n",
       "      <td>NaN</td>\n",
       "      <td>1000.0</td>\n",
       "      <td>NaN</td>\n",
       "      <td>1000.0</td>\n",
       "      <td>NaN</td>\n",
       "      <td>730000.0</td>\n",
       "      <td>1300000.0</td>\n",
       "    </tr>\n",
       "  </tbody>\n",
       "</table>\n",
       "</div>"
      ],
      "text/plain": [
       "              Dis No      Country                     Region Continent  \\\n",
       "13099  2015-0118-BGD   Bangladesh              Southern Asia      Asia   \n",
       "13100  2015-0054-AFG  Afghanistan              Southern Asia      Asia   \n",
       "13101  2015-0148-AUS    Australia  Australia and New Zealand   Oceania   \n",
       "\n",
       "                                                Location  Total Deaths  \\\n",
       "13099  Bogra, Rajshahi, Naogaon, Sirajganj, Pabna dis...          53.0   \n",
       "13100  Laghman, Nangarhar, Panjsher, Badakhshan, Bamy...         254.0   \n",
       "13101  Dungog, Hunters Hill, Sydney districts (New So...           7.0   \n",
       "\n",
       "       No Injured  No Affected  No Homeless  Total Affected  \\\n",
       "13099       200.0      20000.0          NaN         20200.0   \n",
       "13100         NaN      26425.0       6560.0         32985.0   \n",
       "13101         NaN       1000.0          NaN          1000.0   \n",
       "\n",
       "       Reconstruction Costs  Insured Damages  Total Damages  \n",
       "13099                   NaN              NaN         4000.0  \n",
       "13100                   NaN              NaN         3000.0  \n",
       "13101                   NaN         730000.0      1300000.0  "
      ]
     },
     "execution_count": 34,
     "metadata": {},
     "output_type": "execute_result"
    }
   ],
   "source": [
    "econ_damages = NatDisasters3\n",
    "econ_damages.head(3)"
   ]
  },
  {
   "cell_type": "code",
   "execution_count": 155,
   "id": "aae8b363-cd3d-435f-9989-c55765c49681",
   "metadata": {
    "tags": []
   },
   "outputs": [],
   "source": [
    "econ_damages.to_csv(\"econ_dam.csv\", index = False)"
   ]
  },
  {
   "cell_type": "code",
   "execution_count": 171,
   "id": "41e2c428-6d63-444e-8c84-b4bbf96e58a0",
   "metadata": {
    "tags": []
   },
   "outputs": [],
   "source": [
    "occurs_relation = NatDisasters2[['Year', 'Disaster Type', 'Country', 'Region']]\n",
    "\n",
    "\n",
    "order = [\"Country\", \"Region\", \"Year\", 'Disaster Type']\n",
    "\n",
    "occurs_relation = occurs_relation[order]\n",
    "occurs_relation.to_csv(\"occurs_relation.csv\", index = False)"
   ]
  },
  {
   "cell_type": "markdown",
   "id": "72abe972-66e7-498d-ad11-6df32b2d32a3",
   "metadata": {},
   "source": [
    "# SQL - CREATE TABLE STATEMENTS + INSERT STATEMENTS GENERATING"
   ]
  },
  {
   "cell_type": "code",
   "execution_count": 176,
   "id": "04fd3f69-ed6a-491e-a1dc-20a11a234f46",
   "metadata": {
    "tags": []
   },
   "outputs": [],
   "source": [
    "sql_statement = \"\"\"\n",
    "CREATE TABLE Climate_Metrics(\n",
    "    Country_Name CHAR(20),\n",
    "    Year_Recorded INT, \n",
    "    Temperature FLOAT,\n",
    "    Humidity FLOAT, \n",
    "    Wind_Speed FLOAT, \n",
    "    Precipitation FLOAT, \n",
    "    CO2_Emissions FLOAT, \n",
    "    Sea_Level_Rise FLOAT,\n",
    "    PRIMARY KEY (Country_Name, Year_Recorded)\n",
    ");\n",
    "\n",
    "CREATE TABLE Country (\n",
    "    Name CHAR(20),\n",
    "    Geographic_Location CHAR (20),\n",
    "    PRIMARY KEY (Name, Geographic_Location)\n",
    ");\n",
    "\n",
    "CREATE TABLE Natural_Disaster(\n",
    "    Disaster_Year INT, \n",
    "    Type CHAR(20), \n",
    "    Country_Name CHAR(20), \n",
    "    Year_Recorded INT,\n",
    "    PRIMARY KEY (Disaster_Year, Type)\n",
    "    FOREIGN KEY (Country_Name, Year_Recorded) REFERENCES Climate_Metrics(Country Name, Year_Recorded)\n",
    "        ON DELETE CASCADE\n",
    "        ON UPDATE CASCADE\n",
    ");\n",
    "\n",
    "CREATE TABLE Disaster_In_Country(\n",
    "    Name CHAR(20), \n",
    "    Geographic_Location CHAR(20), \n",
    "    Disaster_Year INT, \n",
    "    Type CHAR(20), \n",
    "    PRIMARY KEY (Name, Geographic_Location, Disaster_Year, Type)\n",
    "    FOREIGN KEY (Name, Geographic_Location) REFERENCES Country(Name, Geographic_Location)\n",
    "        ON DELETE CASCADE\n",
    "        ON UPDATE CASCADE\n",
    "    FOREIGN KEY (Disaster_Year, Type) REFERENCES Natural_Disaster(Disaster_Year, Type)\n",
    "        ON DELETE CASCADE\n",
    "        ON UPDATE CASCADE\n",
    ");\n",
    "\n",
    "CREATE TABLE Damages(\n",
    "    Country_Name CHAR(20),\n",
    "    Disaster_Type  CHAR(20),\n",
    "    Injury_Rate FLOAT,\n",
    "    Death_Rate FLOAT, \n",
    "    Homelessness_Rate FLOAT,\n",
    "    PRIMARY KEY (Country_Name, Disaster_Type) \n",
    "    FOREIGN KEY (Disaster_Year, Type) REFERENCES Natural_Disaster(Country_Name, Type)\n",
    "    ON DELETE CASCADE\n",
    "    ON UPDATE CASCADE\n",
    "    (Disaster_Year, Type)\n",
    ");\n",
    "\n",
    "CREATE TABLE Economic_Damages(\n",
    "    Total_Economic_Damages FLOAT,\n",
    "    Country_Name CHAR(20),\n",
    "    Disaster_Type CHAR(20),\n",
    "    Year INT, \n",
    "    Total Economic Damages as GDP share FLOAT, \n",
    "    Insured Damages FLOAT, \n",
    "    Reconstruction Costs FLOAT,\n",
    "    PRIMARY KEY (Total Economic Damages, Country Name, Disaster Type, Year)\n",
    "    FOREIGN KEY (Country Name, Disaster Type, Year) REFERENCES Damages(Country_Name, Disaster_Type, Year)\n",
    "        ON DELETE CASCADE\n",
    "        ON UPDATE CASCADE\n",
    ");\n",
    "\n",
    "CREATE TABLE Socio_Economic_Damages(\n",
    "    GDP FLOAT,\n",
    "    GDP_Per_Capita FLOAT,\n",
    "    Population_Density FLOAT,\n",
    "    Social_Support FLOAT,\n",
    "    Unemployment_Rate FLOAT,\n",
    "    Name CHAR(20) NOT NULL,\n",
    "    GeographicLocation CHAR(20) NOT NULL,\n",
    "    Country_Name CHAR(20),\n",
    "    Disaster_Type CHAR(20), \n",
    "    Year INT,\n",
    "    PRIMARY KEY (Country_Name, Disaster_Type, Year), \n",
    "    FOREIGN KEY (Name, Geographic_Location) REFERENCES Country(Name, Geographic_Location)\n",
    "        ON DELETE CASCADE\n",
    "        ON UPDATE CASCADE\n",
    "    UNIQUE (Country_Name, Disaster_Type, Year)\n",
    "    FOREIGN KEY (Country_Name, Disaster_Type, Year) REFERENCES Damages(Country_Name, Disaster_Type, Year)\n",
    "        ON DELETE NO ACTION\n",
    "        ON UPDATE CASCASE\n",
    ");\n",
    "\n",
    "\n",
    "\"\"\""
   ]
  },
  {
   "cell_type": "code",
   "execution_count": 177,
   "id": "1f5c9687-acdb-487b-a65a-bd67e254ad43",
   "metadata": {
    "tags": []
   },
   "outputs": [],
   "source": [
    "# Open a new file in write mode to create the SQL file\n",
    "with open(\"sql_statements.sql\", \"w\") as file:\n",
    "    # Write the SQL statement to the file\n",
    "    file.write(sql_statement)"
   ]
  },
  {
   "cell_type": "code",
   "execution_count": 178,
   "id": "584aba9b-9653-4d53-8de5-b9676efe4253",
   "metadata": {
    "tags": []
   },
   "outputs": [],
   "source": [
    "# Function takes csv datafile and table name to generate INSERT statements\n",
    "def generate_insert_statements(file_name, table_name):\n",
    "    insert_statements = []\n",
    "    with open(file_name, 'r', newline='') as csvfile:\n",
    "        reader = csv.reader(csvfile)\n",
    "        next(reader)\n",
    "        for row in reader:\n",
    "            values = ', '.join([f'{value}' if not value.isdigit() else value for value in row])\n",
    "            insert_statement = f\"INSERT INTO {table_name} VALUES ({values});\"\n",
    "            insert_statements.append(insert_statement)\n",
    "    return insert_statements\n",
    "\n",
    "\n",
    "\n",
    "def add_insert_statements(insert_statements, file_name='sql_statements.sql'):\n",
    "    with open(file_name, 'a') as file:\n",
    "        for statement in insert_statements:\n",
    "            file.write(statement + '\\n')"
   ]
  },
  {
   "cell_type": "code",
   "execution_count": 179,
   "id": "e3250647-8107-4ea2-a6ab-f305ef2ac21a",
   "metadata": {
    "tags": []
   },
   "outputs": [],
   "source": [
    "# Usage\n",
    "\n",
    "climate_file = \"ClimateMetricsFinal.csv\"  \n",
    "country_file = \"Country.csv\"\n",
    "natural_file = \"natural_dis_ent.csv\"\n",
    "occurs = \"occurs_relation.csv\"\n",
    "damages_file = \"damages.csv\"\n",
    "econ_damages_file = \"econ_dam.csv\"\n",
    "socio_econ_file = \"socio_econ.csv\"\n",
    "\n",
    "insert_climate = generate_insert_statements(climate_file, \"Climate_Metrics\")\n",
    "insert_country = generate_insert_statements(country_file, \"Country\")\n",
    "insert_natural = generate_insert_statements(natural_file, \"Natural_Disaster\")\n",
    "insert_occurs = generate_insert_statements(occurs, \"Disaster_In_Country\")\n",
    "insert_damages = generate_insert_statements(damages_file, \"Damages\")\n",
    "insert_econdamages = generate_insert_statements(econ_damages_file, \"Economic_Damages\")\n",
    "insert_socioecon = generate_insert_statements(socio_econ_file, \"Socio_Economic_Damages\")\n",
    "\n",
    "add_insert_statements(insert_climate)\n",
    "add_insert_statements(insert_country)\n",
    "add_insert_statements(insert_natural)\n",
    "add_insert_statements(insert_occurs)\n",
    "add_insert_statements(insert_damages)\n",
    "add_insert_statements(insert_econdamages)\n",
    "add_insert_statements(insert_socioecon)"
   ]
  },
  {
   "cell_type": "markdown",
   "id": "f40d3874-8ed1-462c-9e42-43a5ddc4b478",
   "metadata": {},
   "source": [
    "### CITATIONS:\n",
    "\n",
    "SQLServerCentral. (2023, May 5). Python 3 Script for Generating SQL INSERT Statements from CSV Data. SQLServerCentral. Retrieved March 8, 2024, from https://www.sqlservercentral.com/scripts/python-3-script-for-generating-sql-insert-statements-from-csv-data\n",
    "\n",
    "FoxInfotech. (2023, March 30). How to Convert CSV to SQL INSERT Statements. DEV Community. Retrieved March 8, 2024, from https://dev.to/foxinfotech/how-to-convert-csv-to-sql-insert-statements-2on\n",
    "\n"
   ]
  }
 ],
 "metadata": {
  "kernelspec": {
   "display_name": "Python [conda env:cpsc330]",
   "language": "python",
   "name": "conda-env-cpsc330-py"
  },
  "language_info": {
   "codemirror_mode": {
    "name": "ipython",
    "version": 3
   },
   "file_extension": ".py",
   "mimetype": "text/x-python",
   "name": "python",
   "nbconvert_exporter": "python",
   "pygments_lexer": "ipython3",
   "version": "3.10.13"
  }
 },
 "nbformat": 4,
 "nbformat_minor": 5
}
