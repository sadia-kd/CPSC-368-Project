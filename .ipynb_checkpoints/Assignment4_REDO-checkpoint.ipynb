{
 "cells": [
  {
   "cell_type": "markdown",
   "id": "ba8e2c91-41d5-4627-87cf-917fa09274df",
   "metadata": {},
   "source": [
    "# Project Group # 2\n",
    "> Group Members: Sadia Khan Durani, Safa Sajid, Mariam Virk\n",
    "\n",
    "Proposed Idea: Analyzing the influence of Climate Change on Natural Disasters vs its Effects on Global Development.\n",
    "\n",
    "Research Question: **How are countries affected by natural disasters, and can these disasters be linked to climate change?**"
   ]
  },
  {
   "cell_type": "markdown",
   "id": "46ada25d-9c7c-4fe9-a291-cf26d83c384f",
   "metadata": {},
   "source": [
    "> ## Begin Dataset Cleaning"
   ]
  },
  {
   "cell_type": "code",
   "execution_count": 1,
   "id": "79cf9890-db0e-44dd-b29a-f29b84a97814",
   "metadata": {
    "tags": []
   },
   "outputs": [],
   "source": [
    "# Required import statements\n",
    "import pandas as pd\n",
    "import numpy as np\n",
    "import csv"
   ]
  },
  {
   "cell_type": "code",
   "execution_count": 2,
   "id": "d53685a9-7228-4a20-bde0-8427102654a3",
   "metadata": {
    "tags": []
   },
   "outputs": [],
   "source": [
    "# List of countries we will focus on in this project\n",
    "filtered_countries = ['Canada', 'United States','United States of America','United States of America (the)','Mexico']"
   ]
  },
  {
   "cell_type": "markdown",
   "id": "4c5c98fe-a302-45bc-b93e-286fd2e06b0e",
   "metadata": {},
   "source": [
    "## 1 : Climate Dataset"
   ]
  },
  {
   "cell_type": "code",
   "execution_count": 3,
   "id": "871d1e6e-1088-4a91-a454-f527d4c041a1",
   "metadata": {
    "tags": []
   },
   "outputs": [
    {
     "data": {
      "text/html": [
       "<div>\n",
       "<style scoped>\n",
       "    .dataframe tbody tr th:only-of-type {\n",
       "        vertical-align: middle;\n",
       "    }\n",
       "\n",
       "    .dataframe tbody tr th {\n",
       "        vertical-align: top;\n",
       "    }\n",
       "\n",
       "    .dataframe thead th {\n",
       "        text-align: right;\n",
       "    }\n",
       "</style>\n",
       "<table border=\"1\" class=\"dataframe\">\n",
       "  <thead>\n",
       "    <tr style=\"text-align: right;\">\n",
       "      <th></th>\n",
       "      <th>Date</th>\n",
       "      <th>Location</th>\n",
       "      <th>Country</th>\n",
       "      <th>Temperature</th>\n",
       "      <th>CO2 Emissions</th>\n",
       "      <th>Sea Level Rise</th>\n",
       "      <th>Precipitation</th>\n",
       "      <th>Humidity</th>\n",
       "      <th>Wind Speed</th>\n",
       "    </tr>\n",
       "  </thead>\n",
       "  <tbody>\n",
       "    <tr>\n",
       "      <th>0</th>\n",
       "      <td>2000-01-01 00:00:00.000000000</td>\n",
       "      <td>New Williamtown</td>\n",
       "      <td>Latvia</td>\n",
       "      <td>10.688986</td>\n",
       "      <td>403.118903</td>\n",
       "      <td>0.717506</td>\n",
       "      <td>13.835237</td>\n",
       "      <td>23.631256</td>\n",
       "      <td>18.492026</td>\n",
       "    </tr>\n",
       "    <tr>\n",
       "      <th>1</th>\n",
       "      <td>2000-01-01 20:09:43.258325832</td>\n",
       "      <td>North Rachel</td>\n",
       "      <td>South Africa</td>\n",
       "      <td>13.814430</td>\n",
       "      <td>396.663499</td>\n",
       "      <td>1.205715</td>\n",
       "      <td>40.974084</td>\n",
       "      <td>43.982946</td>\n",
       "      <td>34.249300</td>\n",
       "    </tr>\n",
       "    <tr>\n",
       "      <th>2</th>\n",
       "      <td>2000-01-02 16:19:26.516651665</td>\n",
       "      <td>West Williamland</td>\n",
       "      <td>French Guiana</td>\n",
       "      <td>27.323718</td>\n",
       "      <td>451.553155</td>\n",
       "      <td>-0.160783</td>\n",
       "      <td>42.697931</td>\n",
       "      <td>96.652600</td>\n",
       "      <td>34.124261</td>\n",
       "    </tr>\n",
       "    <tr>\n",
       "      <th>3</th>\n",
       "      <td>2000-01-03 12:29:09.774977497</td>\n",
       "      <td>South David</td>\n",
       "      <td>Vietnam</td>\n",
       "      <td>12.309581</td>\n",
       "      <td>422.404983</td>\n",
       "      <td>-0.475931</td>\n",
       "      <td>5.193341</td>\n",
       "      <td>47.467938</td>\n",
       "      <td>8.554563</td>\n",
       "    </tr>\n",
       "    <tr>\n",
       "      <th>4</th>\n",
       "      <td>2000-01-04 08:38:53.033303330</td>\n",
       "      <td>New Scottburgh</td>\n",
       "      <td>Moldova</td>\n",
       "      <td>13.210885</td>\n",
       "      <td>410.472999</td>\n",
       "      <td>1.135757</td>\n",
       "      <td>78.695280</td>\n",
       "      <td>61.789672</td>\n",
       "      <td>8.001164</td>\n",
       "    </tr>\n",
       "  </tbody>\n",
       "</table>\n",
       "</div>"
      ],
      "text/plain": [
       "                            Date          Location        Country  \\\n",
       "0  2000-01-01 00:00:00.000000000   New Williamtown         Latvia   \n",
       "1  2000-01-01 20:09:43.258325832      North Rachel   South Africa   \n",
       "2  2000-01-02 16:19:26.516651665  West Williamland  French Guiana   \n",
       "3  2000-01-03 12:29:09.774977497       South David        Vietnam   \n",
       "4  2000-01-04 08:38:53.033303330    New Scottburgh        Moldova   \n",
       "\n",
       "   Temperature  CO2 Emissions  Sea Level Rise  Precipitation   Humidity  \\\n",
       "0    10.688986     403.118903        0.717506      13.835237  23.631256   \n",
       "1    13.814430     396.663499        1.205715      40.974084  43.982946   \n",
       "2    27.323718     451.553155       -0.160783      42.697931  96.652600   \n",
       "3    12.309581     422.404983       -0.475931       5.193341  47.467938   \n",
       "4    13.210885     410.472999        1.135757      78.695280  61.789672   \n",
       "\n",
       "   Wind Speed  \n",
       "0   18.492026  \n",
       "1   34.249300  \n",
       "2   34.124261  \n",
       "3    8.554563  \n",
       "4    8.001164  "
      ]
     },
     "execution_count": 3,
     "metadata": {},
     "output_type": "execute_result"
    }
   ],
   "source": [
    "# Load in the original climate change dataset\n",
    "climate = pd.read_csv(\"data/climate_change_data.csv\")\n",
    "climate.head()"
   ]
  },
  {
   "cell_type": "code",
   "execution_count": 4,
   "id": "6d956b12-7008-418a-98fa-d1dc9fad8013",
   "metadata": {
    "tags": []
   },
   "outputs": [
    {
     "data": {
      "text/html": [
       "<div>\n",
       "<style scoped>\n",
       "    .dataframe tbody tr th:only-of-type {\n",
       "        vertical-align: middle;\n",
       "    }\n",
       "\n",
       "    .dataframe tbody tr th {\n",
       "        vertical-align: top;\n",
       "    }\n",
       "\n",
       "    .dataframe thead th {\n",
       "        text-align: right;\n",
       "    }\n",
       "</style>\n",
       "<table border=\"1\" class=\"dataframe\">\n",
       "  <thead>\n",
       "    <tr style=\"text-align: right;\">\n",
       "      <th></th>\n",
       "      <th>Date</th>\n",
       "      <th>Location</th>\n",
       "      <th>Country</th>\n",
       "      <th>Temperature</th>\n",
       "      <th>CO2 Emissions</th>\n",
       "      <th>Sea Level Rise</th>\n",
       "      <th>Precipitation</th>\n",
       "      <th>Humidity</th>\n",
       "      <th>Wind Speed</th>\n",
       "    </tr>\n",
       "  </thead>\n",
       "  <tbody>\n",
       "    <tr>\n",
       "      <th>56</th>\n",
       "      <td>2000-02-17 01:04:22.466246624</td>\n",
       "      <td>Garciatown</td>\n",
       "      <td>United States of America</td>\n",
       "      <td>13.504183</td>\n",
       "      <td>354.390467</td>\n",
       "      <td>-0.484336</td>\n",
       "      <td>10.686071</td>\n",
       "      <td>35.823373</td>\n",
       "      <td>31.527324</td>\n",
       "    </tr>\n",
       "  </tbody>\n",
       "</table>\n",
       "</div>"
      ],
      "text/plain": [
       "                             Date    Location                   Country  \\\n",
       "56  2000-02-17 01:04:22.466246624  Garciatown  United States of America   \n",
       "\n",
       "    Temperature  CO2 Emissions  Sea Level Rise  Precipitation   Humidity  \\\n",
       "56    13.504183     354.390467       -0.484336      10.686071  35.823373   \n",
       "\n",
       "    Wind Speed  \n",
       "56   31.527324  "
      ]
     },
     "execution_count": 4,
     "metadata": {},
     "output_type": "execute_result"
    }
   ],
   "source": [
    "# Filter for only the biggest North American countries (Canada, USA, Mexico)\n",
    "climate = climate[(climate['Country'].isin(filtered_countries))]\n",
    "climate.head(1)"
   ]
  },
  {
   "cell_type": "code",
   "execution_count": 5,
   "id": "191cd470-4f6b-4042-8205-d8d12d312ba4",
   "metadata": {
    "tags": []
   },
   "outputs": [
    {
     "data": {
      "text/html": [
       "<div>\n",
       "<style scoped>\n",
       "    .dataframe tbody tr th:only-of-type {\n",
       "        vertical-align: middle;\n",
       "    }\n",
       "\n",
       "    .dataframe tbody tr th {\n",
       "        vertical-align: top;\n",
       "    }\n",
       "\n",
       "    .dataframe thead th {\n",
       "        text-align: right;\n",
       "    }\n",
       "</style>\n",
       "<table border=\"1\" class=\"dataframe\">\n",
       "  <thead>\n",
       "    <tr style=\"text-align: right;\">\n",
       "      <th></th>\n",
       "      <th>Date</th>\n",
       "      <th>Location</th>\n",
       "      <th>Country</th>\n",
       "      <th>Temperature</th>\n",
       "      <th>CO2 Emissions</th>\n",
       "      <th>Sea Level Rise</th>\n",
       "      <th>Precipitation</th>\n",
       "      <th>Humidity</th>\n",
       "      <th>Wind Speed</th>\n",
       "    </tr>\n",
       "  </thead>\n",
       "  <tbody>\n",
       "    <tr>\n",
       "      <th>56</th>\n",
       "      <td>2000</td>\n",
       "      <td>Garciatown</td>\n",
       "      <td>United States of America</td>\n",
       "      <td>13.504183</td>\n",
       "      <td>354.390467</td>\n",
       "      <td>-0.484336</td>\n",
       "      <td>10.686071</td>\n",
       "      <td>35.823373</td>\n",
       "      <td>31.527324</td>\n",
       "    </tr>\n",
       "  </tbody>\n",
       "</table>\n",
       "</div>"
      ],
      "text/plain": [
       "    Date    Location                   Country  Temperature  CO2 Emissions  \\\n",
       "56  2000  Garciatown  United States of America    13.504183     354.390467   \n",
       "\n",
       "    Sea Level Rise  Precipitation   Humidity  Wind Speed  \n",
       "56       -0.484336      10.686071  35.823373   31.527324  "
      ]
     },
     "execution_count": 5,
     "metadata": {},
     "output_type": "execute_result"
    }
   ],
   "source": [
    "# Slice the 'Date' column to only keep the Year value : we'll look at it from a yearly perspective\n",
    "climate['Date'] = climate['Date'].str.slice(0, 4).astype(int)\n",
    "climate.head(1)"
   ]
  },
  {
   "cell_type": "code",
   "execution_count": 6,
   "id": "b707325b-9e4c-4756-adb2-b56359e4b25e",
   "metadata": {
    "tags": []
   },
   "outputs": [
    {
     "data": {
      "text/plain": [
       "(103, 9)"
      ]
     },
     "execution_count": 6,
     "metadata": {},
     "output_type": "execute_result"
    }
   ],
   "source": [
    "# Filter rows to only keep years between 2000 and 2020\n",
    "climate = climate[(climate['Date'] >= 2000) & (climate['Date'] <= 2020)]\n",
    "climate.shape"
   ]
  },
  {
   "cell_type": "code",
   "execution_count": 7,
   "id": "3e830845-f93a-4809-a797-8adae443e90f",
   "metadata": {
    "tags": []
   },
   "outputs": [
    {
     "data": {
      "text/html": [
       "<div>\n",
       "<style scoped>\n",
       "    .dataframe tbody tr th:only-of-type {\n",
       "        vertical-align: middle;\n",
       "    }\n",
       "\n",
       "    .dataframe tbody tr th {\n",
       "        vertical-align: top;\n",
       "    }\n",
       "\n",
       "    .dataframe thead th {\n",
       "        text-align: right;\n",
       "    }\n",
       "</style>\n",
       "<table border=\"1\" class=\"dataframe\">\n",
       "  <thead>\n",
       "    <tr style=\"text-align: right;\">\n",
       "      <th></th>\n",
       "      <th>Date</th>\n",
       "      <th>Country</th>\n",
       "      <th>Temperature</th>\n",
       "      <th>CO2 Emissions</th>\n",
       "      <th>Sea Level Rise</th>\n",
       "      <th>Precipitation</th>\n",
       "      <th>Humidity</th>\n",
       "      <th>Wind Speed</th>\n",
       "    </tr>\n",
       "  </thead>\n",
       "  <tbody>\n",
       "    <tr>\n",
       "      <th>56</th>\n",
       "      <td>2000</td>\n",
       "      <td>United States of America</td>\n",
       "      <td>13.504183</td>\n",
       "      <td>354.390467</td>\n",
       "      <td>-0.484336</td>\n",
       "      <td>10.686071</td>\n",
       "      <td>35.823373</td>\n",
       "      <td>31.527324</td>\n",
       "    </tr>\n",
       "  </tbody>\n",
       "</table>\n",
       "</div>"
      ],
      "text/plain": [
       "    Date                   Country  Temperature  CO2 Emissions  \\\n",
       "56  2000  United States of America    13.504183     354.390467   \n",
       "\n",
       "    Sea Level Rise  Precipitation   Humidity  Wind Speed  \n",
       "56       -0.484336      10.686071  35.823373   31.527324  "
      ]
     },
     "execution_count": 7,
     "metadata": {},
     "output_type": "execute_result"
    }
   ],
   "source": [
    "# Drop the 'Location' column\n",
    "climate = climate.drop(columns = {\"Location\"})\n",
    "climate.head(1)"
   ]
  },
  {
   "cell_type": "code",
   "execution_count": 8,
   "id": "8487f5cd-a852-49c9-99b1-d42fb96a5087",
   "metadata": {
    "tags": []
   },
   "outputs": [
    {
     "data": {
      "text/html": [
       "<div>\n",
       "<style scoped>\n",
       "    .dataframe tbody tr th:only-of-type {\n",
       "        vertical-align: middle;\n",
       "    }\n",
       "\n",
       "    .dataframe tbody tr th {\n",
       "        vertical-align: top;\n",
       "    }\n",
       "\n",
       "    .dataframe thead th {\n",
       "        text-align: right;\n",
       "    }\n",
       "</style>\n",
       "<table border=\"1\" class=\"dataframe\">\n",
       "  <thead>\n",
       "    <tr style=\"text-align: right;\">\n",
       "      <th></th>\n",
       "      <th>Year</th>\n",
       "      <th>Country</th>\n",
       "      <th>Temperature</th>\n",
       "      <th>CO2 Emissions</th>\n",
       "      <th>Sea Level Rise</th>\n",
       "      <th>Precipitation</th>\n",
       "      <th>Humidity</th>\n",
       "      <th>Wind Speed</th>\n",
       "    </tr>\n",
       "  </thead>\n",
       "  <tbody>\n",
       "    <tr>\n",
       "      <th>56</th>\n",
       "      <td>2000</td>\n",
       "      <td>United States of America</td>\n",
       "      <td>13.504183</td>\n",
       "      <td>354.390467</td>\n",
       "      <td>-0.484336</td>\n",
       "      <td>10.686071</td>\n",
       "      <td>35.823373</td>\n",
       "      <td>31.527324</td>\n",
       "    </tr>\n",
       "  </tbody>\n",
       "</table>\n",
       "</div>"
      ],
      "text/plain": [
       "    Year                   Country  Temperature  CO2 Emissions  \\\n",
       "56  2000  United States of America    13.504183     354.390467   \n",
       "\n",
       "    Sea Level Rise  Precipitation   Humidity  Wind Speed  \n",
       "56       -0.484336      10.686071  35.823373   31.527324  "
      ]
     },
     "execution_count": 8,
     "metadata": {},
     "output_type": "execute_result"
    }
   ],
   "source": [
    "# Rename 'Date' to 'Year'\n",
    "climate = climate.rename(columns = {\"Date\" : \"Year\"})\n",
    "climate.head(1)"
   ]
  },
  {
   "cell_type": "code",
   "execution_count": 9,
   "id": "dd2b0cb6-3f98-45bf-89c9-e70c85003461",
   "metadata": {
    "tags": []
   },
   "outputs": [
    {
     "data": {
      "text/plain": [
       "array(['United States of America', 'Mexico', 'Canada'], dtype=object)"
      ]
     },
     "execution_count": 9,
     "metadata": {},
     "output_type": "execute_result"
    }
   ],
   "source": [
    "# Print the unique values of 'Country' column\n",
    "climate['Country'].unique()"
   ]
  },
  {
   "cell_type": "code",
   "execution_count": 10,
   "id": "aafc148a-4c2e-4860-b404-7fc94ef99f4a",
   "metadata": {
    "tags": []
   },
   "outputs": [
    {
     "data": {
      "text/plain": [
       "array(['United States', 'Mexico', 'Canada'], dtype=object)"
      ]
     },
     "execution_count": 10,
     "metadata": {},
     "output_type": "execute_result"
    }
   ],
   "source": [
    "# Change 'United States of America' to 'United States'\n",
    "# Create a dictionary to map country names\n",
    "country_dict = {'United States of America' : 'United States',\n",
    "                'Mexico' : 'Mexico', \n",
    "                'Canada' : 'Canada'}\n",
    "\n",
    "# Replace the country names with their new equivalents\n",
    "climate['Country'] = climate['Country'].map(country_dict)\n",
    "climate['Country'].unique()"
   ]
  },
  {
   "cell_type": "code",
   "execution_count": 11,
   "id": "e72b698c-aa6e-4d73-9376-2cc86d7cc3b6",
   "metadata": {
    "tags": []
   },
   "outputs": [
    {
     "data": {
      "text/plain": [
       "(   Year Country  Avg Temperature\n",
       " 0  2000  Canada         8.704837,\n",
       "    Year Country  Avg CO2 Emissions\n",
       " 0  2000  Canada         430.252678)"
      ]
     },
     "execution_count": 11,
     "metadata": {},
     "output_type": "execute_result"
    }
   ],
   "source": [
    "# To eliminate duplicate (Year, Country) pairs, take average of Temperature and CO2 Emissions\n",
    "# This is done to ensure the primary key of Climate Metrics is valid\n",
    "\n",
    "# Take average of temperature across year-country pairs\n",
    "average_temp = climate.groupby(['Year', 'Country'])['Temperature'].mean().reset_index()\n",
    "average_temp = average_temp.rename(columns = {\"Temperature\" : \"Avg Temperature\"})\n",
    "\n",
    "# Take average of CO2 Emissions across year-country pairs\n",
    "average_CO2 = climate.groupby(['Year', 'Country'])['CO2 Emissions'].mean().reset_index()\n",
    "average_CO2 = average_CO2.rename(columns = {'CO2 Emissions' : 'Avg CO2 Emissions'})\n",
    "\n",
    "average_temp.head(1), average_CO2.head(1)"
   ]
  },
  {
   "cell_type": "code",
   "execution_count": 12,
   "id": "3a80352f-d54a-407c-b824-c343a8d8d19c",
   "metadata": {
    "tags": []
   },
   "outputs": [
    {
     "data": {
      "text/html": [
       "<div>\n",
       "<style scoped>\n",
       "    .dataframe tbody tr th:only-of-type {\n",
       "        vertical-align: middle;\n",
       "    }\n",
       "\n",
       "    .dataframe tbody tr th {\n",
       "        vertical-align: top;\n",
       "    }\n",
       "\n",
       "    .dataframe thead th {\n",
       "        text-align: right;\n",
       "    }\n",
       "</style>\n",
       "<table border=\"1\" class=\"dataframe\">\n",
       "  <thead>\n",
       "    <tr style=\"text-align: right;\">\n",
       "      <th></th>\n",
       "      <th>Year</th>\n",
       "      <th>Country</th>\n",
       "      <th>Max Temperature</th>\n",
       "      <th>Max CO2 Emissions</th>\n",
       "      <th>Sea Level Rise</th>\n",
       "      <th>Precipitation</th>\n",
       "      <th>Humidity</th>\n",
       "      <th>Wind Speed</th>\n",
       "    </tr>\n",
       "  </thead>\n",
       "  <tbody>\n",
       "    <tr>\n",
       "      <th>0</th>\n",
       "      <td>2000</td>\n",
       "      <td>Canada</td>\n",
       "      <td>13.312956</td>\n",
       "      <td>440.546108</td>\n",
       "      <td>-0.159359</td>\n",
       "      <td>59.89413</td>\n",
       "      <td>73.853461</td>\n",
       "      <td>32.547627</td>\n",
       "    </tr>\n",
       "  </tbody>\n",
       "</table>\n",
       "</div>"
      ],
      "text/plain": [
       "   Year Country  Max Temperature  Max CO2 Emissions  Sea Level Rise  \\\n",
       "0  2000  Canada        13.312956         440.546108       -0.159359   \n",
       "\n",
       "   Precipitation   Humidity  Wind Speed  \n",
       "0       59.89413  73.853461   32.547627  "
      ]
     },
     "execution_count": 12,
     "metadata": {},
     "output_type": "execute_result"
    }
   ],
   "source": [
    "# To eliminate duplicate (Year, Country) pairs, take max of the rest of the columns, including temp and co2 emissions\n",
    "climate = climate.groupby(['Year', 'Country']).max().reset_index()\n",
    "climate = climate.rename(columns = {\"Temperature\" : \"Max Temperature\", \n",
    "                                    \"CO2 Emissions\" : \"Max CO2 Emissions\"})\n",
    "climate.head(1)"
   ]
  },
  {
   "cell_type": "code",
   "execution_count": 13,
   "id": "05cc346e-1296-4236-b811-cabf3f21f748",
   "metadata": {
    "tags": []
   },
   "outputs": [
    {
     "data": {
      "text/html": [
       "<div>\n",
       "<style scoped>\n",
       "    .dataframe tbody tr th:only-of-type {\n",
       "        vertical-align: middle;\n",
       "    }\n",
       "\n",
       "    .dataframe tbody tr th {\n",
       "        vertical-align: top;\n",
       "    }\n",
       "\n",
       "    .dataframe thead th {\n",
       "        text-align: right;\n",
       "    }\n",
       "</style>\n",
       "<table border=\"1\" class=\"dataframe\">\n",
       "  <thead>\n",
       "    <tr style=\"text-align: right;\">\n",
       "      <th></th>\n",
       "      <th>Country</th>\n",
       "      <th>Year</th>\n",
       "      <th>Max Temperature</th>\n",
       "      <th>Avg Temperature</th>\n",
       "      <th>Max CO2 Emissions</th>\n",
       "      <th>Avg CO2 Emissions</th>\n",
       "      <th>Sea Level Rise</th>\n",
       "      <th>Precipitation</th>\n",
       "      <th>Humidity</th>\n",
       "      <th>Wind Speed</th>\n",
       "    </tr>\n",
       "  </thead>\n",
       "  <tbody>\n",
       "    <tr>\n",
       "      <th>0</th>\n",
       "      <td>Canada</td>\n",
       "      <td>2000</td>\n",
       "      <td>13.312956</td>\n",
       "      <td>8.704837</td>\n",
       "      <td>440.546108</td>\n",
       "      <td>430.252678</td>\n",
       "      <td>-0.159359</td>\n",
       "      <td>59.89413</td>\n",
       "      <td>73.853461</td>\n",
       "      <td>32.547627</td>\n",
       "    </tr>\n",
       "  </tbody>\n",
       "</table>\n",
       "</div>"
      ],
      "text/plain": [
       "  Country  Year  Max Temperature  Avg Temperature  Max CO2 Emissions  \\\n",
       "0  Canada  2000        13.312956         8.704837         440.546108   \n",
       "\n",
       "   Avg CO2 Emissions  Sea Level Rise  Precipitation   Humidity  Wind Speed  \n",
       "0         430.252678       -0.159359       59.89413  73.853461   32.547627  "
      ]
     },
     "execution_count": 13,
     "metadata": {},
     "output_type": "execute_result"
    }
   ],
   "source": [
    "# Merge average_temp and average_CO2 columns to climate\n",
    "climate = climate.merge(average_temp, on=['Year', 'Country'], how='right')\n",
    "climate = climate.merge(average_CO2, on=['Year', 'Country'], how='right')\n",
    "\n",
    "# adjust the ordering of columns\n",
    "order = ['Country', 'Year', 'Max Temperature', 'Avg Temperature', 'Max CO2 Emissions', \n",
    "         'Avg CO2 Emissions', 'Sea Level Rise', 'Precipitation', 'Humidity', 'Wind Speed']\n",
    "climate = climate[order]\n",
    "climate.head(1)"
   ]
  },
  {
   "cell_type": "code",
   "execution_count": 14,
   "id": "a9c261bd-c208-46e3-b3eb-1f0febeb0948",
   "metadata": {
    "tags": []
   },
   "outputs": [
    {
     "name": "stdout",
     "output_type": "stream",
     "text": [
      "There are 52 rows remaining in the Climate Metrics dataset \n",
      "\n"
     ]
    }
   ],
   "source": [
    "print(f\"There are {climate.shape[0]} rows remaining in the Climate Metrics dataset \\n\")"
   ]
  },
  {
   "cell_type": "code",
   "execution_count": 15,
   "id": "2f5464e9-9b44-4a35-a8ea-2f5c82e767f2",
   "metadata": {
    "tags": []
   },
   "outputs": [
    {
     "data": {
      "text/plain": [
       "52"
      ]
     },
     "execution_count": 15,
     "metadata": {},
     "output_type": "execute_result"
    }
   ],
   "source": [
    "# Group by 'Country' and 'Year' \n",
    "pair_counts = climate.groupby(['Country', 'Year']).size()\n",
    "\n",
    "# Check to see there is count of 1 for each 'Year' - 'Country' pair\n",
    "sum(pair_counts.values == 1)"
   ]
  },
  {
   "cell_type": "code",
   "execution_count": 16,
   "id": "c753280e-c514-4604-b16f-57fb391605e6",
   "metadata": {
    "tags": []
   },
   "outputs": [
    {
     "data": {
      "text/plain": [
       "Country              0\n",
       "Year                 0\n",
       "Max Temperature      0\n",
       "Avg Temperature      0\n",
       "Max CO2 Emissions    0\n",
       "Avg CO2 Emissions    0\n",
       "Sea Level Rise       0\n",
       "Precipitation        0\n",
       "Humidity             0\n",
       "Wind Speed           0\n",
       "dtype: int64"
      ]
     },
     "execution_count": 16,
     "metadata": {},
     "output_type": "execute_result"
    }
   ],
   "source": [
    "# No missing data in dataset\n",
    "climate.isnull().sum()"
   ]
  },
  {
   "cell_type": "markdown",
   "id": "6a47b687-4c20-4f3a-a677-079bce43caaf",
   "metadata": {},
   "source": [
    "## 2 : Human Development/Population Dataset"
   ]
  },
  {
   "cell_type": "code",
   "execution_count": 17,
   "id": "dce2c9a1-b776-4201-b22a-4cf7e722bbfe",
   "metadata": {
    "tags": []
   },
   "outputs": [
    {
     "data": {
      "text/html": [
       "<div>\n",
       "<style scoped>\n",
       "    .dataframe tbody tr th:only-of-type {\n",
       "        vertical-align: middle;\n",
       "    }\n",
       "\n",
       "    .dataframe tbody tr th {\n",
       "        vertical-align: top;\n",
       "    }\n",
       "\n",
       "    .dataframe thead th {\n",
       "        text-align: right;\n",
       "    }\n",
       "</style>\n",
       "<table border=\"1\" class=\"dataframe\">\n",
       "  <thead>\n",
       "    <tr style=\"text-align: right;\">\n",
       "      <th></th>\n",
       "      <th>Entity</th>\n",
       "      <th>Code</th>\n",
       "      <th>Year</th>\n",
       "      <th>Augmented Human Development Index (AHDI)</th>\n",
       "      <th>814486-annotations</th>\n",
       "      <th>GDP per capita</th>\n",
       "      <th>417485-annotations</th>\n",
       "      <th>Population (historical estimates)</th>\n",
       "      <th>Continent</th>\n",
       "    </tr>\n",
       "  </thead>\n",
       "  <tbody>\n",
       "    <tr>\n",
       "      <th>0</th>\n",
       "      <td>Abkhazia</td>\n",
       "      <td>OWID_ABK</td>\n",
       "      <td>2015</td>\n",
       "      <td>NaN</td>\n",
       "      <td>NaN</td>\n",
       "      <td>NaN</td>\n",
       "      <td>NaN</td>\n",
       "      <td>NaN</td>\n",
       "      <td>Asia</td>\n",
       "    </tr>\n",
       "    <tr>\n",
       "      <th>1</th>\n",
       "      <td>Afghanistan</td>\n",
       "      <td>AFG</td>\n",
       "      <td>1950</td>\n",
       "      <td>0.050043</td>\n",
       "      <td>NaN</td>\n",
       "      <td>1156.0</td>\n",
       "      <td>NaN</td>\n",
       "      <td>7480464.0</td>\n",
       "      <td>NaN</td>\n",
       "    </tr>\n",
       "    <tr>\n",
       "      <th>2</th>\n",
       "      <td>Afghanistan</td>\n",
       "      <td>AFG</td>\n",
       "      <td>1955</td>\n",
       "      <td>0.053487</td>\n",
       "      <td>NaN</td>\n",
       "      <td>1246.0</td>\n",
       "      <td>NaN</td>\n",
       "      <td>7971933.0</td>\n",
       "      <td>NaN</td>\n",
       "    </tr>\n",
       "    <tr>\n",
       "      <th>3</th>\n",
       "      <td>Afghanistan</td>\n",
       "      <td>AFG</td>\n",
       "      <td>1960</td>\n",
       "      <td>0.058654</td>\n",
       "      <td>NaN</td>\n",
       "      <td>1326.0</td>\n",
       "      <td>NaN</td>\n",
       "      <td>8622473.0</td>\n",
       "      <td>NaN</td>\n",
       "    </tr>\n",
       "    <tr>\n",
       "      <th>4</th>\n",
       "      <td>Afghanistan</td>\n",
       "      <td>AFG</td>\n",
       "      <td>1965</td>\n",
       "      <td>0.068907</td>\n",
       "      <td>NaN</td>\n",
       "      <td>1290.0</td>\n",
       "      <td>NaN</td>\n",
       "      <td>9565154.0</td>\n",
       "      <td>NaN</td>\n",
       "    </tr>\n",
       "  </tbody>\n",
       "</table>\n",
       "</div>"
      ],
      "text/plain": [
       "        Entity      Code  Year  Augmented Human Development Index (AHDI)  \\\n",
       "0     Abkhazia  OWID_ABK  2015                                       NaN   \n",
       "1  Afghanistan       AFG  1950                                  0.050043   \n",
       "2  Afghanistan       AFG  1955                                  0.053487   \n",
       "3  Afghanistan       AFG  1960                                  0.058654   \n",
       "4  Afghanistan       AFG  1965                                  0.068907   \n",
       "\n",
       "  814486-annotations  GDP per capita 417485-annotations  \\\n",
       "0                NaN             NaN                NaN   \n",
       "1                NaN          1156.0                NaN   \n",
       "2                NaN          1246.0                NaN   \n",
       "3                NaN          1326.0                NaN   \n",
       "4                NaN          1290.0                NaN   \n",
       "\n",
       "   Population (historical estimates) Continent  \n",
       "0                                NaN      Asia  \n",
       "1                          7480464.0       NaN  \n",
       "2                          7971933.0       NaN  \n",
       "3                          8622473.0       NaN  \n",
       "4                          9565154.0       NaN  "
      ]
     },
     "execution_count": 17,
     "metadata": {},
     "output_type": "execute_result"
    }
   ],
   "source": [
    "# Load in the original human development/population dataset\n",
    "hdi_population = pd.read_csv(\"data/hdi_population_data.csv\")\n",
    "hdi_population.head()"
   ]
  },
  {
   "cell_type": "code",
   "execution_count": 18,
   "id": "ddedae99-64aa-49f2-ab30-0ac10243a523",
   "metadata": {
    "tags": []
   },
   "outputs": [
    {
     "data": {
      "text/html": [
       "<div>\n",
       "<style scoped>\n",
       "    .dataframe tbody tr th:only-of-type {\n",
       "        vertical-align: middle;\n",
       "    }\n",
       "\n",
       "    .dataframe tbody tr th {\n",
       "        vertical-align: top;\n",
       "    }\n",
       "\n",
       "    .dataframe thead th {\n",
       "        text-align: right;\n",
       "    }\n",
       "</style>\n",
       "<table border=\"1\" class=\"dataframe\">\n",
       "  <thead>\n",
       "    <tr style=\"text-align: right;\">\n",
       "      <th></th>\n",
       "      <th>Entity</th>\n",
       "      <th>Code</th>\n",
       "      <th>Year</th>\n",
       "      <th>Augmented Human Development Index (AHDI)</th>\n",
       "      <th>814486-annotations</th>\n",
       "      <th>GDP per capita</th>\n",
       "      <th>417485-annotations</th>\n",
       "      <th>Population (historical estimates)</th>\n",
       "      <th>Continent</th>\n",
       "    </tr>\n",
       "  </thead>\n",
       "  <tbody>\n",
       "    <tr>\n",
       "      <th>9032</th>\n",
       "      <td>Canada</td>\n",
       "      <td>CAN</td>\n",
       "      <td>1870</td>\n",
       "      <td>0.23021</td>\n",
       "      <td>NaN</td>\n",
       "      <td>2702.0</td>\n",
       "      <td>NaN</td>\n",
       "      <td>3761273.0</td>\n",
       "      <td>NaN</td>\n",
       "    </tr>\n",
       "  </tbody>\n",
       "</table>\n",
       "</div>"
      ],
      "text/plain": [
       "      Entity Code  Year  Augmented Human Development Index (AHDI)  \\\n",
       "9032  Canada  CAN  1870                                   0.23021   \n",
       "\n",
       "     814486-annotations  GDP per capita 417485-annotations  \\\n",
       "9032                NaN          2702.0                NaN   \n",
       "\n",
       "      Population (historical estimates) Continent  \n",
       "9032                          3761273.0       NaN  "
      ]
     },
     "execution_count": 18,
     "metadata": {},
     "output_type": "execute_result"
    }
   ],
   "source": [
    "# Filter for only the biggest North American countries (Canada, USA, Mexico)\n",
    "hdi_population = hdi_population[(hdi_population['Entity'].isin(filtered_countries))]\n",
    "hdi_population.head(1)"
   ]
  },
  {
   "cell_type": "code",
   "execution_count": 19,
   "id": "740181f1-31bc-402f-8148-de02268dea56",
   "metadata": {
    "tags": []
   },
   "outputs": [
    {
     "data": {
      "text/html": [
       "<div>\n",
       "<style scoped>\n",
       "    .dataframe tbody tr th:only-of-type {\n",
       "        vertical-align: middle;\n",
       "    }\n",
       "\n",
       "    .dataframe tbody tr th {\n",
       "        vertical-align: top;\n",
       "    }\n",
       "\n",
       "    .dataframe thead th {\n",
       "        text-align: right;\n",
       "    }\n",
       "</style>\n",
       "<table border=\"1\" class=\"dataframe\">\n",
       "  <thead>\n",
       "    <tr style=\"text-align: right;\">\n",
       "      <th></th>\n",
       "      <th>Entity</th>\n",
       "      <th>Code</th>\n",
       "      <th>Year</th>\n",
       "      <th>Augmented Human Development Index (AHDI)</th>\n",
       "      <th>814486-annotations</th>\n",
       "      <th>GDP per capita</th>\n",
       "      <th>417485-annotations</th>\n",
       "      <th>Population (historical estimates)</th>\n",
       "      <th>Continent</th>\n",
       "    </tr>\n",
       "  </thead>\n",
       "  <tbody>\n",
       "    <tr>\n",
       "      <th>9051</th>\n",
       "      <td>Canada</td>\n",
       "      <td>CAN</td>\n",
       "      <td>2000</td>\n",
       "      <td>0.725572</td>\n",
       "      <td>NaN</td>\n",
       "      <td>36942.562</td>\n",
       "      <td>NaN</td>\n",
       "      <td>30683316.0</td>\n",
       "      <td>NaN</td>\n",
       "    </tr>\n",
       "  </tbody>\n",
       "</table>\n",
       "</div>"
      ],
      "text/plain": [
       "      Entity Code  Year  Augmented Human Development Index (AHDI)  \\\n",
       "9051  Canada  CAN  2000                                  0.725572   \n",
       "\n",
       "     814486-annotations  GDP per capita 417485-annotations  \\\n",
       "9051                NaN       36942.562                NaN   \n",
       "\n",
       "      Population (historical estimates) Continent  \n",
       "9051                         30683316.0       NaN  "
      ]
     },
     "execution_count": 19,
     "metadata": {},
     "output_type": "execute_result"
    }
   ],
   "source": [
    "# Filter rows to only keep years between 2000 and 2020\n",
    "hdi_population = hdi_population[(hdi_population['Year'] >= 2000) & (hdi_population['Year'] <= 2020)]\n",
    "hdi_population.head(1)"
   ]
  },
  {
   "cell_type": "code",
   "execution_count": 20,
   "id": "e6e7f113-c40f-4374-b5aa-fa77b71ff2f7",
   "metadata": {
    "tags": []
   },
   "outputs": [
    {
     "data": {
      "text/html": [
       "<div>\n",
       "<style scoped>\n",
       "    .dataframe tbody tr th:only-of-type {\n",
       "        vertical-align: middle;\n",
       "    }\n",
       "\n",
       "    .dataframe tbody tr th {\n",
       "        vertical-align: top;\n",
       "    }\n",
       "\n",
       "    .dataframe thead th {\n",
       "        text-align: right;\n",
       "    }\n",
       "</style>\n",
       "<table border=\"1\" class=\"dataframe\">\n",
       "  <thead>\n",
       "    <tr style=\"text-align: right;\">\n",
       "      <th></th>\n",
       "      <th>Entity</th>\n",
       "      <th>Year</th>\n",
       "      <th>Augmented Human Development Index (AHDI)</th>\n",
       "      <th>GDP per capita</th>\n",
       "      <th>Population (historical estimates)</th>\n",
       "    </tr>\n",
       "  </thead>\n",
       "  <tbody>\n",
       "    <tr>\n",
       "      <th>9051</th>\n",
       "      <td>Canada</td>\n",
       "      <td>2000</td>\n",
       "      <td>0.725572</td>\n",
       "      <td>36942.562</td>\n",
       "      <td>30683316.0</td>\n",
       "    </tr>\n",
       "  </tbody>\n",
       "</table>\n",
       "</div>"
      ],
      "text/plain": [
       "      Entity  Year  Augmented Human Development Index (AHDI)  GDP per capita  \\\n",
       "9051  Canada  2000                                  0.725572       36942.562   \n",
       "\n",
       "      Population (historical estimates)  \n",
       "9051                         30683316.0  "
      ]
     },
     "execution_count": 20,
     "metadata": {},
     "output_type": "execute_result"
    }
   ],
   "source": [
    "# Drop the unnecessary columns\n",
    "hdi_population = hdi_population.drop(columns = {\"Code\", \"814486-annotations\", \"417485-annotations\", \"Continent\"})\n",
    "hdi_population.head(1)"
   ]
  },
  {
   "cell_type": "code",
   "execution_count": 21,
   "id": "882249ed-4f86-47f9-8e99-3994ed16296b",
   "metadata": {
    "tags": []
   },
   "outputs": [
    {
     "data": {
      "text/html": [
       "<div>\n",
       "<style scoped>\n",
       "    .dataframe tbody tr th:only-of-type {\n",
       "        vertical-align: middle;\n",
       "    }\n",
       "\n",
       "    .dataframe tbody tr th {\n",
       "        vertical-align: top;\n",
       "    }\n",
       "\n",
       "    .dataframe thead th {\n",
       "        text-align: right;\n",
       "    }\n",
       "</style>\n",
       "<table border=\"1\" class=\"dataframe\">\n",
       "  <thead>\n",
       "    <tr style=\"text-align: right;\">\n",
       "      <th></th>\n",
       "      <th>Country</th>\n",
       "      <th>Year</th>\n",
       "      <th>AHDI</th>\n",
       "      <th>GDP Per Capita</th>\n",
       "      <th>Population</th>\n",
       "    </tr>\n",
       "  </thead>\n",
       "  <tbody>\n",
       "    <tr>\n",
       "      <th>9051</th>\n",
       "      <td>Canada</td>\n",
       "      <td>2000</td>\n",
       "      <td>0.725572</td>\n",
       "      <td>36942.562</td>\n",
       "      <td>30683316.0</td>\n",
       "    </tr>\n",
       "  </tbody>\n",
       "</table>\n",
       "</div>"
      ],
      "text/plain": [
       "     Country  Year      AHDI  GDP Per Capita  Population\n",
       "9051  Canada  2000  0.725572       36942.562  30683316.0"
      ]
     },
     "execution_count": 21,
     "metadata": {},
     "output_type": "execute_result"
    }
   ],
   "source": [
    "# Rename the columns to appropriate names\n",
    "hdi_population = hdi_population.rename(columns = {\"Entity\" : \"Country\", \n",
    "                                                  \"Augmented Human Development Index (AHDI)\" : \"AHDI\", \n",
    "                                                  \"GDP per capita\" : \"GDP Per Capita\", \n",
    "                                                  \"Population (historical estimates)\" : \"Population\"})\n",
    "hdi_population.head(1)"
   ]
  },
  {
   "cell_type": "code",
   "execution_count": 22,
   "id": "33d23e88-c2f3-46c7-9abf-5cfebf9a3c00",
   "metadata": {
    "tags": []
   },
   "outputs": [
    {
     "name": "stdout",
     "output_type": "stream",
     "text": [
      "There are 63 rows remaining in the Human Development/Population dataset \n",
      "\n"
     ]
    }
   ],
   "source": [
    "print(f\"There are {hdi_population.shape[0]} rows remaining in the Human Development/Population dataset \\n\")"
   ]
  },
  {
   "cell_type": "code",
   "execution_count": 23,
   "id": "35fb7f0a-12c0-4b54-bd12-8d890093dbc0",
   "metadata": {
    "tags": []
   },
   "outputs": [
    {
     "data": {
      "text/plain": [
       "63"
      ]
     },
     "execution_count": 23,
     "metadata": {},
     "output_type": "execute_result"
    }
   ],
   "source": [
    "# Check that the count is 1 for each 'Year'-'Country' pair for the primary key of Socio-Economic Indicators\n",
    "pair_counts = hdi_population.groupby(['Year', 'Country']).size()\n",
    "\n",
    "# Check that there is count of 1 for each 'Year' - 'Country' pair in this dataset\n",
    "sum(pair_counts.values == 1)"
   ]
  },
  {
   "cell_type": "code",
   "execution_count": 25,
   "id": "f8847995-8fe5-494b-a0b6-dd8ddbc3bbe2",
   "metadata": {
    "tags": []
   },
   "outputs": [
    {
     "data": {
      "text/plain": [
       "Country            0\n",
       "Year               0\n",
       "AHDI              48\n",
       "GDP Per Capita     6\n",
       "Population         0\n",
       "dtype: int64"
      ]
     },
     "execution_count": 25,
     "metadata": {},
     "output_type": "execute_result"
    }
   ],
   "source": [
    "# Includes some missing data in dataset\n",
    "# This is okay since SQL will take care of it\n",
    "hdi_population.isnull().sum()"
   ]
  },
  {
   "cell_type": "markdown",
   "id": "a2e81359-69a8-41e3-8d07-c1c5c0ec6369",
   "metadata": {},
   "source": [
    "## 3 : Disasters Dataset"
   ]
  },
  {
   "cell_type": "code",
   "execution_count": 26,
   "id": "5916f9a0-d2ec-469f-8129-983853601f49",
   "metadata": {
    "tags": []
   },
   "outputs": [
    {
     "data": {
      "text/html": [
       "<div>\n",
       "<style scoped>\n",
       "    .dataframe tbody tr th:only-of-type {\n",
       "        vertical-align: middle;\n",
       "    }\n",
       "\n",
       "    .dataframe tbody tr th {\n",
       "        vertical-align: top;\n",
       "    }\n",
       "\n",
       "    .dataframe thead th {\n",
       "        text-align: right;\n",
       "    }\n",
       "</style>\n",
       "<table border=\"1\" class=\"dataframe\">\n",
       "  <thead>\n",
       "    <tr style=\"text-align: right;\">\n",
       "      <th></th>\n",
       "      <th>Dis No</th>\n",
       "      <th>Year</th>\n",
       "      <th>Seq</th>\n",
       "      <th>Disaster Group</th>\n",
       "      <th>Disaster Subgroup</th>\n",
       "      <th>Disaster Type</th>\n",
       "      <th>Disaster Subtype</th>\n",
       "      <th>Disaster Subsubtype</th>\n",
       "      <th>Event Name</th>\n",
       "      <th>Entry Criteria</th>\n",
       "      <th>...</th>\n",
       "      <th>End Day</th>\n",
       "      <th>Total Deaths</th>\n",
       "      <th>No Injured</th>\n",
       "      <th>No Affected</th>\n",
       "      <th>No Homeless</th>\n",
       "      <th>Total Affected</th>\n",
       "      <th>Reconstruction Costs ('000 US$)</th>\n",
       "      <th>Insured Damages ('000 US$)</th>\n",
       "      <th>Total Damages ('000 US$)</th>\n",
       "      <th>CPI</th>\n",
       "    </tr>\n",
       "  </thead>\n",
       "  <tbody>\n",
       "    <tr>\n",
       "      <th>0</th>\n",
       "      <td>1900-9002-CPV</td>\n",
       "      <td>1900</td>\n",
       "      <td>9002</td>\n",
       "      <td>Natural</td>\n",
       "      <td>Climatological</td>\n",
       "      <td>Drought</td>\n",
       "      <td>Drought</td>\n",
       "      <td>NaN</td>\n",
       "      <td>NaN</td>\n",
       "      <td>NaN</td>\n",
       "      <td>...</td>\n",
       "      <td>NaN</td>\n",
       "      <td>11000.0</td>\n",
       "      <td>NaN</td>\n",
       "      <td>NaN</td>\n",
       "      <td>NaN</td>\n",
       "      <td>NaN</td>\n",
       "      <td>NaN</td>\n",
       "      <td>NaN</td>\n",
       "      <td>NaN</td>\n",
       "      <td>3.261389</td>\n",
       "    </tr>\n",
       "    <tr>\n",
       "      <th>1</th>\n",
       "      <td>1900-9001-IND</td>\n",
       "      <td>1900</td>\n",
       "      <td>9001</td>\n",
       "      <td>Natural</td>\n",
       "      <td>Climatological</td>\n",
       "      <td>Drought</td>\n",
       "      <td>Drought</td>\n",
       "      <td>NaN</td>\n",
       "      <td>NaN</td>\n",
       "      <td>NaN</td>\n",
       "      <td>...</td>\n",
       "      <td>NaN</td>\n",
       "      <td>1250000.0</td>\n",
       "      <td>NaN</td>\n",
       "      <td>NaN</td>\n",
       "      <td>NaN</td>\n",
       "      <td>NaN</td>\n",
       "      <td>NaN</td>\n",
       "      <td>NaN</td>\n",
       "      <td>NaN</td>\n",
       "      <td>3.261389</td>\n",
       "    </tr>\n",
       "    <tr>\n",
       "      <th>2</th>\n",
       "      <td>1902-0012-GTM</td>\n",
       "      <td>1902</td>\n",
       "      <td>12</td>\n",
       "      <td>Natural</td>\n",
       "      <td>Geophysical</td>\n",
       "      <td>Earthquake</td>\n",
       "      <td>Ground movement</td>\n",
       "      <td>NaN</td>\n",
       "      <td>NaN</td>\n",
       "      <td>Kill</td>\n",
       "      <td>...</td>\n",
       "      <td>18.0</td>\n",
       "      <td>2000.0</td>\n",
       "      <td>NaN</td>\n",
       "      <td>NaN</td>\n",
       "      <td>NaN</td>\n",
       "      <td>NaN</td>\n",
       "      <td>NaN</td>\n",
       "      <td>NaN</td>\n",
       "      <td>25000.0</td>\n",
       "      <td>3.391845</td>\n",
       "    </tr>\n",
       "    <tr>\n",
       "      <th>3</th>\n",
       "      <td>1902-0003-GTM</td>\n",
       "      <td>1902</td>\n",
       "      <td>3</td>\n",
       "      <td>Natural</td>\n",
       "      <td>Geophysical</td>\n",
       "      <td>Volcanic activity</td>\n",
       "      <td>Ash fall</td>\n",
       "      <td>NaN</td>\n",
       "      <td>Santa Maria</td>\n",
       "      <td>Kill</td>\n",
       "      <td>...</td>\n",
       "      <td>8.0</td>\n",
       "      <td>1000.0</td>\n",
       "      <td>NaN</td>\n",
       "      <td>NaN</td>\n",
       "      <td>NaN</td>\n",
       "      <td>NaN</td>\n",
       "      <td>NaN</td>\n",
       "      <td>NaN</td>\n",
       "      <td>NaN</td>\n",
       "      <td>3.391845</td>\n",
       "    </tr>\n",
       "    <tr>\n",
       "      <th>4</th>\n",
       "      <td>1902-0010-GTM</td>\n",
       "      <td>1902</td>\n",
       "      <td>10</td>\n",
       "      <td>Natural</td>\n",
       "      <td>Geophysical</td>\n",
       "      <td>Volcanic activity</td>\n",
       "      <td>Ash fall</td>\n",
       "      <td>NaN</td>\n",
       "      <td>Santa Maria</td>\n",
       "      <td>Kill</td>\n",
       "      <td>...</td>\n",
       "      <td>24.0</td>\n",
       "      <td>6000.0</td>\n",
       "      <td>NaN</td>\n",
       "      <td>NaN</td>\n",
       "      <td>NaN</td>\n",
       "      <td>NaN</td>\n",
       "      <td>NaN</td>\n",
       "      <td>NaN</td>\n",
       "      <td>NaN</td>\n",
       "      <td>3.391845</td>\n",
       "    </tr>\n",
       "  </tbody>\n",
       "</table>\n",
       "<p>5 rows × 43 columns</p>\n",
       "</div>"
      ],
      "text/plain": [
       "          Dis No  Year   Seq Disaster Group Disaster Subgroup  \\\n",
       "0  1900-9002-CPV  1900  9002        Natural    Climatological   \n",
       "1  1900-9001-IND  1900  9001        Natural    Climatological   \n",
       "2  1902-0012-GTM  1902    12        Natural       Geophysical   \n",
       "3  1902-0003-GTM  1902     3        Natural       Geophysical   \n",
       "4  1902-0010-GTM  1902    10        Natural       Geophysical   \n",
       "\n",
       "       Disaster Type Disaster Subtype Disaster Subsubtype   Event Name  \\\n",
       "0            Drought          Drought                 NaN          NaN   \n",
       "1            Drought          Drought                 NaN          NaN   \n",
       "2         Earthquake  Ground movement                 NaN          NaN   \n",
       "3  Volcanic activity         Ash fall                 NaN  Santa Maria   \n",
       "4  Volcanic activity         Ash fall                 NaN  Santa Maria   \n",
       "\n",
       "  Entry Criteria  ... End Day Total Deaths No Injured No Affected No Homeless  \\\n",
       "0            NaN  ...     NaN      11000.0        NaN         NaN         NaN   \n",
       "1            NaN  ...     NaN    1250000.0        NaN         NaN         NaN   \n",
       "2           Kill  ...    18.0       2000.0        NaN         NaN         NaN   \n",
       "3           Kill  ...     8.0       1000.0        NaN         NaN         NaN   \n",
       "4           Kill  ...    24.0       6000.0        NaN         NaN         NaN   \n",
       "\n",
       "  Total Affected Reconstruction Costs ('000 US$) Insured Damages ('000 US$)  \\\n",
       "0            NaN                             NaN                        NaN   \n",
       "1            NaN                             NaN                        NaN   \n",
       "2            NaN                             NaN                        NaN   \n",
       "3            NaN                             NaN                        NaN   \n",
       "4            NaN                             NaN                        NaN   \n",
       "\n",
       "  Total Damages ('000 US$)       CPI  \n",
       "0                      NaN  3.261389  \n",
       "1                      NaN  3.261389  \n",
       "2                  25000.0  3.391845  \n",
       "3                      NaN  3.391845  \n",
       "4                      NaN  3.391845  \n",
       "\n",
       "[5 rows x 43 columns]"
      ]
     },
     "execution_count": 26,
     "metadata": {},
     "output_type": "execute_result"
    }
   ],
   "source": [
    "# Load in the original disasters dataset\n",
    "disasters = pd.read_csv(\"data/natural_disaster_data.csv\")\n",
    "disasters.head()"
   ]
  },
  {
   "cell_type": "code",
   "execution_count": 27,
   "id": "c345e019-ed4c-4fda-98b1-8d43bfb2d08a",
   "metadata": {
    "tags": []
   },
   "outputs": [
    {
     "data": {
      "text/html": [
       "<div>\n",
       "<style scoped>\n",
       "    .dataframe tbody tr th:only-of-type {\n",
       "        vertical-align: middle;\n",
       "    }\n",
       "\n",
       "    .dataframe tbody tr th {\n",
       "        vertical-align: top;\n",
       "    }\n",
       "\n",
       "    .dataframe thead th {\n",
       "        text-align: right;\n",
       "    }\n",
       "</style>\n",
       "<table border=\"1\" class=\"dataframe\">\n",
       "  <thead>\n",
       "    <tr style=\"text-align: right;\">\n",
       "      <th></th>\n",
       "      <th>Dis No</th>\n",
       "      <th>Year</th>\n",
       "      <th>Seq</th>\n",
       "      <th>Disaster Group</th>\n",
       "      <th>Disaster Subgroup</th>\n",
       "      <th>Disaster Type</th>\n",
       "      <th>Disaster Subtype</th>\n",
       "      <th>Disaster Subsubtype</th>\n",
       "      <th>Event Name</th>\n",
       "      <th>Entry Criteria</th>\n",
       "      <th>...</th>\n",
       "      <th>End Day</th>\n",
       "      <th>Total Deaths</th>\n",
       "      <th>No Injured</th>\n",
       "      <th>No Affected</th>\n",
       "      <th>No Homeless</th>\n",
       "      <th>Total Affected</th>\n",
       "      <th>Reconstruction Costs ('000 US$)</th>\n",
       "      <th>Insured Damages ('000 US$)</th>\n",
       "      <th>Total Damages ('000 US$)</th>\n",
       "      <th>CPI</th>\n",
       "    </tr>\n",
       "  </thead>\n",
       "  <tbody>\n",
       "    <tr>\n",
       "      <th>5</th>\n",
       "      <td>1903-0006-CAN</td>\n",
       "      <td>1903</td>\n",
       "      <td>6</td>\n",
       "      <td>Natural</td>\n",
       "      <td>Geophysical</td>\n",
       "      <td>Mass movement (dry)</td>\n",
       "      <td>Rockfall</td>\n",
       "      <td>NaN</td>\n",
       "      <td>NaN</td>\n",
       "      <td>Kill</td>\n",
       "      <td>...</td>\n",
       "      <td>29.0</td>\n",
       "      <td>76.0</td>\n",
       "      <td>23.0</td>\n",
       "      <td>NaN</td>\n",
       "      <td>NaN</td>\n",
       "      <td>23.0</td>\n",
       "      <td>NaN</td>\n",
       "      <td>NaN</td>\n",
       "      <td>NaN</td>\n",
       "      <td>3.5223</td>\n",
       "    </tr>\n",
       "  </tbody>\n",
       "</table>\n",
       "<p>1 rows × 43 columns</p>\n",
       "</div>"
      ],
      "text/plain": [
       "          Dis No  Year  Seq Disaster Group Disaster Subgroup  \\\n",
       "5  1903-0006-CAN  1903    6        Natural       Geophysical   \n",
       "\n",
       "         Disaster Type Disaster Subtype Disaster Subsubtype Event Name  \\\n",
       "5  Mass movement (dry)         Rockfall                 NaN        NaN   \n",
       "\n",
       "  Entry Criteria  ... End Day Total Deaths No Injured No Affected No Homeless  \\\n",
       "5           Kill  ...    29.0         76.0       23.0         NaN         NaN   \n",
       "\n",
       "  Total Affected Reconstruction Costs ('000 US$) Insured Damages ('000 US$)  \\\n",
       "5           23.0                             NaN                        NaN   \n",
       "\n",
       "  Total Damages ('000 US$)     CPI  \n",
       "5                      NaN  3.5223  \n",
       "\n",
       "[1 rows x 43 columns]"
      ]
     },
     "execution_count": 27,
     "metadata": {},
     "output_type": "execute_result"
    }
   ],
   "source": [
    "# Filter for only the biggest North American countries (Canada, USA, Mexico)\n",
    "disasters = disasters[(disasters['Country'].isin(filtered_countries))]\n",
    "disasters.head(1)"
   ]
  },
  {
   "cell_type": "code",
   "execution_count": 28,
   "id": "72358cfb-28a3-446c-aff4-595cffd5175f",
   "metadata": {
    "tags": []
   },
   "outputs": [
    {
     "data": {
      "text/html": [
       "<div>\n",
       "<style scoped>\n",
       "    .dataframe tbody tr th:only-of-type {\n",
       "        vertical-align: middle;\n",
       "    }\n",
       "\n",
       "    .dataframe tbody tr th {\n",
       "        vertical-align: top;\n",
       "    }\n",
       "\n",
       "    .dataframe thead th {\n",
       "        text-align: right;\n",
       "    }\n",
       "</style>\n",
       "<table border=\"1\" class=\"dataframe\">\n",
       "  <thead>\n",
       "    <tr style=\"text-align: right;\">\n",
       "      <th></th>\n",
       "      <th>Dis No</th>\n",
       "      <th>Year</th>\n",
       "      <th>Seq</th>\n",
       "      <th>Disaster Group</th>\n",
       "      <th>Disaster Subgroup</th>\n",
       "      <th>Disaster Type</th>\n",
       "      <th>Disaster Subtype</th>\n",
       "      <th>Disaster Subsubtype</th>\n",
       "      <th>Event Name</th>\n",
       "      <th>Entry Criteria</th>\n",
       "      <th>...</th>\n",
       "      <th>End Day</th>\n",
       "      <th>Total Deaths</th>\n",
       "      <th>No Injured</th>\n",
       "      <th>No Affected</th>\n",
       "      <th>No Homeless</th>\n",
       "      <th>Total Affected</th>\n",
       "      <th>Reconstruction Costs ('000 US$)</th>\n",
       "      <th>Insured Damages ('000 US$)</th>\n",
       "      <th>Total Damages ('000 US$)</th>\n",
       "      <th>CPI</th>\n",
       "    </tr>\n",
       "  </thead>\n",
       "  <tbody>\n",
       "    <tr>\n",
       "      <th>6668</th>\n",
       "      <td>2000-0420-CAN</td>\n",
       "      <td>2000</td>\n",
       "      <td>420</td>\n",
       "      <td>Natural</td>\n",
       "      <td>Meteorological</td>\n",
       "      <td>Storm</td>\n",
       "      <td>Convective storm</td>\n",
       "      <td>Tornado</td>\n",
       "      <td>NaN</td>\n",
       "      <td>Kill</td>\n",
       "      <td>...</td>\n",
       "      <td>14.0</td>\n",
       "      <td>11.0</td>\n",
       "      <td>140.0</td>\n",
       "      <td>NaN</td>\n",
       "      <td>700.0</td>\n",
       "      <td>840.0</td>\n",
       "      <td>NaN</td>\n",
       "      <td>10000.0</td>\n",
       "      <td>13000.0</td>\n",
       "      <td>67.355759</td>\n",
       "    </tr>\n",
       "  </tbody>\n",
       "</table>\n",
       "<p>1 rows × 43 columns</p>\n",
       "</div>"
      ],
      "text/plain": [
       "             Dis No  Year  Seq Disaster Group Disaster Subgroup Disaster Type  \\\n",
       "6668  2000-0420-CAN  2000  420        Natural    Meteorological         Storm   \n",
       "\n",
       "      Disaster Subtype Disaster Subsubtype Event Name Entry Criteria  ...  \\\n",
       "6668  Convective storm             Tornado        NaN           Kill  ...   \n",
       "\n",
       "     End Day Total Deaths No Injured No Affected No Homeless Total Affected  \\\n",
       "6668    14.0         11.0      140.0         NaN       700.0          840.0   \n",
       "\n",
       "     Reconstruction Costs ('000 US$) Insured Damages ('000 US$)  \\\n",
       "6668                             NaN                    10000.0   \n",
       "\n",
       "     Total Damages ('000 US$)        CPI  \n",
       "6668                  13000.0  67.355759  \n",
       "\n",
       "[1 rows x 43 columns]"
      ]
     },
     "execution_count": 28,
     "metadata": {},
     "output_type": "execute_result"
    }
   ],
   "source": [
    "# Filter rows to only keep years between 2000 and 2020\n",
    "disasters = disasters[(disasters['Year'] >= 2000) & (disasters['Year'] <= 2020)]\n",
    "disasters.head(1)"
   ]
  },
  {
   "cell_type": "code",
   "execution_count": 29,
   "id": "d2400f8a-0163-44fd-be10-a5b528aa3541",
   "metadata": {
    "tags": []
   },
   "outputs": [
    {
     "data": {
      "text/html": [
       "<div>\n",
       "<style scoped>\n",
       "    .dataframe tbody tr th:only-of-type {\n",
       "        vertical-align: middle;\n",
       "    }\n",
       "\n",
       "    .dataframe tbody tr th {\n",
       "        vertical-align: top;\n",
       "    }\n",
       "\n",
       "    .dataframe thead th {\n",
       "        text-align: right;\n",
       "    }\n",
       "</style>\n",
       "<table border=\"1\" class=\"dataframe\">\n",
       "  <thead>\n",
       "    <tr style=\"text-align: right;\">\n",
       "      <th></th>\n",
       "      <th>Dis No</th>\n",
       "      <th>Year</th>\n",
       "      <th>Disaster Subgroup</th>\n",
       "      <th>Disaster Type</th>\n",
       "      <th>Disaster Subtype</th>\n",
       "      <th>Country</th>\n",
       "      <th>Start Month</th>\n",
       "      <th>Total Deaths</th>\n",
       "      <th>No Injured</th>\n",
       "      <th>No Affected</th>\n",
       "      <th>No Homeless</th>\n",
       "      <th>Total Affected</th>\n",
       "      <th>Insured Damages ('000 US$)</th>\n",
       "      <th>Total Damages ('000 US$)</th>\n",
       "      <th>CPI</th>\n",
       "    </tr>\n",
       "  </thead>\n",
       "  <tbody>\n",
       "    <tr>\n",
       "      <th>6668</th>\n",
       "      <td>2000-0420-CAN</td>\n",
       "      <td>2000</td>\n",
       "      <td>Meteorological</td>\n",
       "      <td>Storm</td>\n",
       "      <td>Convective storm</td>\n",
       "      <td>Canada</td>\n",
       "      <td>7.0</td>\n",
       "      <td>11.0</td>\n",
       "      <td>140.0</td>\n",
       "      <td>NaN</td>\n",
       "      <td>700.0</td>\n",
       "      <td>840.0</td>\n",
       "      <td>10000.0</td>\n",
       "      <td>13000.0</td>\n",
       "      <td>67.355759</td>\n",
       "    </tr>\n",
       "  </tbody>\n",
       "</table>\n",
       "</div>"
      ],
      "text/plain": [
       "             Dis No  Year Disaster Subgroup Disaster Type  Disaster Subtype  \\\n",
       "6668  2000-0420-CAN  2000    Meteorological         Storm  Convective storm   \n",
       "\n",
       "     Country  Start Month  Total Deaths  No Injured  No Affected  No Homeless  \\\n",
       "6668  Canada          7.0          11.0       140.0          NaN        700.0   \n",
       "\n",
       "      Total Affected  Insured Damages ('000 US$)  Total Damages ('000 US$)  \\\n",
       "6668           840.0                     10000.0                   13000.0   \n",
       "\n",
       "            CPI  \n",
       "6668  67.355759  "
      ]
     },
     "execution_count": 29,
     "metadata": {},
     "output_type": "execute_result"
    }
   ],
   "source": [
    "# Keep only important columns from the dataset \n",
    "disasters_columns = [\"Dis No\", \"Year\", \"Disaster Subgroup\", \"Disaster Type\", \"Disaster Subtype\",\n",
    "                     \"Country\", \"Start Month\",\n",
    "                     \"Total Deaths\", \"No Injured\", \"No Affected\", \"No Homeless\", \"Total Affected\",\n",
    "                     \"Insured Damages ('000 US$)\", \"Total Damages ('000 US$)\", \"CPI\"]\n",
    "\n",
    "disasters = disasters[disasters_columns]\n",
    "disasters.head(1)"
   ]
  },
  {
   "cell_type": "code",
   "execution_count": 30,
   "id": "bca95297-a921-4161-b029-e36389233be6",
   "metadata": {
    "tags": []
   },
   "outputs": [
    {
     "data": {
      "text/html": [
       "<div>\n",
       "<style scoped>\n",
       "    .dataframe tbody tr th:only-of-type {\n",
       "        vertical-align: middle;\n",
       "    }\n",
       "\n",
       "    .dataframe tbody tr th {\n",
       "        vertical-align: top;\n",
       "    }\n",
       "\n",
       "    .dataframe thead th {\n",
       "        text-align: right;\n",
       "    }\n",
       "</style>\n",
       "<table border=\"1\" class=\"dataframe\">\n",
       "  <thead>\n",
       "    <tr style=\"text-align: right;\">\n",
       "      <th></th>\n",
       "      <th>Dis No</th>\n",
       "      <th>Year</th>\n",
       "      <th>Disaster Subgroup</th>\n",
       "      <th>Disaster Type</th>\n",
       "      <th>Disaster Subtype</th>\n",
       "      <th>Country</th>\n",
       "      <th>Month</th>\n",
       "      <th>Total Deaths</th>\n",
       "      <th># Injured</th>\n",
       "      <th># Affected</th>\n",
       "      <th># Homeless</th>\n",
       "      <th>Total Affected</th>\n",
       "      <th>Insured Damages</th>\n",
       "      <th>Total Damages</th>\n",
       "      <th>CPI</th>\n",
       "    </tr>\n",
       "  </thead>\n",
       "  <tbody>\n",
       "    <tr>\n",
       "      <th>6668</th>\n",
       "      <td>2000-0420-CAN</td>\n",
       "      <td>2000</td>\n",
       "      <td>Meteorological</td>\n",
       "      <td>Storm</td>\n",
       "      <td>Convective storm</td>\n",
       "      <td>Canada</td>\n",
       "      <td>7.0</td>\n",
       "      <td>11.0</td>\n",
       "      <td>140.0</td>\n",
       "      <td>NaN</td>\n",
       "      <td>700.0</td>\n",
       "      <td>840.0</td>\n",
       "      <td>10000.0</td>\n",
       "      <td>13000.0</td>\n",
       "      <td>67.355759</td>\n",
       "    </tr>\n",
       "  </tbody>\n",
       "</table>\n",
       "</div>"
      ],
      "text/plain": [
       "             Dis No  Year Disaster Subgroup Disaster Type  Disaster Subtype  \\\n",
       "6668  2000-0420-CAN  2000    Meteorological         Storm  Convective storm   \n",
       "\n",
       "     Country  Month  Total Deaths  # Injured  # Affected  # Homeless  \\\n",
       "6668  Canada    7.0          11.0      140.0         NaN       700.0   \n",
       "\n",
       "      Total Affected  Insured Damages  Total Damages        CPI  \n",
       "6668           840.0          10000.0        13000.0  67.355759  "
      ]
     },
     "execution_count": 30,
     "metadata": {},
     "output_type": "execute_result"
    }
   ],
   "source": [
    "# Rename the columns to appropriate names\n",
    "disasters = disasters.rename(columns = {\"Start Month\" : \"Month\",\n",
    "                                        \"No Injured\" : \"# Injured\", \n",
    "                                        \"No Affected\" : \"# Affected\", \n",
    "                                        \"No Homeless\" : \"# Homeless\", \n",
    "                                        \"Insured Damages ('000 US$)\" : \"Insured Damages\", \n",
    "                                        \"Total Damages ('000 US$)\" : \"Total Damages\"})\n",
    "disasters.head(1)"
   ]
  },
  {
   "cell_type": "code",
   "execution_count": 31,
   "id": "5d575193-1958-4234-9f50-2334c05088b7",
   "metadata": {
    "tags": []
   },
   "outputs": [
    {
     "data": {
      "text/html": [
       "<div>\n",
       "<style scoped>\n",
       "    .dataframe tbody tr th:only-of-type {\n",
       "        vertical-align: middle;\n",
       "    }\n",
       "\n",
       "    .dataframe tbody tr th {\n",
       "        vertical-align: top;\n",
       "    }\n",
       "\n",
       "    .dataframe thead th {\n",
       "        text-align: right;\n",
       "    }\n",
       "</style>\n",
       "<table border=\"1\" class=\"dataframe\">\n",
       "  <thead>\n",
       "    <tr style=\"text-align: right;\">\n",
       "      <th></th>\n",
       "      <th>Dis No</th>\n",
       "      <th>Country</th>\n",
       "      <th>Year</th>\n",
       "      <th>Month</th>\n",
       "      <th>Disaster Subgroup</th>\n",
       "      <th>Disaster Type</th>\n",
       "      <th>Disaster Subtype</th>\n",
       "      <th>Total Affected</th>\n",
       "      <th>Total Deaths</th>\n",
       "      <th># Injured</th>\n",
       "      <th># Affected</th>\n",
       "      <th># Homeless</th>\n",
       "      <th>Total Damages</th>\n",
       "      <th>Insured Damages</th>\n",
       "      <th>CPI</th>\n",
       "    </tr>\n",
       "  </thead>\n",
       "  <tbody>\n",
       "    <tr>\n",
       "      <th>6668</th>\n",
       "      <td>2000-0420-CAN</td>\n",
       "      <td>Canada</td>\n",
       "      <td>2000</td>\n",
       "      <td>7.0</td>\n",
       "      <td>Meteorological</td>\n",
       "      <td>Storm</td>\n",
       "      <td>Convective storm</td>\n",
       "      <td>840.0</td>\n",
       "      <td>11.0</td>\n",
       "      <td>140.0</td>\n",
       "      <td>NaN</td>\n",
       "      <td>700.0</td>\n",
       "      <td>13000.0</td>\n",
       "      <td>10000.0</td>\n",
       "      <td>67.355759</td>\n",
       "    </tr>\n",
       "  </tbody>\n",
       "</table>\n",
       "</div>"
      ],
      "text/plain": [
       "             Dis No Country  Year  Month Disaster Subgroup Disaster Type  \\\n",
       "6668  2000-0420-CAN  Canada  2000    7.0    Meteorological         Storm   \n",
       "\n",
       "      Disaster Subtype  Total Affected  Total Deaths  # Injured  # Affected  \\\n",
       "6668  Convective storm           840.0          11.0      140.0         NaN   \n",
       "\n",
       "      # Homeless  Total Damages  Insured Damages        CPI  \n",
       "6668       700.0        13000.0          10000.0  67.355759  "
      ]
     },
     "execution_count": 31,
     "metadata": {},
     "output_type": "execute_result"
    }
   ],
   "source": [
    "# Reorder the columns with consistent ordering with schema\n",
    "order = ['Dis No', 'Country', 'Year', 'Month', 'Disaster Subgroup', 'Disaster Type', 'Disaster Subtype', \n",
    "         'Total Affected', 'Total Deaths', '# Injured', '# Affected', '# Homeless', 'Total Damages', \n",
    "         'Insured Damages', 'CPI']\n",
    "\n",
    "disasters = disasters[order]\n",
    "disasters.head(1)"
   ]
  },
  {
   "cell_type": "code",
   "execution_count": 32,
   "id": "a4f955ae-5ec2-4b72-b522-4cc64ed651a3",
   "metadata": {
    "tags": []
   },
   "outputs": [
    {
     "data": {
      "text/plain": [
       "array(['Canada', 'Mexico', 'United States of America (the)'], dtype=object)"
      ]
     },
     "execution_count": 32,
     "metadata": {},
     "output_type": "execute_result"
    }
   ],
   "source": [
    "# Print the unique values of the 'Country' column\n",
    "disasters['Country'].unique()"
   ]
  },
  {
   "cell_type": "code",
   "execution_count": 33,
   "id": "0084a702-6a00-4d39-8d9b-241e89bc40ae",
   "metadata": {
    "tags": []
   },
   "outputs": [
    {
     "data": {
      "text/plain": [
       "array(['Canada', 'Mexico', 'United States'], dtype=object)"
      ]
     },
     "execution_count": 33,
     "metadata": {},
     "output_type": "execute_result"
    }
   ],
   "source": [
    "# Change 'United States of America (the)' to 'United States'\n",
    "# Create a dictionary to map country name to its version\n",
    "country_dict = {'United States of America (the)' : 'United States',\n",
    "                'Mexico' : 'Mexico', \n",
    "                'Canada' : 'Canada'}\n",
    "\n",
    "# Replace the country names with their new equivalents\n",
    "disasters['Country'] = disasters['Country'].map(country_dict)\n",
    "disasters['Country'].unique()"
   ]
  },
  {
   "cell_type": "code",
   "execution_count": 34,
   "id": "18c4c0dd-4f94-4d16-a5b4-fb5660973b6a",
   "metadata": {
    "tags": []
   },
   "outputs": [
    {
     "data": {
      "text/plain": [
       "array([ 7.,  2.,  6.,  9.,  8., 12.,  5., 10.,  1., 11.,  3.,  4.])"
      ]
     },
     "execution_count": 34,
     "metadata": {},
     "output_type": "execute_result"
    }
   ],
   "source": [
    "# Print the unique values of the 'Month' column\n",
    "disasters['Month'].unique()"
   ]
  },
  {
   "cell_type": "code",
   "execution_count": 35,
   "id": "cdac34ec-3c11-4c0a-82ce-0991887032f4",
   "metadata": {
    "tags": []
   },
   "outputs": [
    {
     "data": {
      "text/plain": [
       "array(['Jul', 'Feb', 'Jun', 'Sept', 'Aug', 'Dec', 'May', 'Oct', 'Jan',\n",
       "       'Nov', 'Mar', 'Apr'], dtype=object)"
      ]
     },
     "execution_count": 35,
     "metadata": {},
     "output_type": "execute_result"
    }
   ],
   "source": [
    "# Change the Month column from numerical encoding to names of the months\n",
    "# Create a dictionary to map month # to month name\n",
    "month_dict = {1.0 : \"Jan\", 2.0 : \"Feb\", 3.0 : \"Mar\", 4.0 : \"Apr\", 5.0 : \"May\", 6.0 : \"Jun\", \n",
    "              7.0 : \"Jul\", 8.0 : \"Aug\", 9.0 : \"Sept\", 10.0 : \"Oct\", 11.0 : \"Nov\", 12.0 : \"Dec\"}\n",
    "\n",
    "# Replace the month # with their equivalent names\n",
    "disasters['Month'] = disasters['Month'].map(month_dict)\n",
    "disasters['Month'].unique()"
   ]
  },
  {
   "cell_type": "code",
   "execution_count": 36,
   "id": "e30ddb80-7239-4ca1-962e-7bc97c36bf3e",
   "metadata": {
    "tags": []
   },
   "outputs": [
    {
     "data": {
      "text/plain": [
       "Dis No                 0\n",
       "Country                0\n",
       "Year                   0\n",
       "Month                  0\n",
       "Disaster Subgroup      0\n",
       "Disaster Type          0\n",
       "Disaster Subtype      67\n",
       "Total Affected       242\n",
       "Total Deaths         187\n",
       "# Injured            532\n",
       "# Affected           366\n",
       "# Homeless           606\n",
       "Total Damages        259\n",
       "Insured Damages      430\n",
       "CPI                   33\n",
       "dtype: int64"
      ]
     },
     "execution_count": 36,
     "metadata": {},
     "output_type": "execute_result"
    }
   ],
   "source": [
    "# Includes some missing data in dataset\n",
    "# This is okay since SQL will take care of it\n",
    "disasters.isnull().sum()"
   ]
  },
  {
   "cell_type": "code",
   "execution_count": 37,
   "id": "a216de89-b953-46a9-b910-1777536f2bb0",
   "metadata": {
    "tags": []
   },
   "outputs": [
    {
     "data": {
      "text/plain": [
       "(246, 15)"
      ]
     },
     "execution_count": 37,
     "metadata": {},
     "output_type": "execute_result"
    }
   ],
   "source": [
    "# Filter rows with entries for 'Total Damages', 'Insured Damages', 'CPI'\n",
    "disasters_subset = disasters[disasters['Total Damages'].notnull() & disasters['Insured Damages'].notnull() & disasters['CPI'].notnull()]\n",
    "disasters_subset.shape"
   ]
  },
  {
   "cell_type": "code",
   "execution_count": 39,
   "id": "d5899ef6-ab85-419d-a07c-b503d468c777",
   "metadata": {
    "tags": []
   },
   "outputs": [
    {
     "data": {
      "text/html": [
       "<div>\n",
       "<style scoped>\n",
       "    .dataframe tbody tr th:only-of-type {\n",
       "        vertical-align: middle;\n",
       "    }\n",
       "\n",
       "    .dataframe tbody tr th {\n",
       "        vertical-align: top;\n",
       "    }\n",
       "\n",
       "    .dataframe thead th {\n",
       "        text-align: right;\n",
       "    }\n",
       "</style>\n",
       "<table border=\"1\" class=\"dataframe\">\n",
       "  <thead>\n",
       "    <tr style=\"text-align: right;\">\n",
       "      <th></th>\n",
       "      <th>Dis No</th>\n",
       "      <th>Total Damages</th>\n",
       "      <th>Insured Damages</th>\n",
       "      <th>CPI</th>\n",
       "    </tr>\n",
       "  </thead>\n",
       "  <tbody>\n",
       "    <tr>\n",
       "      <th>6668</th>\n",
       "      <td>2000-0420-CAN</td>\n",
       "      <td>13000.0</td>\n",
       "      <td>10000.0</td>\n",
       "      <td>67.355759</td>\n",
       "    </tr>\n",
       "  </tbody>\n",
       "</table>\n",
       "</div>"
      ],
      "text/plain": [
       "             Dis No  Total Damages  Insured Damages        CPI\n",
       "6668  2000-0420-CAN        13000.0          10000.0  67.355759"
      ]
     },
     "execution_count": 39,
     "metadata": {},
     "output_type": "execute_result"
    }
   ],
   "source": [
    "# Keeping relevant columns\n",
    "disasters_subset = disasters_subset[['Dis No', 'Total Damages', 'Insured Damages', 'CPI']]\n",
    "disasters_subset.head(1)"
   ]
  },
  {
   "cell_type": "code",
   "execution_count": 40,
   "id": "e146e16e-f378-4784-b405-cfee790547e7",
   "metadata": {
    "tags": []
   },
   "outputs": [
    {
     "data": {
      "text/plain": [
       "Dis No             0\n",
       "Total Damages      0\n",
       "Insured Damages    0\n",
       "CPI                0\n",
       "dtype: int64"
      ]
     },
     "execution_count": 40,
     "metadata": {},
     "output_type": "execute_result"
    }
   ],
   "source": [
    "# No missing data in subset dataset\n",
    "disasters_subset.isnull().sum()"
   ]
  },
  {
   "cell_type": "markdown",
   "id": "519a5ab4-b5d1-4bb2-9663-95494c0ce93c",
   "metadata": {},
   "source": [
    "> ## Done Dataset Cleaning"
   ]
  },
  {
   "cell_type": "markdown",
   "id": "93c172d0-b9c1-4d20-a2e7-e227d9ab667a",
   "metadata": {},
   "source": [
    "<br><br><br>"
   ]
  },
  {
   "cell_type": "markdown",
   "id": "c50f0c62-41f0-459c-b686-b24c7eb3625f",
   "metadata": {},
   "source": [
    "## SQL - CREATE TABLE STATEMENTS +  GENERATING INSERT STATEMENTS"
   ]
  },
  {
   "cell_type": "markdown",
   "id": "5bfae2d3-ac2d-4411-ace5-29518e4f46b9",
   "metadata": {},
   "source": [
    "* We will now use our cleaned up data frames to generate insert statements.\n",
    "\n",
    "<br>"
   ]
  },
  {
   "cell_type": "code",
   "execution_count": 41,
   "id": "8df51df1-e231-4350-84fb-54cea449f148",
   "metadata": {
    "tags": []
   },
   "outputs": [
    {
     "data": {
      "text/html": [
       "<div>\n",
       "<style scoped>\n",
       "    .dataframe tbody tr th:only-of-type {\n",
       "        vertical-align: middle;\n",
       "    }\n",
       "\n",
       "    .dataframe tbody tr th {\n",
       "        vertical-align: top;\n",
       "    }\n",
       "\n",
       "    .dataframe thead th {\n",
       "        text-align: right;\n",
       "    }\n",
       "</style>\n",
       "<table border=\"1\" class=\"dataframe\">\n",
       "  <thead>\n",
       "    <tr style=\"text-align: right;\">\n",
       "      <th></th>\n",
       "      <th>Country</th>\n",
       "      <th>Year</th>\n",
       "      <th>Max Temperature</th>\n",
       "      <th>Avg Temperature</th>\n",
       "      <th>Max CO2 Emissions</th>\n",
       "      <th>Avg CO2 Emissions</th>\n",
       "      <th>Sea Level Rise</th>\n",
       "      <th>Precipitation</th>\n",
       "      <th>Humidity</th>\n",
       "      <th>Wind Speed</th>\n",
       "    </tr>\n",
       "  </thead>\n",
       "  <tbody>\n",
       "    <tr>\n",
       "      <th>0</th>\n",
       "      <td>Canada</td>\n",
       "      <td>2000</td>\n",
       "      <td>13.312956</td>\n",
       "      <td>8.704837</td>\n",
       "      <td>440.546108</td>\n",
       "      <td>430.252678</td>\n",
       "      <td>-0.159359</td>\n",
       "      <td>59.89413</td>\n",
       "      <td>73.853461</td>\n",
       "      <td>32.547627</td>\n",
       "    </tr>\n",
       "  </tbody>\n",
       "</table>\n",
       "</div>"
      ],
      "text/plain": [
       "  Country  Year  Max Temperature  Avg Temperature  Max CO2 Emissions  \\\n",
       "0  Canada  2000        13.312956         8.704837         440.546108   \n",
       "\n",
       "   Avg CO2 Emissions  Sea Level Rise  Precipitation   Humidity  Wind Speed  \n",
       "0         430.252678       -0.159359       59.89413  73.853461   32.547627  "
      ]
     },
     "execution_count": 41,
     "metadata": {},
     "output_type": "execute_result"
    }
   ],
   "source": [
    "climate.head(1)"
   ]
  },
  {
   "cell_type": "code",
   "execution_count": 42,
   "id": "c499a20a-e2b2-46fe-bb54-fd793fe9b483",
   "metadata": {
    "tags": []
   },
   "outputs": [
    {
     "data": {
      "text/html": [
       "<div>\n",
       "<style scoped>\n",
       "    .dataframe tbody tr th:only-of-type {\n",
       "        vertical-align: middle;\n",
       "    }\n",
       "\n",
       "    .dataframe tbody tr th {\n",
       "        vertical-align: top;\n",
       "    }\n",
       "\n",
       "    .dataframe thead th {\n",
       "        text-align: right;\n",
       "    }\n",
       "</style>\n",
       "<table border=\"1\" class=\"dataframe\">\n",
       "  <thead>\n",
       "    <tr style=\"text-align: right;\">\n",
       "      <th></th>\n",
       "      <th>Country</th>\n",
       "      <th>Year</th>\n",
       "      <th>AHDI</th>\n",
       "      <th>GDP Per Capita</th>\n",
       "      <th>Population</th>\n",
       "    </tr>\n",
       "  </thead>\n",
       "  <tbody>\n",
       "    <tr>\n",
       "      <th>9051</th>\n",
       "      <td>Canada</td>\n",
       "      <td>2000</td>\n",
       "      <td>0.725572</td>\n",
       "      <td>36942.562</td>\n",
       "      <td>30683316.0</td>\n",
       "    </tr>\n",
       "  </tbody>\n",
       "</table>\n",
       "</div>"
      ],
      "text/plain": [
       "     Country  Year      AHDI  GDP Per Capita  Population\n",
       "9051  Canada  2000  0.725572       36942.562  30683316.0"
      ]
     },
     "execution_count": 42,
     "metadata": {},
     "output_type": "execute_result"
    }
   ],
   "source": [
    "hdi_population.head(1)"
   ]
  },
  {
   "cell_type": "code",
   "execution_count": 43,
   "id": "e5e1ba71-a967-40c3-9387-9f5d89e1788d",
   "metadata": {
    "tags": []
   },
   "outputs": [
    {
     "data": {
      "text/html": [
       "<div>\n",
       "<style scoped>\n",
       "    .dataframe tbody tr th:only-of-type {\n",
       "        vertical-align: middle;\n",
       "    }\n",
       "\n",
       "    .dataframe tbody tr th {\n",
       "        vertical-align: top;\n",
       "    }\n",
       "\n",
       "    .dataframe thead th {\n",
       "        text-align: right;\n",
       "    }\n",
       "</style>\n",
       "<table border=\"1\" class=\"dataframe\">\n",
       "  <thead>\n",
       "    <tr style=\"text-align: right;\">\n",
       "      <th></th>\n",
       "      <th>Dis No</th>\n",
       "      <th>Country</th>\n",
       "      <th>Year</th>\n",
       "      <th>Month</th>\n",
       "      <th>Disaster Subgroup</th>\n",
       "      <th>Disaster Type</th>\n",
       "      <th>Disaster Subtype</th>\n",
       "      <th>Total Affected</th>\n",
       "      <th>Total Deaths</th>\n",
       "      <th># Injured</th>\n",
       "      <th># Affected</th>\n",
       "      <th># Homeless</th>\n",
       "      <th>Total Damages</th>\n",
       "      <th>Insured Damages</th>\n",
       "      <th>CPI</th>\n",
       "    </tr>\n",
       "  </thead>\n",
       "  <tbody>\n",
       "    <tr>\n",
       "      <th>6668</th>\n",
       "      <td>2000-0420-CAN</td>\n",
       "      <td>Canada</td>\n",
       "      <td>2000</td>\n",
       "      <td>Jul</td>\n",
       "      <td>Meteorological</td>\n",
       "      <td>Storm</td>\n",
       "      <td>Convective storm</td>\n",
       "      <td>840.0</td>\n",
       "      <td>11.0</td>\n",
       "      <td>140.0</td>\n",
       "      <td>NaN</td>\n",
       "      <td>700.0</td>\n",
       "      <td>13000.0</td>\n",
       "      <td>10000.0</td>\n",
       "      <td>67.355759</td>\n",
       "    </tr>\n",
       "  </tbody>\n",
       "</table>\n",
       "</div>"
      ],
      "text/plain": [
       "             Dis No Country  Year Month Disaster Subgroup Disaster Type  \\\n",
       "6668  2000-0420-CAN  Canada  2000   Jul    Meteorological         Storm   \n",
       "\n",
       "      Disaster Subtype  Total Affected  Total Deaths  # Injured  # Affected  \\\n",
       "6668  Convective storm           840.0          11.0      140.0         NaN   \n",
       "\n",
       "      # Homeless  Total Damages  Insured Damages        CPI  \n",
       "6668       700.0        13000.0          10000.0  67.355759  "
      ]
     },
     "execution_count": 43,
     "metadata": {},
     "output_type": "execute_result"
    }
   ],
   "source": [
    "disasters.head(1)"
   ]
  },
  {
   "cell_type": "code",
   "execution_count": 44,
   "id": "9eb9ab1b-5452-4812-af9e-59578a9ec92c",
   "metadata": {
    "tags": []
   },
   "outputs": [
    {
     "data": {
      "text/html": [
       "<div>\n",
       "<style scoped>\n",
       "    .dataframe tbody tr th:only-of-type {\n",
       "        vertical-align: middle;\n",
       "    }\n",
       "\n",
       "    .dataframe tbody tr th {\n",
       "        vertical-align: top;\n",
       "    }\n",
       "\n",
       "    .dataframe thead th {\n",
       "        text-align: right;\n",
       "    }\n",
       "</style>\n",
       "<table border=\"1\" class=\"dataframe\">\n",
       "  <thead>\n",
       "    <tr style=\"text-align: right;\">\n",
       "      <th></th>\n",
       "      <th>Dis No</th>\n",
       "      <th>Total Damages</th>\n",
       "      <th>Insured Damages</th>\n",
       "      <th>CPI</th>\n",
       "    </tr>\n",
       "  </thead>\n",
       "  <tbody>\n",
       "    <tr>\n",
       "      <th>6668</th>\n",
       "      <td>2000-0420-CAN</td>\n",
       "      <td>13000.0</td>\n",
       "      <td>10000.0</td>\n",
       "      <td>67.355759</td>\n",
       "    </tr>\n",
       "  </tbody>\n",
       "</table>\n",
       "</div>"
      ],
      "text/plain": [
       "             Dis No  Total Damages  Insured Damages        CPI\n",
       "6668  2000-0420-CAN        13000.0          10000.0  67.355759"
      ]
     },
     "execution_count": 44,
     "metadata": {},
     "output_type": "execute_result"
    }
   ],
   "source": [
    "disasters_subset.head(1)"
   ]
  },
  {
   "cell_type": "markdown",
   "id": "74cc695e-9b59-452c-9b9a-4d48d76b43b7",
   "metadata": {},
   "source": [
    "<br>\n",
    "\n",
    "## **Relational Schema**\n",
    "> ### Primary keys are <u>underlined</u>, foreign keys are **bolded**, candidate keys are _italicized_\n",
    "\n",
    "<br>\n",
    "\n",
    "Climate_Metrics( _<u>Country</u> , <u>Year</u>_ , Max_Temperature, Avg_Temperature, Max_CO2_Emissions, Avg_CO2_Emissions, Sea_Level_Rise, Humidity, Wind_Speed, Precipitation)\n",
    "\n",
    "<br>\n",
    "\n",
    "Socio_Economic_Indicators( _<u>Socio_Country</u> , <u>Socio_Year</u>_ , AHDI, GDP_Per_Capita, Population)\n",
    "\n",
    "<br>\n",
    "\n",
    "Natural_Disaster( _<u>Disaster_No</u>_ , **Disaster_Country, Disaster_Year,** Disaster_Month, Disaster_Subgroup, Disaster_Type, Disaster_Subtype)\n",
    "> - Disaster_Country and Disaster_Year will be foreign keys to Climate_Metrics(<u>Country</u> , <u>Year</u> )\n",
    "\n",
    "<br>\n",
    "\n",
    "Damages( _**<u>Disaster_No**</u>_, **Disaster_Country, Disaster_Year,** Total_Affected, Total_Deaths, No_Injured, No_Affected, No_Homeless)\n",
    "> - Disaster_No is the primary key and will be a foreign key to Natural_Disaster(<u>Disaster_No</u>)\n",
    "> - Disaster_Country and Disaster_Year will be foreign keys to Socio_Economic_Indicators( <u>Socio_Country</u> , <u>Socio_Year</u> )\n",
    "\n",
    "<br>\n",
    "\n",
    "Economic_Damages(_**<u>Disaster_No**</u>_, _ _Total_Damages_ _ , Insured_Damages,  CPI) \n",
    "> - Disaster_No is the primary key and foreign key to Damages\n",
    "> - Total_Damages is the partial key of Economic_Damages\n",
    "> - FOREIGN KEY (Disaster_No) REFERENCES Damages \n",
    "    - ON DELETE CASCADE\n",
    "    - ON UPDATE CASCADE  \n",
    "        * NOTE: we did not include this in our sql statments as it's not supported by Oracle\n",
    "        \n",
    "<br>  \n",
    "\n",
    "NOTE: our tables' columns for SQL DDL file are different than the data frame columns due to the database syntax requirements.\n",
    "        \n",
    "<br><br>"
   ]
  },
  {
   "cell_type": "code",
   "execution_count": 46,
   "id": "9ea397f8-c3e9-43ac-8b3c-5a995df0d9d8",
   "metadata": {
    "tags": []
   },
   "outputs": [],
   "source": [
    "sql_statement = \"\"\"\n",
    "CREATE TABLE Climate_Metrics( \n",
    "    Country_Name CHAR(20) , \n",
    "    Year_Recorded INT , \n",
    "    Max_Temperature FLOAT, \n",
    "    Avg_Temperature FLOAT, \n",
    "    Max_CO2_Emissions FLOAT, \n",
    "    Avg_CO2_Emissions FLOAT, \n",
    "    Sea_Level_Rise FLOAT, \n",
    "    Humidity FLOAT, \n",
    "    Wind_Speed FLOAT, \n",
    "    Precipitation FLOAT,\n",
    "    PRIMARY KEY (Country_Name, Year_Recorded)\n",
    ");\n",
    "\n",
    "\n",
    "CREATE TABLE Socio_Economic_Indicators(\n",
    "    Socio_Country CHAR(20) , \n",
    "    Socio_Year INT , \n",
    "    AHDI DECIMAL(10, 7), \n",
    "    GDP_Per_Capita FLOAT, \n",
    "    Population FLOAT,\n",
    "    PRIMARY KEY (Socio_Country, Socio_Year)\n",
    ");\n",
    "\n",
    "\n",
    "CREATE TABLE Natural_Disaster( \n",
    "    Disaster_No VARCHAR(50),\n",
    "    Disaster_Country CHAR(20) NOT NULL , \n",
    "    Disaster_Year INT NOT NULL,\n",
    "    Disaster_Month CHAR(20) , \n",
    "    Disaster_Subgroup CHAR(20) , \n",
    "    Disaster_Type VARCHAR(50) , \n",
    "    Disaster_Subtype VARCHAR(50) ,\n",
    "    PRIMARY KEY (Disaster_No) ,\n",
    "    FOREIGN KEY (Disaster_Country, Disaster_Year) REFERENCES Climate_Metrics(Country_Name, Year_Recorded)\n",
    ");\n",
    "\n",
    "\n",
    "CREATE TABLE Damages( \n",
    "    Disaster_No VARCHAR(50) ,\n",
    "    Disaster_Country CHAR(20) , \n",
    "    Disaster_Year INT,\n",
    "    Total_Affected FLOAT, \n",
    "    Total_Deaths FLOAT, \n",
    "    No_Injured FLOAT, \n",
    "    No_Affected FLOAT, \n",
    "    No_Homeless FLOAT,\n",
    "    PRIMARY KEY (Disaster_No) ,\n",
    "    FOREIGN KEY (Disaster_Country, Disaster_Year) REFERENCES Socio_Economic_Indicators(Socio_Country, Socio_Year),\n",
    "    FOREIGN KEY (Disaster_No) REFERENCES Natural_Disaster(Disaster_No)\n",
    "        ON DELETE CASCADE\n",
    ");\n",
    "\n",
    "\n",
    "CREATE TABLE Economic_Damages(\n",
    "    Disaster_No VARCHAR(50),\n",
    "    Total_Damages FLOAT,\n",
    "    Insured_Damages FLOAT,\n",
    "    CPI FLOAT, \n",
    "    PRIMARY KEY (Disaster_No, Total_Damages) ,\n",
    "    FOREIGN KEY (Disaster_No) REFERENCES Damages(Disaster_No)\n",
    "        ON DELETE CASCADE\n",
    ");\n",
    "\n",
    "\"\"\""
   ]
  },
  {
   "cell_type": "markdown",
   "id": "a94396e1-7e10-42ad-97ee-1a12e3088b8d",
   "metadata": {},
   "source": [
    "### Function to write to file"
   ]
  },
  {
   "cell_type": "code",
   "execution_count": 47,
   "id": "44af0ed6-720f-462d-925d-a6017cdc9eab",
   "metadata": {
    "tags": []
   },
   "outputs": [],
   "source": [
    "# Open a new file to store the sql statements\n",
    "with open(\"sql_statements.sql\", \"w\") as file:\n",
    "    file.write(sql_statement)"
   ]
  },
  {
   "cell_type": "code",
   "execution_count": 48,
   "id": "c690266a-29e7-4b65-97e6-d6930a441d49",
   "metadata": {
    "tags": []
   },
   "outputs": [],
   "source": [
    "# Function to generate INSERT statements\n",
    "\n",
    "def generate_insert_statements_from_df(df, table_name, df_columns, table_columns):\n",
    "    if len(df_columns) != len(table_columns):\n",
    "        raise ValueError(\"The length of df columns and table columns does not match.\")\n",
    "\n",
    "    insert_statements = []\n",
    "    table_columns_sql = ', '.join(table_columns)\n",
    "    \n",
    "    for index, row in df.iterrows():\n",
    "        values = []\n",
    "        for column in df_columns:\n",
    "            value = row[column]\n",
    "            # Check if the value is NaN\n",
    "            if pd.isna(value):\n",
    "                values.append(\"NULL\")\n",
    "            # Check if the value is a string\n",
    "            elif isinstance(value, str):\n",
    "                # Escape single quotes for SQL\n",
    "                escaped_value = value.replace(\"'\", \"''\")\n",
    "                values.append(f\"'{escaped_value}'\")\n",
    "            else:\n",
    "                # For non-string, non-NULL values, append the value directly\n",
    "                values.append(str(value))\n",
    "        values_sql = ', '.join(values)\n",
    "        insert_statement = f\"INSERT INTO {table_name} ({table_columns_sql}) VALUES ({values_sql});\"\n",
    "        insert_statements.append(insert_statement)\n",
    "    \n",
    "    return insert_statements\n",
    "\n",
    "\n",
    "# Function to add INSERT statements to sql file\n",
    "\n",
    "def add_insert_statements(insert_statements, file_name='sql_statements.sql'):\n",
    "    with open(file_name, 'a') as file:\n",
    "        for statement in insert_statements:\n",
    "            file.write(statement + '\\n')"
   ]
  },
  {
   "cell_type": "markdown",
   "id": "68ecca9b-8318-4bc6-87ba-2986a68cc3a1",
   "metadata": {},
   "source": [
    "### Calling the functions for each table:"
   ]
  },
  {
   "cell_type": "code",
   "execution_count": 49,
   "id": "07db8d31-a27a-44c8-8a1f-22393a560509",
   "metadata": {
    "tags": []
   },
   "outputs": [],
   "source": [
    "# Climate_Metrics table\n",
    "climate_df_cols = ['Country', 'Year', 'Max Temperature', 'Avg Temperature', 'Max CO2 Emissions', \n",
    "                'Avg CO2 Emissions', 'Sea Level Rise', 'Humidity', 'Wind Speed', 'Precipitation']\n",
    "\n",
    "climate_table_cols = ['Country_Name', 'Year_Recorded', 'Max_Temperature', 'Avg_Temperature', 'Max_CO2_Emissions', \n",
    "                'Avg_CO2_Emissions', 'Sea_Level_Rise', 'Humidity', 'Wind_Speed', 'Precipitation']\n",
    "\n",
    "\n",
    "insert_stats = generate_insert_statements_from_df(climate, 'Climate_Metrics', climate_df_cols, climate_table_cols)\n",
    "add_insert_statements(insert_stats)"
   ]
  },
  {
   "cell_type": "code",
   "execution_count": 50,
   "id": "7374c566-8c6a-4790-bfed-ecae71137873",
   "metadata": {
    "tags": []
   },
   "outputs": [],
   "source": [
    "# Socio_Economic_Indicators table\n",
    "indicator_df_cols = ['Country', 'Year', 'AHDI', 'GDP Per Capita', 'Population']\n",
    "indicator_table_cols = ['Socio_Country', 'Socio_Year', 'AHDI', 'GDP_Per_Capita', 'Population']\n",
    "\n",
    "\n",
    "insert_stats = generate_insert_statements_from_df(hdi_population, 'Socio_Economic_Indicators', indicator_df_cols, indicator_table_cols)\n",
    "add_insert_statements(insert_stats)"
   ]
  },
  {
   "cell_type": "code",
   "execution_count": 51,
   "id": "6e1243ce-df15-4e44-900d-20163de4ce5e",
   "metadata": {
    "tags": []
   },
   "outputs": [],
   "source": [
    "# Natural_Disaster table\n",
    "disasters_df_cols = ['Dis No', 'Country', 'Year', 'Month', 'Disaster Subgroup', 'Disaster Type', 'Disaster Subtype']\n",
    "disasters_table_cols = ['Disaster_No', 'Disaster_Country', 'Disaster_Year', 'Disaster_Month', 'Disaster_Subgroup', 'Disaster_Type', 'Disaster_Subtype']\n",
    "\n",
    "insert_stats = generate_insert_statements_from_df(disasters, 'Natural_Disaster', disasters_df_cols, disasters_table_cols)\n",
    "add_insert_statements(insert_stats)"
   ]
  },
  {
   "cell_type": "code",
   "execution_count": 52,
   "id": "b10dcceb-8a02-4d2d-90c7-7597565c17c5",
   "metadata": {
    "tags": []
   },
   "outputs": [],
   "source": [
    "# Damages table\n",
    "damages_df_cols = ['Dis No', 'Country', 'Year', 'Total Affected', 'Total Deaths', '# Injured', '# Affected', '# Homeless']\n",
    "damages_table_cols = ['Disaster_No', 'Disaster_Country', 'Disaster_Year', 'Total_Affected', 'Total_Deaths', 'No_Injured', 'No_Affected', 'No_Homeless']\n",
    "\n",
    "insert_stats = generate_insert_statements_from_df(disasters, 'Damages', damages_df_cols,damages_table_cols)\n",
    "add_insert_statements(insert_stats)"
   ]
  },
  {
   "cell_type": "code",
   "execution_count": 53,
   "id": "c561d56a-f081-42dc-84a8-53bfcf7de5ca",
   "metadata": {
    "tags": []
   },
   "outputs": [],
   "source": [
    "# Economic_Damages table\n",
    "economic_damages_df_cols = ['Dis No', 'Total Damages', 'Insured Damages', 'CPI']\n",
    "economic_damages_table_cols = ['Disaster_No', 'Total_Damages', 'Insured_Damages', 'CPI']\n",
    "\n",
    "insert_stats = generate_insert_statements_from_df(disasters_subset, 'Economic_Damages', economic_damages_df_cols, economic_damages_table_cols)\n",
    "add_insert_statements(insert_stats)"
   ]
  },
  {
   "cell_type": "markdown",
   "id": "ca847148-703a-4d5c-862c-f77c8ae8ff0c",
   "metadata": {},
   "source": [
    "<br><br>\n",
    "\n",
    "### CITATIONS:\n",
    "\n",
    "\n",
    "Pandas. (2024). IO tools (text, CSV, HDF5, …). Retrieved March 9, 2024, from https://pandas.pydata.org/docs/user_guide/io.html\n",
    "\n",
    "SQLServerCentral. (2023, May 5). Python 3 Script for Generating SQL INSERT Statements from CSV Data. SQLServerCentral. Retrieved March 8, 2024, from https://www.sqlservercentral.com/scripts/python-3-script-for-generating-sql-insert-statements-from-csv-data"
   ]
  },
  {
   "cell_type": "markdown",
   "id": "e841a955-ce76-4a16-bf38-dd23862885ce",
   "metadata": {},
   "source": [
    "<br><br>"
   ]
  }
 ],
 "metadata": {
  "kernelspec": {
   "display_name": "Python [conda env:cpsc330]",
   "language": "python",
   "name": "conda-env-cpsc330-py"
  },
  "language_info": {
   "codemirror_mode": {
    "name": "ipython",
    "version": 3
   },
   "file_extension": ".py",
   "mimetype": "text/x-python",
   "name": "python",
   "nbconvert_exporter": "python",
   "pygments_lexer": "ipython3",
   "version": "3.10.13"
  }
 },
 "nbformat": 4,
 "nbformat_minor": 5
}
